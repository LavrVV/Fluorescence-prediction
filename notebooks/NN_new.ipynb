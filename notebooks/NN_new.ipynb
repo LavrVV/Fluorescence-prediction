{
 "cells": [
  {
   "cell_type": "code",
   "execution_count": 1,
   "metadata": {},
   "outputs": [],
   "source": [
    "import numpy as np\n",
    "import pandas as pd\n",
    "from sklearn.model_selection import cross_validate\n",
    "from sklearn.decomposition import PCA\n",
    "from sklearn.model_selection import train_test_split\n",
    "from sklearn.metrics import accuracy_score, f1_score\n",
    "\n",
    "import sys\n",
    "import os\n",
    "import pydicom\n",
    "import pickle\n",
    "\n",
    "from PIL import Image\n",
    "\n",
    "from torch import optim\n",
    "import torch\n",
    "from torch import nn\n",
    "from torch.autograd import Variable\n",
    "from torch.utils.data import DataLoader\n",
    "\n",
    "from sklearn.linear_model import LogisticRegression\n",
    "from sklearn.utils import shuffle\n",
    "from sklearn.tree import DecisionTreeClassifier\n",
    "from sklearn.naive_bayes import GaussianNB\n",
    "from sklearn.svm import SVC\n",
    "from sklearn.linear_model import SGDClassifier\n",
    "from sklearn.gaussian_process import GaussianProcessClassifier"
   ]
  },
  {
   "cell_type": "code",
   "execution_count": 2,
   "metadata": {},
   "outputs": [],
   "source": [
    "def train(network, data, epochs, learning_rate, l2=0):\n",
    "    loss = nn.MSELoss()\n",
    "    #SGD\n",
    "    network.cuda()\n",
    "    optimizer = torch.optim.Adam(network.parameters(), lr=learning_rate, weight_decay=l2)\n",
    "    train, test = train_test_split(data)\n",
    "    train_loader = DataLoader(train, batch_size=50, shuffle=True)\n",
    "    test_loader = DataLoader(test, batch_size=50, shuffle=True)\n",
    "    res = 0\n",
    "    try:\n",
    "        for epoch in range(epochs):\n",
    "            train_losses = []\n",
    "            train_accuracies = []\n",
    "            \n",
    "            for X in train_loader:\n",
    "                X = Variable(X)\n",
    "                X = X.float()\n",
    "                X = X.cuda()\n",
    "                network.zero_grad()\n",
    "                prediction = network(X)\n",
    "                loss_batch = loss(prediction, X)\n",
    "                loss_batch.backward()\n",
    "                optimizer.step()\n",
    "                train_losses.append(loss_batch.item())\n",
    "                \n",
    "                prediction = prediction.cpu()\n",
    "                X = X.cpu()\n",
    "                \n",
    "                train_accuracies.append(np.absolute((prediction.data.numpy() - X.data.numpy())).sum()) \n",
    "            train_losses = np.mean(train_losses)\n",
    "            train_accuracies = np.mean(train_accuracies)\n",
    "            \n",
    "            \n",
    "            test_losses = []\n",
    "            test_accuracies = []\n",
    "            for X in test_loader:\n",
    "                X = Variable(X)\n",
    "                X = X.float()\n",
    "                X = X.cuda()\n",
    "                prediction = network(X)\n",
    "                loss_batch = loss(prediction, X)\n",
    "                test_losses.append(loss_batch.item())\n",
    "                \n",
    "                prediction = prediction.cpu()\n",
    "                X = X.cpu()\n",
    "                \n",
    "                test_accuracies.append(np.absolute((prediction.data.numpy() - X.data.numpy())).sum())\n",
    "            \n",
    "            test_losses = np.mean(test_losses)\n",
    "            test_accuracies = np.mean(test_accuracies)\n",
    "            \n",
    "            res = (train_losses, test_losses, train_accuracies, test_accuracies)\n",
    "            sys.stdout.write('\\rEpoch {0}... (Train/Test) MSE: {1:.3f}/{2:.3f}\\tAccuracy: {3:.3f}/{4:.3f}'.format(\n",
    "                        epoch, train_losses, test_losses,\n",
    "                        train_accuracies, test_accuracies))\n",
    "        \n",
    "    except KeyboardInterrupt:\n",
    "        pass\n",
    "    network.cpu()\n",
    "    return res"
   ]
  },
  {
   "cell_type": "code",
   "execution_count": 120,
   "metadata": {},
   "outputs": [],
   "source": [
    "def just_train(network, train, test, epochs, learning_rate, l2=0):\n",
    "    loss = nn.MSELoss()\n",
    "    #SGD\n",
    "    network.cuda()\n",
    "    optimizer = torch.optim.Adam(network.parameters(), lr=learning_rate, weight_decay=l2)\n",
    "    train_loader = DataLoader(train, batch_size=50, shuffle=True)\n",
    "    test_loader = DataLoader(test, batch_size=50, shuffle=True)\n",
    "    res = 0\n",
    "    try:\n",
    "        for epoch in range(epochs):\n",
    "            train_losses = []\n",
    "            train_accuracies = []\n",
    "            \n",
    "            for X in train_loader:\n",
    "                X = Variable(X)\n",
    "                X = X.float()\n",
    "                X = X.cuda()\n",
    "                network.zero_grad()\n",
    "                prediction = network(X)\n",
    "                loss_batch = loss(prediction, X)\n",
    "                loss_batch.backward()\n",
    "                optimizer.step()\n",
    "                train_losses.append(loss_batch.item())\n",
    "                \n",
    "                prediction = prediction.cpu()\n",
    "                X = X.cpu()\n",
    "                \n",
    "                train_accuracies.append(np.absolute((prediction.data.numpy() - X.data.numpy())).sum()) \n",
    "            train_losses = np.mean(train_losses)\n",
    "            train_accuracies = np.mean(train_accuracies)\n",
    "            \n",
    "            \n",
    "            test_losses = []\n",
    "            test_accuracies = []\n",
    "            for X in test_loader:\n",
    "                X = Variable(X)\n",
    "                X = X.float()\n",
    "                X = X.cuda()\n",
    "                prediction = network(X)\n",
    "                loss_batch = loss(prediction, X)\n",
    "                test_losses.append(loss_batch.item())\n",
    "                \n",
    "                prediction = prediction.cpu()\n",
    "                X = X.cpu()\n",
    "                \n",
    "                test_accuracies.append(np.absolute((prediction.data.numpy() - X.data.numpy())).sum())\n",
    "            \n",
    "            test_losses = np.mean(test_losses)\n",
    "            test_accuracies = np.mean(test_accuracies)\n",
    "            \n",
    "            res = (train_losses, test_losses, train_accuracies, test_accuracies)\n",
    "            sys.stdout.write('\\rEpoch {0}... (Train/Test) MSE: {1:.3f}/{2:.3f}\\tAccuracy: {3:.3f}/{4:.3f}'.format(\n",
    "                        epoch, train_losses, test_losses,\n",
    "                        train_accuracies, test_accuracies))\n",
    "        \n",
    "    except KeyboardInterrupt:\n",
    "        pass\n",
    "    network.cpu()\n",
    "    return res"
   ]
  },
  {
   "cell_type": "code",
   "execution_count": 3,
   "metadata": {},
   "outputs": [],
   "source": [
    "def check_models(X, y, metric='accuracy'):\n",
    "    res = {'LogisticRegression': 0,\n",
    "           'DecisionTree': 0,\n",
    "           'GaussianNB': 0,\n",
    "           'SVC': 0,\n",
    "           'SGD': 0,\n",
    "           'GaussianProcess': 0,\n",
    "           'XGBoost': 0\n",
    "          }\n",
    "    #print metric\n",
    "    X, y = shuffle(X, y)\n",
    "    lg = LogisticRegression(solver='liblinear', multi_class='auto')\n",
    "    cv = cross_validate(lg, X, y, cv=5, scoring=metric)\n",
    "    res['LogisticRegression'] = np.mean(cv['test_score'])\n",
    "    \n",
    "    dt = DecisionTreeClassifier(criterion='gini')\n",
    "    cv = cross_validate(dt, X, y, cv=5)\n",
    "    res['DecisionTree'] = np.mean(cv['test_score'])\n",
    "    \n",
    "    bayes = GaussianNB()\n",
    "    cv = cross_validate(bayes, X, y, cv=5, scoring=metric)\n",
    "    res['GaussianNB'] = np.mean(cv['test_score'])\n",
    "    \n",
    "    svc = SVC(kernel='rbf', shrinking=True, probability=False, degree=3, gamma='auto')\n",
    "    cv = cross_validate(svc, X, y, cv=5, scoring=metric)\n",
    "    res['SVC'] = np.mean(cv['test_score'])\n",
    "    \n",
    "    sgd = SGDClassifier(tol=1e-3, max_iter=1000, loss='hinge')\n",
    "    cv = cross_validate(sgd, X, y, cv=5, scoring=metric)\n",
    "    res['SGD'] = np.mean(cv['test_score'])\n",
    "    \n",
    "    gp = GaussianProcessClassifier()\n",
    "    cv = cross_validate(gp, X, y, cv=5, scoring=metric)\n",
    "    res['GaussianProcess'] = np.mean(cv['test_score'])\n",
    "    \n",
    "    #gb = XGBClassifier(max_depth=10, n_estimators=20, booster='dart')\n",
    "    #cv = cross_validate(gb, X, y, cv=10, scoring=metric)\n",
    "    #res['XGBoost'] = np.mean(cv['test_score'])\n",
    "    \n",
    "    return res"
   ]
  },
  {
   "cell_type": "code",
   "execution_count": 94,
   "metadata": {},
   "outputs": [],
   "source": [
    "class MyAutoencoder64(nn.Module):\n",
    "    def __init__(self, n_comp=10):\n",
    "        super(MyAutoencoder64, self).__init__()\n",
    "        self.encoder = nn.Sequential(nn.Linear(4096, 500), nn.Sigmoid(), \n",
    "        nn.Linear(500, 64), nn.Sigmoid(), \n",
    "        nn.Linear(64, n_comp))\n",
    "        self.decoder = nn.Sequential(nn.Linear(n_comp, 64), nn.Tanh(), \n",
    "        nn.Linear(64, 500), nn.Tanh(), \n",
    "        nn.Linear(500, 4096))\n",
    "        \n",
    "        \n",
    "    def forward(self, x):\n",
    "        x = self.encoder(x)\n",
    "        x = self.decoder(x)\n",
    "        return x\n",
    "\n",
    "    def encode(self, x):\n",
    "        x = self.encoder(x)\n",
    "\n",
    "        return x.data.numpy()"
   ]
  },
  {
   "cell_type": "code",
   "execution_count": 95,
   "metadata": {},
   "outputs": [],
   "source": [
    "class MySparceAutoencoder64(nn.Module):\n",
    "    def __init__(self, n_comp=10):\n",
    "        super(MySparceAutoencoder64, self).__init__()\n",
    "        self.n_comp = n_comp\n",
    "\n",
    "        self.encoder = nn.Sequential(nn.Linear(4096, 1000), nn.Sigmoid(), \n",
    "        nn.Linear(1000, 500), nn.Sigmoid(), \n",
    "        nn.Linear(500, 100))\n",
    "        self.decoder = nn.Sequential(nn.Linear(100, 500), nn.Tanh(), \n",
    "        nn.Linear(500, 1000), nn.Tanh(), \n",
    "        nn.Linear(1000, 4096))\n",
    "\n",
    "    def forward(self, x):\n",
    "        x = self.encoder(x)\n",
    "        x[x < x.sort(dim=1, descending=True)[0][:,self.n_comp - 1].resize(len(x),1)] = 0\n",
    "        x = self.decoder(x)\n",
    "        return x\n",
    "\n",
    "    def encode(self, x):\n",
    "        x = self.encoder(x)\n",
    "        x[x < x.sort(dim=1, descending=True)[0][:,self.n_comp - 1].resize(len(x),1)] = 0\n",
    "\n",
    "        return x.data.numpy()"
   ]
  },
  {
   "cell_type": "code",
   "execution_count": 96,
   "metadata": {},
   "outputs": [],
   "source": [
    "class MyDeepAutoencoder64(nn.Module):\n",
    "    def __init__(self, n_comp=10):\n",
    "        super(MyDeepAutoencoder64, self).__init__()\n",
    "        self.n_comp = n_comp\n",
    "        \n",
    "        self.encoder = nn.Sequential(nn.Linear(4096, 2000), nn.Sigmoid(), \n",
    "        nn.Linear(2000, 1100), nn.Sigmoid(), \n",
    "        nn.Linear(1100, 500), nn.Sigmoid(), \n",
    "        nn.Linear(500, 300), nn.Sigmoid(), \n",
    "        nn.Linear(300, 100), nn.Sigmoid(), \n",
    "        nn.Linear(100, n_comp))\n",
    "        self.decoder = nn.Sequential(nn.Linear(n_comp, 100), nn.Tanh(), \n",
    "        nn.Linear(100, 300), nn.Tanh(),\n",
    "        nn.Linear(300, 500), nn.Tanh(),\n",
    "        nn.Linear(500, 1100), nn.Tanh(),\n",
    "        nn.Linear(1100, 2000), nn.Tanh(), \n",
    "        nn.Linear(2000, 4096))\n",
    "\n",
    "    def forward(self, x):\n",
    "        x = self.encoder(x)\n",
    "        x = self.decoder(x)\n",
    "        return x\n",
    "\n",
    "    def encode(self, x):\n",
    "        x = self.encoder(x)\n",
    "\n",
    "        return x.data.numpy()"
   ]
  },
  {
   "cell_type": "code",
   "execution_count": 97,
   "metadata": {},
   "outputs": [],
   "source": [
    "class MyDeepSparceAutoencoder64(nn.Module):\n",
    "    def __init__(self, n_comp=10):\n",
    "        super(MyDeepSparceAutoencoder64, self).__init__()\n",
    "        self.n_comp = n_comp\n",
    "\n",
    "        self.encoder = nn.Sequential(nn.Linear(4096, 2000), nn.Sigmoid(), \n",
    "        nn.Linear(2000, 1100), nn.Sigmoid(), \n",
    "        nn.Linear(1100, 500), nn.Sigmoid(), \n",
    "        nn.Linear(500, 300), nn.Sigmoid(), \n",
    "        nn.Linear(300, 100))\n",
    "        self.decoder = nn.Sequential( \n",
    "        nn.Linear(100, 300), nn.Tanh(),\n",
    "        nn.Linear(300, 500), nn.Tanh(),\n",
    "        nn.Linear(500, 1100), nn.Tanh(),\n",
    "        nn.Linear(1100, 2000), nn.Tanh(), \n",
    "        nn.Linear(2000, 4096))\n",
    "\n",
    "    def forward(self, x):\n",
    "        x = self.encoder(x)\n",
    "        x[x < x.sort(dim=1, descending=True)[0][:,self.n_comp - 1].resize(len(x),1)] = 0\n",
    "        x = self.decoder(x)\n",
    "        return x\n",
    "\n",
    "    def encode(self, x):\n",
    "        x = self.encoder(x)\n",
    "        x[x < x.sort(dim=1, descending=True)[0][:,self.n_comp - 1].resize(len(x),1)] = 0\n",
    "\n",
    "        return x.data.numpy()"
   ]
  },
  {
   "cell_type": "code",
   "execution_count": 98,
   "metadata": {},
   "outputs": [],
   "source": [
    "class MyAutoencoder128(nn.Module):\n",
    "    def __init__(self, n_comp=10):\n",
    "        super(MyAutoencoder128, self).__init__()\n",
    "        self.encoder = nn.Sequential(nn.Linear(16384, 5000), nn.Sigmoid(), \n",
    "        nn.Linear(5000, 1000),nn.Sigmoid(), \n",
    "        nn.Linear(1000, 300), nn.Sigmoid(), \n",
    "        nn.Linear(300, 60), nn.Sigmoid(), \n",
    "        nn.Linear(60, n_comp))\n",
    "        self.decoder = nn.Sequential(nn.Linear(n_comp, 60), nn.Tanh(), \n",
    "        nn.Linear(60, 300), nn.Tanh(),\n",
    "        nn.Linear(300, 1000), nn.Tanh(),\n",
    "        nn.Linear(1000, 5000), nn.Tanh(), \n",
    "        nn.Linear(5000, 16384))\n",
    "        \n",
    "        \n",
    "    def forward(self, x):\n",
    "        x = self.encoder(x)\n",
    "        x = self.decoder(x)\n",
    "        return x\n",
    "\n",
    "    def encode(self, x):\n",
    "        x = self.encoder(x)\n",
    "        x[x < x.sort(dim=1, descending=True)[0][:,self.n_comp - 1].resize(len(x),1)] = 0\n",
    "\n",
    "        return x.data.numpy()"
   ]
  },
  {
   "cell_type": "code",
   "execution_count": 37,
   "metadata": {},
   "outputs": [],
   "source": [
    "class MySparceAutoencoder128(nn.Module):\n",
    "    def __init__(self, n_comp=10):\n",
    "        super(MySparceAutoencoder128, self).__init__()\n",
    "        self.n_comp = n_comp\n",
    "        self.encoder = nn.Sequential(nn.Linear(16384, 5000), nn.Sigmoid(), \n",
    "        nn.Linear(5000, 1000),nn.Sigmoid(), \n",
    "        nn.Linear(1000, 300), nn.Sigmoid(), \n",
    "        nn.Linear(300, 100))\n",
    "        self.decoder = nn.Sequential(nn.Linear(100, 300), nn.Tanh(), \n",
    "        nn.Linear(300, 1000), nn.Tanh(),\n",
    "        nn.Linear(1000, 5000), nn.Tanh(), \n",
    "        nn.Linear(5000, 16384))\n",
    "\n",
    "    def forward(self, x):\n",
    "        x = self.encoder(x)\n",
    "        x[x < x.sort(dim=1, descending=True)[0][:,self.n_comp - 1].resize(len(x),1)] = 0\n",
    "        x = self.decoder(x)\n",
    "\n",
    "        return x\n",
    "\n",
    "    def encode(self, x):\n",
    "        x = self.encoder(x)\n",
    "        x[x < x.sort(dim=1, descending=True)[0][:,self.n_comp - 1].resize(len(x),1)] = 0\n",
    "\n",
    "        return x.data.numpy()"
   ]
  },
  {
   "cell_type": "code",
   "execution_count": 10,
   "metadata": {},
   "outputs": [],
   "source": [
    "class MyDeepAutoencoder128(nn.Module):\n",
    "    def __init__(self, n_comp=10):\n",
    "        super(MyDeepAutoencoder128, self).__init__()\n",
    "        self.n_comp = n_comp\n",
    "        self.encoder = nn.Sequential(nn.Linear(16384, 10000), nn.Sigmoid(), \n",
    "        nn.Linear(10000, 6000),nn.Sigmoid(), \n",
    "        nn.Linear(6000, 2000), nn.Sigmoid(), \n",
    "        nn.Linear(2000, 800), nn.Sigmoid(), \n",
    "        nn.Linear(800, 300), nn.Sigmoid(), \n",
    "        nn.Linear(300, 100), nn.Sigmoid(), \n",
    "        nn.Linear(100, n_comp))\n",
    "        self.decoder = nn.Sequential(nn.Linear(n_comp, 100), nn.Tanh(), \n",
    "        nn.Linear(100, 300), nn.Tanh(),\n",
    "        nn.Linear(300, 800), nn.Tanh(),\n",
    "        nn.Linear(800, 2000), nn.Tanh(),\n",
    "        nn.Linear(2000, 6000), nn.Tanh(),\n",
    "        nn.Linear(6000, 10000), nn.Tanh(), \n",
    "        nn.Linear(10000, 16384))\n",
    "\n",
    "    def forward(self, x):\n",
    "        x = self.encoder(x)\n",
    "        x = self.decoder(x)\n",
    "\n",
    "        return x\n",
    "\n",
    "    def encode(self, x):\n",
    "        x = self.encoder(x)\n",
    "        return x.data.numpy()"
   ]
  },
  {
   "cell_type": "code",
   "execution_count": 11,
   "metadata": {},
   "outputs": [],
   "source": [
    "class MyDeepSparceAutoencoder128(nn.Module):\n",
    "    def __init__(self, n_comp=10):\n",
    "        super(MyDeepSparceAutoencoder128, self).__init__()\n",
    "        self.n_comp = n_comp\n",
    "        self.encoder = nn.Sequential(nn.Linear(16384, 10000), nn.Sigmoid(), \n",
    "        nn.Linear(10000, 6000),nn.Sigmoid(), \n",
    "        nn.Linear(6000, 2000), nn.Sigmoid(), \n",
    "        nn.Linear(2000, 800), nn.Sigmoid(), \n",
    "        nn.Linear(800, 300), nn.Sigmoid(), \n",
    "        nn.Linear(300, 100))\n",
    "        self.decoder = nn.Sequential(nn.Linear(100, 300), nn.Tanh(),\n",
    "        nn.Linear(300, 800), nn.Tanh(),\n",
    "        nn.Linear(800, 2000), nn.Tanh(),\n",
    "        nn.Linear(2000, 6000), nn.Tanh(),\n",
    "        nn.Linear(6000, 10000), nn.Tanh(), \n",
    "        nn.Linear(10000, 16384))\n",
    "\n",
    "    def forward(self, x):\n",
    "        x = self.encoder(x)\n",
    "        x[x < x.sort(dim=1, descending=True)[0][:,self.n_comp - 1].resize(len(x),1)] = 0\n",
    "        x = self.decoder(x)\n",
    "        \n",
    "        return x\n",
    "\n",
    "    def encode(self, x):\n",
    "        x = self.encoder(x)\n",
    "        x[x < x.sort(dim=1, descending=True)[0][:,self.n_comp - 1].resize(len(x),1)] = 0\n",
    "\n",
    "        return x.data.numpy()"
   ]
  },
  {
   "cell_type": "code",
   "execution_count": 112,
   "metadata": {},
   "outputs": [],
   "source": [
    "class MyCAutoencoder(nn.Module):\n",
    "    def __init__(self, n_comp=16):\n",
    "        super(MyCAutoencoder, self).__init__()\n",
    "        self.n_comp = n_comp\n",
    "        self.ec1 = nn.Conv2d(1,2,(3,3),padding=1) \n",
    "        self.ep1 = nn.MaxPool2d(4, return_indices=True) \n",
    "        self.ec2 = nn.Conv2d(2,4,(3,3),padding=1)\n",
    "        self.ep2 = nn.MaxPool2d(2, return_indices=True)\n",
    "        self.ec3 = nn.Conv2d(4,n_comp,(3,3),padding=1)\n",
    "        self.ep3 = nn.MaxPool2d(4, return_indices=True)\n",
    "        self.el = nn.Linear(4,4)\n",
    "        self.ep4 = nn.MaxPool2d(4, return_indices=True)\n",
    "        \n",
    "        self.dp4 = nn.MaxUnpool2d(4)\n",
    "        self.dl = nn.Linear(4,4)\n",
    "        self.dp3 = nn.MaxUnpool2d(4)\n",
    "        self.dc3 = nn.Conv2d(n_comp,4,(3,3),padding=1) \n",
    "        self.dp2 = nn.MaxUnpool2d(2)\n",
    "        self.dc2 = nn.Conv2d(4,2,(3,3),padding=1)\n",
    "        self.dp1 = nn.MaxUnpool2d(4)\n",
    "        self.dc1 = nn.Conv2d(2,1,(3,3),padding=1)\n",
    "        \n",
    "    def forward(self, x):\n",
    "        relu = nn.ReLU()\n",
    "        #encode\n",
    "        x = self.ec1(x)\n",
    "        x, i1 = self.ep1(x)\n",
    "        x = relu(x)\n",
    "        x = self.ec2(x)\n",
    "        x, i2 = self.ep2(x)\n",
    "        x = relu(x)\n",
    "        x = self.ec3(x)\n",
    "        x, i3 = self.ep3(x)\n",
    "        x = relu(x)\n",
    "        x = self.el(x)\n",
    "        x, i4 = self.ep4(x)\n",
    "        \n",
    "        x = self.dp4(x, i4)\n",
    "        x = self.dl(x)\n",
    "        x = relu(x)\n",
    "        x = self.dp3(x, i3)\n",
    "        x = self.dc3(x)\n",
    "        x = relu(x)\n",
    "        x = self.dp2(x, i2)\n",
    "        x = self.dc2(x)\n",
    "        x = relu(x)\n",
    "        x = self.dp1(x, i1)\n",
    "        x = self.dc1(x)\n",
    "\n",
    "        \n",
    "        return x\n",
    "    def encode(self, x):\n",
    "        relu = nn.ReLU()\n",
    "        \n",
    "        x = self.ec1(x)\n",
    "        x, i1 = self.ep1(x)\n",
    "        x = relu(x)\n",
    "        x = self.ec2(x)\n",
    "        x, i2 = self.ep2(x)\n",
    "        x = relu(x)\n",
    "        x = self.ec3(x)\n",
    "        x, i3 = self.ep3(x)\n",
    "        x = relu(x)\n",
    "        x = self.el(x)\n",
    "        x, i4 = self.ep4(x)\n",
    "        \n",
    "        return x.data.numpy().reshape(-1, self.n_comp)"
   ]
  },
  {
   "cell_type": "code",
   "execution_count": 8,
   "metadata": {},
   "outputs": [],
   "source": [
    "N = 200\n",
    "#d2models64 = [MyAutoencoder64, MySparceAutoencoder64, MyDeepAutoencoder64, MyDeepSparceAutoencoder64]\n",
    "#d2models128 = [MyAutoencoder128, MySparceAutoencoder128, MyDeepAutoencoder128, MyDeepSparceAutoencoder128]\n",
    "res = open('out.txt', 'w')\n",
    "with open('../data/y.pickle', 'rb') as f:\n",
    "    y = pickle.load(f)\n",
    "with open('../data/other.pickle', 'rb') as f:\n",
    "    other = pickle.load(f)"
   ]
  },
  {
   "cell_type": "code",
   "execution_count": 58,
   "metadata": {},
   "outputs": [
    {
     "data": {
      "text/plain": [
       "0.8790661650807701"
      ]
     },
     "execution_count": 58,
     "metadata": {},
     "output_type": "execute_result"
    }
   ],
   "source": [
    "np.array(y).sum() / len(y)"
   ]
  },
  {
   "cell_type": "code",
   "execution_count": 15,
   "metadata": {},
   "outputs": [],
   "source": [
    "res = open('out.txt', 'w')"
   ]
  },
  {
   "cell_type": "code",
   "execution_count": 39,
   "metadata": {},
   "outputs": [
    {
     "name": "stdout",
     "output_type": "stream",
     "text": [
      "(9038, 4096)\n",
      "Epoch 199... (Train/Test) MSE: 0.009/0.009\tAccuracy: 10885.715/10822.426"
     ]
    },
    {
     "name": "stderr",
     "output_type": "stream",
     "text": [
      "D:\\programs\\anaconda\\lib\\site-packages\\torch\\tensor.py:287: UserWarning: non-inplace resize is deprecated\n",
      "  warnings.warn(\"non-inplace resize is deprecated\")\n"
     ]
    },
    {
     "name": "stdout",
     "output_type": "stream",
     "text": [
      "Epoch 199... (Train/Test) MSE: 0.029/0.030\tAccuracy: 23811.740/25071.557"
     ]
    },
    {
     "name": "stderr",
     "output_type": "stream",
     "text": [
      "D:\\programs\\anaconda\\lib\\site-packages\\torch\\tensor.py:287: UserWarning: non-inplace resize is deprecated\n",
      "  warnings.warn(\"non-inplace resize is deprecated\")\n"
     ]
    },
    {
     "name": "stdout",
     "output_type": "stream",
     "text": [
      "Epoch 199... (Train/Test) MSE: 0.009/0.009\tAccuracy: 10809.850/10683.635"
     ]
    },
    {
     "name": "stderr",
     "output_type": "stream",
     "text": [
      "D:\\programs\\anaconda\\lib\\site-packages\\torch\\tensor.py:287: UserWarning: non-inplace resize is deprecated\n",
      "  warnings.warn(\"non-inplace resize is deprecated\")\n"
     ]
    },
    {
     "name": "stdout",
     "output_type": "stream",
     "text": [
      "Epoch 199... (Train/Test) MSE: 0.030/0.029\tAccuracy: 24534.979/23494.062"
     ]
    },
    {
     "name": "stderr",
     "output_type": "stream",
     "text": [
      "D:\\programs\\anaconda\\lib\\site-packages\\torch\\tensor.py:287: UserWarning: non-inplace resize is deprecated\n",
      "  warnings.warn(\"non-inplace resize is deprecated\")\n"
     ]
    },
    {
     "name": "stdout",
     "output_type": "stream",
     "text": [
      "Epoch 199... (Train/Test) MSE: 0.009/0.009\tAccuracy: 10687.960/10775.550"
     ]
    },
    {
     "name": "stderr",
     "output_type": "stream",
     "text": [
      "D:\\programs\\anaconda\\lib\\site-packages\\torch\\tensor.py:287: UserWarning: non-inplace resize is deprecated\n",
      "  warnings.warn(\"non-inplace resize is deprecated\")\n"
     ]
    },
    {
     "name": "stdout",
     "output_type": "stream",
     "text": [
      "Epoch 199... (Train/Test) MSE: 0.021/0.021\tAccuracy: 17829.271/17372.400"
     ]
    },
    {
     "name": "stderr",
     "output_type": "stream",
     "text": [
      "D:\\programs\\anaconda\\lib\\site-packages\\torch\\tensor.py:287: UserWarning: non-inplace resize is deprecated\n",
      "  warnings.warn(\"non-inplace resize is deprecated\")\n"
     ]
    },
    {
     "name": "stdout",
     "output_type": "stream",
     "text": [
      "Epoch 199... (Train/Test) MSE: 0.009/0.009\tAccuracy: 10653.196/10620.190"
     ]
    },
    {
     "name": "stderr",
     "output_type": "stream",
     "text": [
      "D:\\programs\\anaconda\\lib\\site-packages\\torch\\tensor.py:287: UserWarning: non-inplace resize is deprecated\n",
      "  warnings.warn(\"non-inplace resize is deprecated\")\n"
     ]
    },
    {
     "name": "stdout",
     "output_type": "stream",
     "text": [
      "Epoch 199... (Train/Test) MSE: 0.029/0.029\tAccuracy: 23890.125/23669.736"
     ]
    },
    {
     "name": "stderr",
     "output_type": "stream",
     "text": [
      "D:\\programs\\anaconda\\lib\\site-packages\\torch\\tensor.py:287: UserWarning: non-inplace resize is deprecated\n",
      "  warnings.warn(\"non-inplace resize is deprecated\")\n"
     ]
    },
    {
     "name": "stdout",
     "output_type": "stream",
     "text": [
      "Epoch 199... (Train/Test) MSE: 0.009/0.009\tAccuracy: 10755.103/10708.17375"
     ]
    },
    {
     "name": "stderr",
     "output_type": "stream",
     "text": [
      "D:\\programs\\anaconda\\lib\\site-packages\\torch\\tensor.py:287: UserWarning: non-inplace resize is deprecated\n",
      "  warnings.warn(\"non-inplace resize is deprecated\")\n"
     ]
    },
    {
     "name": "stdout",
     "output_type": "stream",
     "text": [
      "Epoch 199... (Train/Test) MSE: 0.021/0.021\tAccuracy: 17698.867/17810.520"
     ]
    },
    {
     "name": "stderr",
     "output_type": "stream",
     "text": [
      "D:\\programs\\anaconda\\lib\\site-packages\\torch\\tensor.py:287: UserWarning: non-inplace resize is deprecated\n",
      "  warnings.warn(\"non-inplace resize is deprecated\")\n"
     ]
    },
    {
     "name": "stdout",
     "output_type": "stream",
     "text": [
      "Epoch 199... (Train/Test) MSE: 0.009/0.009\tAccuracy: 10853.759/10778.4639"
     ]
    },
    {
     "name": "stderr",
     "output_type": "stream",
     "text": [
      "D:\\programs\\anaconda\\lib\\site-packages\\torch\\tensor.py:287: UserWarning: non-inplace resize is deprecated\n",
      "  warnings.warn(\"non-inplace resize is deprecated\")\n"
     ]
    },
    {
     "name": "stdout",
     "output_type": "stream",
     "text": [
      "Epoch 199... (Train/Test) MSE: 0.029/0.031\tAccuracy: 24039.426/24506.869"
     ]
    },
    {
     "name": "stderr",
     "output_type": "stream",
     "text": [
      "D:\\programs\\anaconda\\lib\\site-packages\\torch\\tensor.py:287: UserWarning: non-inplace resize is deprecated\n",
      "  warnings.warn(\"non-inplace resize is deprecated\")\n"
     ]
    },
    {
     "name": "stdout",
     "output_type": "stream",
     "text": [
      "Epoch 199... (Train/Test) MSE: 0.009/0.009\tAccuracy: 10752.287/10610.707"
     ]
    },
    {
     "name": "stderr",
     "output_type": "stream",
     "text": [
      "D:\\programs\\anaconda\\lib\\site-packages\\torch\\tensor.py:287: UserWarning: non-inplace resize is deprecated\n",
      "  warnings.warn(\"non-inplace resize is deprecated\")\n"
     ]
    },
    {
     "name": "stdout",
     "output_type": "stream",
     "text": [
      "Epoch 199... (Train/Test) MSE: 0.029/0.031\tAccuracy: 24084.791/23983.307"
     ]
    },
    {
     "name": "stderr",
     "output_type": "stream",
     "text": [
      "D:\\programs\\anaconda\\lib\\site-packages\\torch\\tensor.py:287: UserWarning: non-inplace resize is deprecated\n",
      "  warnings.warn(\"non-inplace resize is deprecated\")\n"
     ]
    },
    {
     "name": "stdout",
     "output_type": "stream",
     "text": [
      "Epoch 199... (Train/Test) MSE: 0.021/0.021\tAccuracy: 17811.312/17241.809"
     ]
    },
    {
     "ename": "NameError",
     "evalue": "name 'gc' is not defined",
     "output_type": "error",
     "traceback": [
      "\u001b[1;31m---------------------------------------------------------------------------\u001b[0m",
      "\u001b[1;31mNameError\u001b[0m                                 Traceback (most recent call last)",
      "\u001b[1;32m<ipython-input-39-3c21d31a9dd6>\u001b[0m in \u001b[0;36m<module>\u001b[1;34m\u001b[0m\n\u001b[0;32m     22\u001b[0m \u001b[1;33m\u001b[0m\u001b[0m\n\u001b[0;32m     23\u001b[0m \u001b[1;32mdel\u001b[0m \u001b[0md2data64\u001b[0m\u001b[1;33m\u001b[0m\u001b[1;33m\u001b[0m\u001b[0m\n\u001b[1;32m---> 24\u001b[1;33m \u001b[0mgc\u001b[0m\u001b[1;33m.\u001b[0m\u001b[0mcollect\u001b[0m\u001b[1;33m(\u001b[0m\u001b[1;33m)\u001b[0m\u001b[1;33m\u001b[0m\u001b[1;33m\u001b[0m\u001b[0m\n\u001b[0m\u001b[0;32m     25\u001b[0m \u001b[1;33m\u001b[0m\u001b[0m\n\u001b[0;32m     26\u001b[0m \u001b[1;33m\u001b[0m\u001b[0m\n",
      "\u001b[1;31mNameError\u001b[0m: name 'gc' is not defined"
     ]
    }
   ],
   "source": [
    "\n",
    "with open('d2data64.pickle', 'rb') as f:\n",
    "    d2data64 = pickle.load(f)\n",
    "print(d2data64.shape)\n",
    "d2models64 = [MyAutoencoder64, MySparceAutoencoder64, MyDeepAutoencoder64, MyDeepSparceAutoencoder64]\n",
    "result = {'MyAutoencoder64':[], 'MySparceAutoencoder64':[], 'MyDeepAutoencoder64':[], 'MyDeepSparceAutoencoder64':[]}\n",
    "ind = 0\n",
    "for i in range(10, 17):\n",
    "    for model in d2models64:\n",
    "        currmodel = model(i)\n",
    "        train_loss, test_loss, train_ac, test_ac = train(currmodel, d2data64, N, 0.001)\n",
    "        res.write('*' * 20 + '\\n')\n",
    "        res.write(str(type(currmodel)) + str(i) + '\\n')\n",
    "        res.write('(Train/Test) MSE: {0:.3f}/{1:.3f}\\tAccuracy: {2:.3f}/{3:.3f}\\n'.format(\n",
    "                    train_loss, test_loss,\n",
    "                    train_ac, test_ac))\n",
    "    \n",
    "        X1 = currmodel.encode(Variable(torch.Tensor(d2data64)))\n",
    "        #X1 = pd.DataFrame(X1)\n",
    "        #data = pd.concat([X1, other], axis=1)\n",
    "        f1 = check_models(X1, y, metric='f1')\n",
    "        if ind == 0:\n",
    "            result[]\n",
    "        \n",
    "        res.write(str(f1) + '\\n')\n",
    "\n",
    "del d2data64\n",
    "gc.collect()\n",
    "\n",
    "\n",
    "\n",
    "\n"
   ]
  },
  {
   "cell_type": "code",
   "execution_count": null,
   "metadata": {},
   "outputs": [],
   "source": [
    "with open('../data/d2data128.pickle', 'rb') as f:\n",
    "    d2data128 = pickle.load(f)\n",
    "\n",
    "for i in range(10, 17):\n",
    "    for model in d2models128:\n",
    "        currmodel = model(i)\n",
    "        train_loss, test_loss, train_ac, test_ac = train(model, d2data128, N, 0.001)\n",
    "        res.write('*' * 20 + '\\n')\n",
    "        res.write(str(type(currmodel)) + str(i) + '\\n')\n",
    "        res.write('(Train/Test) MSE: {0:.3f}/{1:.3f}\\tAccuracy: {2:.3f}/{3:.3f}\\n'.format(\n",
    "                    train_loss, test_loss,\n",
    "                    train_ac, test_ac))\n",
    "    \n",
    "        X1 = currmodel.encode(Variable(torch.Tensor(d2data64)))\n",
    "        X1 = pd.DataFrame(X1)\n",
    "        data = pd.concat([X1, other], axis=1)\n",
    "        f1 = check_models(data, y, metric='f1')\n",
    "\n",
    "        res.write(str(f1) + '\\n')\n",
    "\n",
    "del d2data64\n",
    "gc.collect()"
   ]
  },
  {
   "cell_type": "code",
   "execution_count": 16,
   "metadata": {},
   "outputs": [
    {
     "name": "stdout",
     "output_type": "stream",
     "text": [
      "Epoch 199... (Train/Test) MSE: 0.024/0.024\tAccuracy: 95773.891/93910.859"
     ]
    }
   ],
   "source": [
    "with open('../data/d3data128.pickle', 'rb') as f:\n",
    "    d3data128 = pickle.load(f)\n",
    "\n",
    "for i in range(10, 17):\n",
    "    currmodel = MyCAutoencoder(i)\n",
    "    train_loss, test_loss, train_ac, test_ac = train(currmodel, d3data128, N, 0.001)\n",
    "    res.write('*' * 20 + '\\n')\n",
    "    res.write(str(type(currmodel)) + str(i) + '\\n')\n",
    "    res.write('(Train/Test) MSE: {0:.3f}/{1:.3f}\\tAccuracy: {2:.3f}/{3:.3f}\\n'.format(\n",
    "                train_loss, test_loss,\n",
    "                train_ac, test_ac))\n",
    "    \n",
    "    test_loader = DataLoader(torch.Tensor(d3data128), batch_size=1000, shuffle=False)\n",
    "    X1 = None\n",
    "    for i in test_loader:\n",
    "        X = currmodel.encode(i)\n",
    "        if X1 is None:\n",
    "            X1 = X\n",
    "        else:\n",
    "            X1 = np.concatenate((X1, X))\n",
    "            \n",
    "    X1 = pd.DataFrame(X1)\n",
    "    data = pd.concat([X1, other], axis=1)\n",
    "    f1 = check_models(data, y, metric='f1')\n",
    "    res.write(str(f1) + '\\n')\n",
    "    break\n",
    "res.close()"
   ]
  },
  {
   "cell_type": "code",
   "execution_count": 36,
   "metadata": {},
   "outputs": [],
   "source": [
    "test_loader = DataLoader(torch.Tensor(d3data128), batch_size=1000, shuffle=False)\n",
    "X1 = None\n",
    "for i in test_loader:\n",
    "    X = currmodel.encode(i)\n",
    "    if X1 is None:\n",
    "        X1 = X\n",
    "    else:\n",
    "        X1 = np.concatenate((X1, X))"
   ]
  },
  {
   "cell_type": "code",
   "execution_count": 35,
   "metadata": {},
   "outputs": [
    {
     "data": {
      "text/plain": [
       "(1000, 10)"
      ]
     },
     "execution_count": 35,
     "metadata": {},
     "output_type": "execute_result"
    }
   ],
   "source": [
    "X.shape"
   ]
  },
  {
   "cell_type": "code",
   "execution_count": 51,
   "metadata": {},
   "outputs": [
    {
     "data": {
      "text/plain": [
       "175"
      ]
     },
     "execution_count": 51,
     "metadata": {},
     "output_type": "execute_result"
    }
   ],
   "source": [
    "X1 = pd.DataFrame(X1.reshape(-1, 10))\n",
    "data = pd.concat([X1, other], axis=1)\n",
    "f1 = check_models(data, y, metric='f1')\n",
    "res.write(str(f1) + '\\n')"
   ]
  },
  {
   "cell_type": "code",
   "execution_count": 10,
   "metadata": {},
   "outputs": [
    {
     "data": {
      "text/plain": [
       "{'LogisticRegression': 0.9351260798593881,\n",
       " 'DecisionTree': 0.9977871208819193,\n",
       " 'GaussianNB': 0.7987294269570253,\n",
       " 'SVC': 0.9836311801778077,\n",
       " 'SGD': 0.9219453051935576,\n",
       " 'GaussianProcess': 0.9930793150854988,\n",
       " 'XGBoost': 0}"
      ]
     },
     "execution_count": 10,
     "metadata": {},
     "output_type": "execute_result"
    }
   ],
   "source": [
    "f1"
   ]
  },
  {
   "cell_type": "code",
   "execution_count": 17,
   "metadata": {},
   "outputs": [
    {
     "name": "stdout",
     "output_type": "stream",
     "text": [
      "{\"'__main__.MyAutoencoder64'\": {\"'LogisticRegression'\": [0.9347364994687926, 0.9361354797295549, 0.9359968205116143, 0.9350156658815901, 0.9359989608592658, 0.9352741398504136, 0.9345006188998815], \" 'DecisionTree'\": [0.9981192223978494, 0.9990052801282404, 0.9987829400241777, 0.997676255054467, 0.9982299646397795, 0.9978978606868927, 0.9955738712784447], \" 'GaussianNB'\": [0.8813056369157524, 0.8743307972072601, 0.8674407335393368, 0.8505178298254339, 0.8627962767673953, 0.7876586212822984, 0.8231459642207973], \" 'SVC'\": [1.0, 1.0, 1.0, 1.0, 1.0, 1.0, 1.0], \" 'SGD'\": [0.9034260418115647, 0.9069351762281682, 0.9241600236128911, 0.9243942798626554, 0.8787837628759668, 0.8780296710557849, 0.8760187902491967], \" 'GaussianProcess'\": [0.9999370673379484, 1.0, 1.0, 1.0, 1.0, 1.0, 1.0]}, \"'__main__.MySparceAutoencoder64'\": {\"'LogisticRegression'\": [0.9358621745778384, 0.9355161613142089, 0.9356416602524019, 0.9356416602524019, 0.935516244162802, 0.9356416602524019, 0.9356416602524019], \" 'DecisionTree'\": [0.9982304543777787, 0.99823057606779, 0.9983404621480714, 0.9985626794792306, 0.9987823280547211, 0.9975657572754519, 0.9970127818910536], \" 'GaussianNB'\": [0.8225334938197749, 0.8441807785166038, 0.7302689799610331, 0.7659833603783214, 0.7569960939172438, 0.661297453463142, 0.771680400072759], \" 'SVC'\": [0.9902452900452635, 0.9902503308815325, 0.9902483228918741, 0.9902480288152147, 0.9902467493000892, 0.9902497868190805, 0.990249183745284], \" 'SGD'\": [0.8740558160561154, 0.8731391521251913, 0.9003724913079468, 0.9094653674180309, 0.817167522226401, 0.8569830613702312, 0.823000986283126], \" 'GaussianProcess'\": [1.0, 1.0, 1.0, 1.0, 1.0, 1.0, 1.0]}, \"'__main__.MyDeepAutoencoder64'\": {\"'LogisticRegression'\": [0.9356416602524019, 0.9356416602524019, 0.9356416602524019, 0.9356416602524019, 0.9356416602524019, 0.9356416602524019], \" 'DecisionTree'\": [1.0, 1.0, 1.0, 0.9998893805309734, 1.0, 1.0], \" 'GaussianNB'\": [0.9038657661172993, 0.9038710928113606, 0.9026121552895369, 0.9038713807290295, 0.9027108683691282, 0.9028105749050512], \" 'SVC'\": [1.0, 1.0, 1.0, 1.0, 1.0, 1.0], \" 'SGD'\": [0.9223802458856147, 0.8795621782836396, 0.9050321824581893, 0.9154496690536428, 0.8800825902046631, 0.8991114019356031], \" 'GaussianProcess'\": [1.0, 1.0, 1.0, 1.0, 1.0, 1.0]}, \"'__main__.MyDeepSparceAutoencoder64'\": {\"'LogisticRegression'\": [0.9356416602524019, 0.9356416602524019, 0.9356416602524019, 0.9356416602524019, 0.9356416602524019, 0.9356416602524019], \" 'DecisionTree'\": [1.0, 0.9998895027624309, 1.0, 0.9998893805309734, 1.0, 1.0], \" 'GaussianNB'\": [0.6422720248982492, 0.8449488147135424, 0.9038800777558134, 0.8261715714242293, 0.903879163649051, 0.7440431727317212], \" 'SVC'\": [0.9902457370977071, 0.9902460039316034, 0.9902436396526217, 0.9902469875170061, 0.9902473725507404, 0.9902498348199422], \" 'SGD'\": [0.889292641453822, 0.9044715448881979, 0.8664382925743543, 0.8940741381084262, 0.9125010755503933, 0.8550605279160216], \" 'GaussianProcess'\": [1.0, 1.0, 1.0, 1.0, 1.0, 1.0]}, \"'__main__.MyCAutoencoder'\": {\"'LogisticRegression'\": [0.9356339498615316, 0.9358620250416632, 0.9356400096044997, 0.9354382978473554, 0.9354153796122221, 0.9351508629964295, 0.934881172392253], \" 'DecisionTree'\": [0.9994469026548674, 0.9975658819438664, 0.9983403406614396, 1.0, 1.0, 0.9997786386275596, 0.998561518382299], \" 'GaussianNB'\": [0.8243532128544807, 0.8237671224941167, 0.7855699859190345, 0.872151620550434, 0.8741731154098697, 0.8749002724697155, 0.8194629974613241], \" 'SVC'\": [0.993344849502205, 0.9992440944881891, 0.9903650721332016, 1.0, 0.9952859566933616, 0.9679489062381978, 0.9910403771147704], \" 'SGD'\": [0.9326586861408275, 0.8062864674855932, 0.8793927875677412, 0.8466548999357876, 0.9010941355063228, 0.9172273990546966, 0.879813852144202], \" 'GaussianProcess'\": [0.9946502155988457, 0.9994335861579522, 0.9923915193760319, 0.9999370871343188, 0.9952833895108697, 0.9889823471774676, 0.9940323016823027]}}\n"
     ]
    }
   ],
   "source": [
    "f = open('out.txt')\n",
    "cur = 0\n",
    "result = {}\n",
    "for l in f:\n",
    "    if cur == 0:\n",
    "        pass\n",
    "    elif cur == 1:\n",
    "        model = (l[7:].split('>')[0], int(l[7:].split('>')[1]))\n",
    "    elif cur == 2:\n",
    "        pass\n",
    "    elif cur == 3:\n",
    "        res = {}\n",
    "        l = l[1:-2]\n",
    "        for i in l.split(','):\n",
    "            res[i.split(':')[0]] = float(i.split(':')[1])\n",
    "        for a, b in res.items():\n",
    "            if 'XGBoost' in a:\n",
    "                continue\n",
    "            try:\n",
    "                result[model[0]][a].append(b)\n",
    "            except:\n",
    "                try:\n",
    "                    result[model[0]][a] = []\n",
    "                    result[model[0]][a].append(b)\n",
    "                except:\n",
    "                    result[model[0]] = {}\n",
    "                    result[model[0]][a] = []\n",
    "                    result[model[0]][a].append(b)\n",
    "    cur = (cur + 1) % 4\n",
    "print(result)"
   ]
  },
  {
   "cell_type": "code",
   "execution_count": 18,
   "metadata": {},
   "outputs": [],
   "source": [
    "import matplotlib.pyplot as plt\n",
    "\n",
    "%matplotlib inline"
   ]
  },
  {
   "cell_type": "code",
   "execution_count": 21,
   "metadata": {
    "scrolled": false
   },
   "outputs": [
    {
     "data": {
      "image/png": "[encoded data removed]",
      "text/plain": [
       "<Figure size 432x288 with 1 Axes>"
      ]
     },
     "metadata": {
      "needs_background": "light"
     },
     "output_type": "display_data"
    },
    {
     "data": {
      "image/png": "[encoded data removed]",
      "text/plain": [
       "<Figure size 432x288 with 1 Axes>"
      ]
     },
     "metadata": {
      "needs_background": "light"
     },
     "output_type": "display_data"
    },
    {
     "data": {
      "image/png": "[encoded data removed]",
      "text/plain": [
       "<Figure size 432x288 with 1 Axes>"
      ]
     },
     "metadata": {
      "needs_background": "light"
     },
     "output_type": "display_data"
    },
    {
     "data": {
      "image/png": "[encoded data removed]",
      "text/plain": [
       "<Figure size 432x288 with 1 Axes>"
      ]
     },
     "metadata": {
      "needs_background": "light"
     },
     "output_type": "display_data"
    },
    {
     "data": {
      "image/png": "[encoded data removed]",
      "text/plain": [
       "<Figure size 432x288 with 1 Axes>"
      ]
     },
     "metadata": {
      "needs_background": "light"
     },
     "output_type": "display_data"
    },
    {
     "data": {
      "image/png": "[encoded data removed]",
      "text/plain": [
       "<Figure size 432x288 with 1 Axes>"
      ]
     },
     "metadata": {
      "needs_background": "light"
     },
     "output_type": "display_data"
    }
   ],
   "source": [
    "fig, axes = plt.subplots()\n",
    "for models in result.items():\n",
    "    fig, axes = plt.subplots()\n",
    "    for model in models[1].items():\n",
    "        axes.set_title(models[0][10:-1])\n",
    "        #axes.set_title('ConvAutoencoder')\n",
    "        axes.set_ylim(bottom=0.)\n",
    "        axes.plot(range(10, len(model[1]) + 10), model[1], label=model[0])\n",
    "        axes.set_ylabel(u'score')\n",
    "        axes.set_xlabel(u'ncomp')\n",
    "        axes.legend()"
   ]
  },
  {
   "cell_type": "code",
   "execution_count": 271,
   "metadata": {},
   "outputs": [
    {
     "data": {
      "text/plain": [
       "{'LogisticRegression': 0.9356415433419567,\n",
       " 'DecisionTree': 0.9978976791337523,\n",
       " 'GaussianNB': 0.863981554068387,\n",
       " 'SVC': 1.0,\n",
       " 'SGD': 0.8367419271219682,\n",
       " 'GaussianProcess': 1.0,\n",
       " 'XGBoost': 0}"
      ]
     },
     "execution_count": 271,
     "metadata": {},
     "output_type": "execute_result"
    }
   ],
   "source": [
    "f1"
   ]
  },
  {
   "cell_type": "code",
   "execution_count": 54,
   "metadata": {},
   "outputs": [
    {
     "ename": "NameError",
     "evalue": "name 'MySparceAutoencoder64' is not defined",
     "output_type": "error",
     "traceback": [
      "\u001b[1;31m---------------------------------------------------------------------------\u001b[0m",
      "\u001b[1;31mNameError\u001b[0m                                 Traceback (most recent call last)",
      "\u001b[1;32m<ipython-input-54-b1a89a4bc2a6>\u001b[0m in \u001b[0;36m<module>\u001b[1;34m\u001b[0m\n\u001b[1;32m----> 1\u001b[1;33m \u001b[0mae\u001b[0m \u001b[1;33m=\u001b[0m \u001b[0mMySparceAutoencoder64\u001b[0m\u001b[1;33m(\u001b[0m\u001b[1;36m10\u001b[0m\u001b[1;33m)\u001b[0m\u001b[1;33m\u001b[0m\u001b[1;33m\u001b[0m\u001b[0m\n\u001b[0m",
      "\u001b[1;31mNameError\u001b[0m: name 'MySparceAutoencoder64' is not defined"
     ]
    }
   ],
   "source": [
    "ae = MySparceAutoencoder64(10)"
   ]
  },
  {
   "cell_type": "code",
   "execution_count": 56,
   "metadata": {},
   "outputs": [
    {
     "ename": "AttributeError",
     "evalue": "'Sigmoid' object has no attribute 'weight'",
     "output_type": "error",
     "traceback": [
      "\u001b[1;31m---------------------------------------------------------------------------\u001b[0m",
      "\u001b[1;31mAttributeError\u001b[0m                            Traceback (most recent call last)",
      "\u001b[1;32m<ipython-input-56-c23b2c521831>\u001b[0m in \u001b[0;36m<module>\u001b[1;34m\u001b[0m\n\u001b[1;32m----> 1\u001b[1;33m \u001b[0mcurrmodel\u001b[0m\u001b[1;33m.\u001b[0m\u001b[0mencoder\u001b[0m\u001b[1;33m[\u001b[0m\u001b[1;36m1\u001b[0m\u001b[1;33m]\u001b[0m\u001b[1;33m.\u001b[0m\u001b[0mweight\u001b[0m\u001b[1;33m.\u001b[0m\u001b[0mdata\u001b[0m\u001b[1;33m.\u001b[0m\u001b[0mnumpy\u001b[0m\u001b[1;33m(\u001b[0m\u001b[1;33m)\u001b[0m\u001b[1;33m\u001b[0m\u001b[1;33m\u001b[0m\u001b[0m\n\u001b[0m",
      "\u001b[1;32mD:\\programs\\anaconda\\lib\\site-packages\\torch\\nn\\modules\\module.py\u001b[0m in \u001b[0;36m__getattr__\u001b[1;34m(self, name)\u001b[0m\n\u001b[0;32m    533\u001b[0m                 \u001b[1;32mreturn\u001b[0m \u001b[0mmodules\u001b[0m\u001b[1;33m[\u001b[0m\u001b[0mname\u001b[0m\u001b[1;33m]\u001b[0m\u001b[1;33m\u001b[0m\u001b[1;33m\u001b[0m\u001b[0m\n\u001b[0;32m    534\u001b[0m         raise AttributeError(\"'{}' object has no attribute '{}'\".format(\n\u001b[1;32m--> 535\u001b[1;33m             type(self).__name__, name))\n\u001b[0m\u001b[0;32m    536\u001b[0m \u001b[1;33m\u001b[0m\u001b[0m\n\u001b[0;32m    537\u001b[0m     \u001b[1;32mdef\u001b[0m \u001b[0m__setattr__\u001b[0m\u001b[1;33m(\u001b[0m\u001b[0mself\u001b[0m\u001b[1;33m,\u001b[0m \u001b[0mname\u001b[0m\u001b[1;33m,\u001b[0m \u001b[0mvalue\u001b[0m\u001b[1;33m)\u001b[0m\u001b[1;33m:\u001b[0m\u001b[1;33m\u001b[0m\u001b[1;33m\u001b[0m\u001b[0m\n",
      "\u001b[1;31mAttributeError\u001b[0m: 'Sigmoid' object has no attribute 'weight'"
     ]
    }
   ],
   "source": [
    "currmodel.encoder[1].weight.data.numpy()"
   ]
  },
  {
   "cell_type": "code",
   "execution_count": 5,
   "metadata": {},
   "outputs": [],
   "source": [
    "import zipfile"
   ]
  },
  {
   "cell_type": "code",
   "execution_count": 38,
   "metadata": {},
   "outputs": [],
   "source": [
    "with zipfile.ZipFile('../data/баженов а п.zip', 'r') as MRIs:\n",
    "    data = []\n",
    "    other = []\n",
    "    sh = 64\n",
    "    count = 0\n",
    "    for fName in MRIs.namelist():\n",
    "        if fName[-4:] == '.dcm':\n",
    "            with MRIs.open(fName) as fileDCM:\n",
    "                ds = pydicom.read_file(fileDCM)\n",
    "                \n",
    "                t = ds[(0x8, 0x103e)].value\n",
    "                \n",
    "                if not ('T1' in t or 'T2' in t or 't1' in t or 't2' in t):\n",
    "                    continue\n",
    "                \n",
    "                sex = ds[(0x10, 0x40)].value\n",
    "                sex = 1 if sex == 'M' else 0\n",
    "                age = ds[(0x10, 0x1010)].value\n",
    "                age = int(age[:-1])\n",
    "                weight = ds[(0x10, 0x1030)].value\n",
    "                weight = float(weight)\n",
    "                \n",
    "                ds = ds.pixel_array\n",
    "                \n",
    "                if len(ds.shape) > 2:\n",
    "                    count += 1\n",
    "                    continue\n",
    "        \n",
    "                other.append([sex, age, weight])\n",
    "        \n",
    "                if ds.shape[0] != sh:\n",
    "                \n",
    "                    gg = Image.fromarray(ds)\n",
    "                    gg = gg.resize((sh, sh))\n",
    "                    curr = np.asarray(gg)\n",
    "                    \n",
    "                curr = curr.reshape(sh**2)\n",
    "                mmax = float(np.max(curr))\n",
    "                if mmax != 0:\n",
    "                    curr = curr / mmax \n",
    "                    \n",
    "                data.append(curr)\n",
    "    data = np.array(data, dtype=float)\n",
    "    other = np.array(other)"
   ]
  },
  {
   "cell_type": "code",
   "execution_count": 154,
   "metadata": {},
   "outputs": [],
   "source": [
    "class MyAnotherSparceAutoencoder64(nn.Module):\n",
    "    def __init__(self, n_comp=10):\n",
    "        super(MyAnotherSparceAutoencoder64, self).__init__()\n",
    "        self.n_comp = n_comp\n",
    "\n",
    "        self.encoder = nn.Sequential(nn.Linear(4096, 1000), nn.Sigmoid(), \n",
    "        nn.Linear(1000, 500), nn.Sigmoid(), \n",
    "        nn.Linear(500, 100))\n",
    "        self.decoder = nn.Sequential(nn.Linear(n_comp, 500), nn.Tanh(), \n",
    "        nn.Linear(500, 1000), nn.Tanh(), \n",
    "        nn.Linear(1000, 4096))\n",
    "\n",
    "    def forward(self, x):\n",
    "        x = self.encoder(x)\n",
    "        x[x < x.sort(dim=1, descending=True)[0][:,self.n_comp - 1].resize(len(x),1)] = 0\n",
    "        \n",
    "        x = x[x != 0].resize(len(x), self.n_comp)\n",
    "        \n",
    "        x = self.decoder(x)\n",
    "        return x\n",
    "\n",
    "    def encode(self, x):\n",
    "        x = self.encoder(x)\n",
    "        x[x < x.sort(dim=1, descending=True)[0][:,self.n_comp - 1].resize(len(x),1)] = 0\n",
    "        x = x[x != 0].resize(len(x), self.n_comp)\n",
    "        \n",
    "        return x.data.numpy()"
   ]
  },
  {
   "cell_type": "code",
   "execution_count": 155,
   "metadata": {},
   "outputs": [
    {
     "name": "stdout",
     "output_type": "stream",
     "text": [
      "(9038, 4096)\n",
      "Epoch 199... (Train/Test) MSE: 0.010/0.010\tAccuracy: 11304.205/11292.244"
     ]
    }
   ],
   "source": [
    "with open('../data/d2data64.pickle', 'rb') as f:\n",
    "    d2data64 = pickle.load(f)\n",
    "print(d2data64.shape)\n",
    "\n",
    "for i in range(10, 17):\n",
    "    \n",
    "    currmodel = MyAnotherSparceAutoencoder64(i)\n",
    "    train_loss, test_loss, train_ac, test_ac = train(currmodel, d2data64, N, 0.001)\n",
    "    res.write('*' * 20 + '\\n')\n",
    "    res.write(str(type(currmodel)) + str(i) + '\\n')\n",
    "    res.write('(Train/Test) MSE: {0:.3f}/{1:.3f}\\tAccuracy: {2:.3f}/{3:.3f}\\n'.format(\n",
    "                    train_loss, test_loss,\n",
    "                    train_ac, test_ac))\n",
    "    \n",
    "    X1 = currmodel.encode(Variable(torch.Tensor(d2data64)))\n",
    "    X1 = pd.DataFrame(X1)\n",
    "    data = pd.concat([X1, other], axis=1)\n",
    "    f1 = check_models(data, y, metric='f1')\n",
    "\n",
    "    res.write(str(f1) + '\\n')\n",
    "    break"
   ]
  },
  {
   "cell_type": "code",
   "execution_count": 274,
   "metadata": {},
   "outputs": [
    {
     "name": "stderr",
     "output_type": "stream",
     "text": [
      "D:\\programs\\anaconda\\lib\\site-packages\\torch\\tensor.py:287: UserWarning: non-inplace resize is deprecated\n",
      "  warnings.warn(\"non-inplace resize is deprecated\")\n"
     ]
    }
   ],
   "source": [
    "X1 = currmodel.encode(Variable(torch.Tensor(d2data64)))\n",
    "X1 = pd.DataFrame(X1)\n",
    "data = pd.concat([X1, other], axis=1)\n",
    "f1 = check_models(data, y, metric='f1')"
   ]
  },
  {
   "cell_type": "code",
   "execution_count": 275,
   "metadata": {},
   "outputs": [
    {
     "data": {
      "text/plain": [
       "{'LogisticRegression': 0.9356415433419567,\n",
       " 'DecisionTree': 0.9985613959479114,\n",
       " 'GaussianNB': 0.8633159029122337,\n",
       " 'SVC': 1.0,\n",
       " 'SGD': 0.9161111045313133,\n",
       " 'GaussianProcess': 1.0,\n",
       " 'XGBoost': 0}"
      ]
     },
     "execution_count": 275,
     "metadata": {},
     "output_type": "execute_result"
    }
   ],
   "source": [
    "f1"
   ]
  },
  {
   "cell_type": "code",
   "execution_count": 290,
   "metadata": {},
   "outputs": [],
   "source": [
    "from scipy.special import expit\n",
    "class Encoder:\n",
    "    def __init__(self, model):\n",
    "        self.n_comp = model.n_comp\n",
    "        self.l1 = model.encoder[0].weight.data.numpy()\n",
    "        self.l1b = model.encoder[0].bias.data.numpy()\n",
    "        \n",
    "        self.l2 = model.encoder[2].weight.data.numpy()\n",
    "        self.l2b = model.encoder[2].bias.data.numpy()\n",
    "        \n",
    "        self.l3 = model.encoder[4].weight.data.numpy()\n",
    "        self.l3b = model.encoder[4].bias.data.numpy()\n",
    "        \n",
    "    def encode(self, X):\n",
    "        X = X.dot(self.l1.T) + self.l1b\n",
    "        X = expit(X)\n",
    "        X = X.dot(self.l2.T) + self.l2b\n",
    "        X = expit(X)\n",
    "        X = X.dot(self.l3.T) + self.l3b\n",
    "        \n",
    "        #sparce\n",
    "        z = X\n",
    "        z = np.sort(X, axis=1)[:,::-1][:, self.n_comp - 1]#.resize((len(x), 1))\n",
    "        z = np.array([z])\n",
    "        z.resize((len(X), 1))\n",
    "        X[X < z] = 0\n",
    "        #delete 0\n",
    "        X[X != 0].resize((len(X), self.n_comp))\n",
    "        k = len(X)\n",
    "        z = np.array([X[X != 0]])\n",
    "        z.resize((k, self.n_comp))\n",
    "        \n",
    "        return z"
   ]
  },
  {
   "cell_type": "code",
   "execution_count": 291,
   "metadata": {},
   "outputs": [],
   "source": [
    "ae = Encoder(currmodel)"
   ]
  },
  {
   "cell_type": "code",
   "execution_count": 292,
   "metadata": {},
   "outputs": [],
   "source": [
    "with open('../models/encoder.pickle', 'wb') as f:\n",
    "    pickle.dump(ae, f)"
   ]
  },
  {
   "cell_type": "code",
   "execution_count": 301,
   "metadata": {},
   "outputs": [
    {
     "data": {
      "text/plain": [
       "0.9781225210956201"
      ]
     },
     "execution_count": 301,
     "metadata": {},
     "output_type": "execute_result"
    }
   ],
   "source": [
    "data = ae.encode(d2data64)\n",
    "data = pd.DataFrame(data)\n",
    "data = pd.concat([data, other[[0,1]]], axis=1)\n",
    "data, y_ = shuffle(data, y)\n",
    "svc = SVC(kernel='rbf', shrinking=True, probability=False, degree=3, gamma='auto')\n",
    "cv = cross_validate(svc, data, y_, cv=5, scoring='f1')\n",
    "np.mean(cv['test_score'])"
   ]
  },
  {
   "cell_type": "code",
   "execution_count": 282,
   "metadata": {},
   "outputs": [
    {
     "data": {
      "text/plain": [
       "1.0"
      ]
     },
     "execution_count": 282,
     "metadata": {},
     "output_type": "execute_result"
    }
   ],
   "source": [
    "data1 = currmodel.encode(torch.Tensor(d2data64))\n",
    "data1 = pd.DataFrame(data1)\n",
    "data1 = pd.concat([data1, other], axis=1)\n",
    "data1, y1 = shuffle(data1, y)\n",
    "svc1 = SVC(kernel='rbf', shrinking=True, probability=False, degree=3, gamma='auto')\n",
    "cv1 = cross_validate(svc1, data1, y1, cv=5, scoring='f1')\n",
    "np.mean(cv1['test_score'])"
   ]
  },
  {
   "cell_type": "code",
   "execution_count": 285,
   "metadata": {},
   "outputs": [
    {
     "data": {
      "text/plain": [
       "SVC(C=1.0, cache_size=200, class_weight=None, coef0=0.0,\n",
       "  decision_function_shape='ovr', degree=3, gamma='auto', kernel='rbf',\n",
       "  max_iter=-1, probability=False, random_state=None, shrinking=True,\n",
       "  tol=0.001, verbose=False)"
      ]
     },
     "execution_count": 285,
     "metadata": {},
     "output_type": "execute_result"
    }
   ],
   "source": [
    "data = ae.encode(d2data64)\n",
    "data = pd.DataFrame(data)\n",
    "data = pd.concat([data, other], axis=1)\n",
    "data, y_ = shuffle(data, y)\n",
    "res_svc = SVC(kernel='rbf', shrinking=True, probability=False, degree=3, gamma='auto')\n",
    "res_svc.fit(data, y_)\n",
    "res_svc"
   ]
  },
  {
   "cell_type": "code",
   "execution_count": 287,
   "metadata": {},
   "outputs": [
    {
     "data": {
      "text/plain": [
       "1.0"
      ]
     },
     "execution_count": 287,
     "metadata": {},
     "output_type": "execute_result"
    }
   ],
   "source": [
    "from sklearn.metrics import f1_score\n",
    "ypred = res_svc.predict(data)\n",
    "f1_score(y_, ypred)"
   ]
  },
  {
   "cell_type": "code",
   "execution_count": 289,
   "metadata": {},
   "outputs": [],
   "source": [
    "with open('../models/predictor.pickle', 'wb') as f:\n",
    "    pickle.dump(res_svc, f)"
   ]
  },
  {
   "cell_type": "code",
   "execution_count": 295,
   "metadata": {},
   "outputs": [
    {
     "data": {
      "text/plain": [
       "{0.0, 1.0}"
      ]
     },
     "execution_count": 295,
     "metadata": {},
     "output_type": "execute_result"
    }
   ],
   "source": [
    "set(other[0])"
   ]
  },
  {
   "cell_type": "code",
   "execution_count": 296,
   "metadata": {},
   "outputs": [
    {
     "data": {
      "text/plain": [
       "{17.0,\n",
       " 23.0,\n",
       " 26.0,\n",
       " 28.0,\n",
       " 30.0,\n",
       " 32.0,\n",
       " 34.0,\n",
       " 35.0,\n",
       " 36.0,\n",
       " 37.0,\n",
       " 38.0,\n",
       " 39.0,\n",
       " 40.0,\n",
       " 41.0,\n",
       " 42.0,\n",
       " 43.0,\n",
       " 45.0,\n",
       " 46.0,\n",
       " 48.0,\n",
       " 49.0,\n",
       " 50.0,\n",
       " 51.0,\n",
       " 52.0,\n",
       " 53.0,\n",
       " 54.0,\n",
       " 56.0,\n",
       " 57.0,\n",
       " 58.0,\n",
       " 59.0,\n",
       " 60.0,\n",
       " 61.0,\n",
       " 62.0,\n",
       " 63.0,\n",
       " 64.0,\n",
       " 66.0,\n",
       " 67.0,\n",
       " 68.0,\n",
       " 71.0}"
      ]
     },
     "execution_count": 296,
     "metadata": {},
     "output_type": "execute_result"
    }
   ],
   "source": [
    "set(other[1])"
   ]
  },
  {
   "cell_type": "code",
   "execution_count": 297,
   "metadata": {},
   "outputs": [
    {
     "data": {
      "text/plain": [
       "{50.0,\n",
       " 60.0,\n",
       " 65.0,\n",
       " 68.0,\n",
       " 70.0,\n",
       " 75.0,\n",
       " 76.0,\n",
       " 80.0,\n",
       " 85.0,\n",
       " 87.0,\n",
       " 88.0,\n",
       " 90.0,\n",
       " 91.0,\n",
       " 96.0,\n",
       " 100.0,\n",
       " 107.0,\n",
       " 110.0}"
      ]
     },
     "execution_count": 297,
     "metadata": {},
     "output_type": "execute_result"
    }
   ],
   "source": [
    "set(other[2])"
   ]
  },
  {
   "cell_type": "code",
   "execution_count": 300,
   "metadata": {},
   "outputs": [
    {
     "data": {
      "text/html": [
       "<div>\n",
       "<style scoped>\n",
       "    .dataframe tbody tr th:only-of-type {\n",
       "        vertical-align: middle;\n",
       "    }\n",
       "\n",
       "    .dataframe tbody tr th {\n",
       "        vertical-align: top;\n",
       "    }\n",
       "\n",
       "    .dataframe thead th {\n",
       "        text-align: right;\n",
       "    }\n",
       "</style>\n",
       "<table border=\"1\" class=\"dataframe\">\n",
       "  <thead>\n",
       "    <tr style=\"text-align: right;\">\n",
       "      <th></th>\n",
       "      <th>0</th>\n",
       "      <th>1</th>\n",
       "    </tr>\n",
       "  </thead>\n",
       "  <tbody>\n",
       "    <tr>\n",
       "      <th>0</th>\n",
       "      <td>1.0</td>\n",
       "      <td>56.0</td>\n",
       "    </tr>\n",
       "    <tr>\n",
       "      <th>1</th>\n",
       "      <td>1.0</td>\n",
       "      <td>56.0</td>\n",
       "    </tr>\n",
       "    <tr>\n",
       "      <th>2</th>\n",
       "      <td>1.0</td>\n",
       "      <td>56.0</td>\n",
       "    </tr>\n",
       "    <tr>\n",
       "      <th>3</th>\n",
       "      <td>1.0</td>\n",
       "      <td>56.0</td>\n",
       "    </tr>\n",
       "    <tr>\n",
       "      <th>4</th>\n",
       "      <td>1.0</td>\n",
       "      <td>56.0</td>\n",
       "    </tr>\n",
       "    <tr>\n",
       "      <th>5</th>\n",
       "      <td>1.0</td>\n",
       "      <td>56.0</td>\n",
       "    </tr>\n",
       "    <tr>\n",
       "      <th>6</th>\n",
       "      <td>1.0</td>\n",
       "      <td>56.0</td>\n",
       "    </tr>\n",
       "    <tr>\n",
       "      <th>7</th>\n",
       "      <td>1.0</td>\n",
       "      <td>56.0</td>\n",
       "    </tr>\n",
       "    <tr>\n",
       "      <th>8</th>\n",
       "      <td>1.0</td>\n",
       "      <td>56.0</td>\n",
       "    </tr>\n",
       "    <tr>\n",
       "      <th>9</th>\n",
       "      <td>1.0</td>\n",
       "      <td>56.0</td>\n",
       "    </tr>\n",
       "    <tr>\n",
       "      <th>10</th>\n",
       "      <td>1.0</td>\n",
       "      <td>56.0</td>\n",
       "    </tr>\n",
       "    <tr>\n",
       "      <th>11</th>\n",
       "      <td>1.0</td>\n",
       "      <td>56.0</td>\n",
       "    </tr>\n",
       "    <tr>\n",
       "      <th>12</th>\n",
       "      <td>1.0</td>\n",
       "      <td>56.0</td>\n",
       "    </tr>\n",
       "    <tr>\n",
       "      <th>13</th>\n",
       "      <td>1.0</td>\n",
       "      <td>56.0</td>\n",
       "    </tr>\n",
       "    <tr>\n",
       "      <th>14</th>\n",
       "      <td>1.0</td>\n",
       "      <td>56.0</td>\n",
       "    </tr>\n",
       "    <tr>\n",
       "      <th>15</th>\n",
       "      <td>1.0</td>\n",
       "      <td>56.0</td>\n",
       "    </tr>\n",
       "    <tr>\n",
       "      <th>16</th>\n",
       "      <td>1.0</td>\n",
       "      <td>56.0</td>\n",
       "    </tr>\n",
       "    <tr>\n",
       "      <th>17</th>\n",
       "      <td>1.0</td>\n",
       "      <td>56.0</td>\n",
       "    </tr>\n",
       "    <tr>\n",
       "      <th>18</th>\n",
       "      <td>1.0</td>\n",
       "      <td>56.0</td>\n",
       "    </tr>\n",
       "    <tr>\n",
       "      <th>19</th>\n",
       "      <td>1.0</td>\n",
       "      <td>56.0</td>\n",
       "    </tr>\n",
       "    <tr>\n",
       "      <th>20</th>\n",
       "      <td>1.0</td>\n",
       "      <td>56.0</td>\n",
       "    </tr>\n",
       "    <tr>\n",
       "      <th>21</th>\n",
       "      <td>1.0</td>\n",
       "      <td>56.0</td>\n",
       "    </tr>\n",
       "    <tr>\n",
       "      <th>22</th>\n",
       "      <td>1.0</td>\n",
       "      <td>56.0</td>\n",
       "    </tr>\n",
       "    <tr>\n",
       "      <th>23</th>\n",
       "      <td>1.0</td>\n",
       "      <td>56.0</td>\n",
       "    </tr>\n",
       "    <tr>\n",
       "      <th>24</th>\n",
       "      <td>1.0</td>\n",
       "      <td>56.0</td>\n",
       "    </tr>\n",
       "    <tr>\n",
       "      <th>25</th>\n",
       "      <td>1.0</td>\n",
       "      <td>56.0</td>\n",
       "    </tr>\n",
       "    <tr>\n",
       "      <th>26</th>\n",
       "      <td>1.0</td>\n",
       "      <td>56.0</td>\n",
       "    </tr>\n",
       "    <tr>\n",
       "      <th>27</th>\n",
       "      <td>1.0</td>\n",
       "      <td>56.0</td>\n",
       "    </tr>\n",
       "    <tr>\n",
       "      <th>28</th>\n",
       "      <td>1.0</td>\n",
       "      <td>56.0</td>\n",
       "    </tr>\n",
       "    <tr>\n",
       "      <th>29</th>\n",
       "      <td>1.0</td>\n",
       "      <td>56.0</td>\n",
       "    </tr>\n",
       "    <tr>\n",
       "      <th>...</th>\n",
       "      <td>...</td>\n",
       "      <td>...</td>\n",
       "    </tr>\n",
       "    <tr>\n",
       "      <th>9008</th>\n",
       "      <td>1.0</td>\n",
       "      <td>63.0</td>\n",
       "    </tr>\n",
       "    <tr>\n",
       "      <th>9009</th>\n",
       "      <td>1.0</td>\n",
       "      <td>63.0</td>\n",
       "    </tr>\n",
       "    <tr>\n",
       "      <th>9010</th>\n",
       "      <td>1.0</td>\n",
       "      <td>63.0</td>\n",
       "    </tr>\n",
       "    <tr>\n",
       "      <th>9011</th>\n",
       "      <td>1.0</td>\n",
       "      <td>63.0</td>\n",
       "    </tr>\n",
       "    <tr>\n",
       "      <th>9012</th>\n",
       "      <td>1.0</td>\n",
       "      <td>63.0</td>\n",
       "    </tr>\n",
       "    <tr>\n",
       "      <th>9013</th>\n",
       "      <td>1.0</td>\n",
       "      <td>63.0</td>\n",
       "    </tr>\n",
       "    <tr>\n",
       "      <th>9014</th>\n",
       "      <td>1.0</td>\n",
       "      <td>63.0</td>\n",
       "    </tr>\n",
       "    <tr>\n",
       "      <th>9015</th>\n",
       "      <td>1.0</td>\n",
       "      <td>63.0</td>\n",
       "    </tr>\n",
       "    <tr>\n",
       "      <th>9016</th>\n",
       "      <td>1.0</td>\n",
       "      <td>63.0</td>\n",
       "    </tr>\n",
       "    <tr>\n",
       "      <th>9017</th>\n",
       "      <td>1.0</td>\n",
       "      <td>63.0</td>\n",
       "    </tr>\n",
       "    <tr>\n",
       "      <th>9018</th>\n",
       "      <td>1.0</td>\n",
       "      <td>63.0</td>\n",
       "    </tr>\n",
       "    <tr>\n",
       "      <th>9019</th>\n",
       "      <td>1.0</td>\n",
       "      <td>63.0</td>\n",
       "    </tr>\n",
       "    <tr>\n",
       "      <th>9020</th>\n",
       "      <td>1.0</td>\n",
       "      <td>63.0</td>\n",
       "    </tr>\n",
       "    <tr>\n",
       "      <th>9021</th>\n",
       "      <td>1.0</td>\n",
       "      <td>63.0</td>\n",
       "    </tr>\n",
       "    <tr>\n",
       "      <th>9022</th>\n",
       "      <td>1.0</td>\n",
       "      <td>63.0</td>\n",
       "    </tr>\n",
       "    <tr>\n",
       "      <th>9023</th>\n",
       "      <td>1.0</td>\n",
       "      <td>63.0</td>\n",
       "    </tr>\n",
       "    <tr>\n",
       "      <th>9024</th>\n",
       "      <td>1.0</td>\n",
       "      <td>63.0</td>\n",
       "    </tr>\n",
       "    <tr>\n",
       "      <th>9025</th>\n",
       "      <td>1.0</td>\n",
       "      <td>63.0</td>\n",
       "    </tr>\n",
       "    <tr>\n",
       "      <th>9026</th>\n",
       "      <td>1.0</td>\n",
       "      <td>63.0</td>\n",
       "    </tr>\n",
       "    <tr>\n",
       "      <th>9027</th>\n",
       "      <td>1.0</td>\n",
       "      <td>63.0</td>\n",
       "    </tr>\n",
       "    <tr>\n",
       "      <th>9028</th>\n",
       "      <td>1.0</td>\n",
       "      <td>63.0</td>\n",
       "    </tr>\n",
       "    <tr>\n",
       "      <th>9029</th>\n",
       "      <td>1.0</td>\n",
       "      <td>63.0</td>\n",
       "    </tr>\n",
       "    <tr>\n",
       "      <th>9030</th>\n",
       "      <td>1.0</td>\n",
       "      <td>63.0</td>\n",
       "    </tr>\n",
       "    <tr>\n",
       "      <th>9031</th>\n",
       "      <td>1.0</td>\n",
       "      <td>63.0</td>\n",
       "    </tr>\n",
       "    <tr>\n",
       "      <th>9032</th>\n",
       "      <td>1.0</td>\n",
       "      <td>63.0</td>\n",
       "    </tr>\n",
       "    <tr>\n",
       "      <th>9033</th>\n",
       "      <td>1.0</td>\n",
       "      <td>63.0</td>\n",
       "    </tr>\n",
       "    <tr>\n",
       "      <th>9034</th>\n",
       "      <td>1.0</td>\n",
       "      <td>63.0</td>\n",
       "    </tr>\n",
       "    <tr>\n",
       "      <th>9035</th>\n",
       "      <td>1.0</td>\n",
       "      <td>63.0</td>\n",
       "    </tr>\n",
       "    <tr>\n",
       "      <th>9036</th>\n",
       "      <td>1.0</td>\n",
       "      <td>63.0</td>\n",
       "    </tr>\n",
       "    <tr>\n",
       "      <th>9037</th>\n",
       "      <td>1.0</td>\n",
       "      <td>63.0</td>\n",
       "    </tr>\n",
       "  </tbody>\n",
       "</table>\n",
       "<p>9038 rows × 2 columns</p>\n",
       "</div>"
      ],
      "text/plain": [
       "        0     1\n",
       "0     1.0  56.0\n",
       "1     1.0  56.0\n",
       "2     1.0  56.0\n",
       "3     1.0  56.0\n",
       "4     1.0  56.0\n",
       "5     1.0  56.0\n",
       "6     1.0  56.0\n",
       "7     1.0  56.0\n",
       "8     1.0  56.0\n",
       "9     1.0  56.0\n",
       "10    1.0  56.0\n",
       "11    1.0  56.0\n",
       "12    1.0  56.0\n",
       "13    1.0  56.0\n",
       "14    1.0  56.0\n",
       "15    1.0  56.0\n",
       "16    1.0  56.0\n",
       "17    1.0  56.0\n",
       "18    1.0  56.0\n",
       "19    1.0  56.0\n",
       "20    1.0  56.0\n",
       "21    1.0  56.0\n",
       "22    1.0  56.0\n",
       "23    1.0  56.0\n",
       "24    1.0  56.0\n",
       "25    1.0  56.0\n",
       "26    1.0  56.0\n",
       "27    1.0  56.0\n",
       "28    1.0  56.0\n",
       "29    1.0  56.0\n",
       "...   ...   ...\n",
       "9008  1.0  63.0\n",
       "9009  1.0  63.0\n",
       "9010  1.0  63.0\n",
       "9011  1.0  63.0\n",
       "9012  1.0  63.0\n",
       "9013  1.0  63.0\n",
       "9014  1.0  63.0\n",
       "9015  1.0  63.0\n",
       "9016  1.0  63.0\n",
       "9017  1.0  63.0\n",
       "9018  1.0  63.0\n",
       "9019  1.0  63.0\n",
       "9020  1.0  63.0\n",
       "9021  1.0  63.0\n",
       "9022  1.0  63.0\n",
       "9023  1.0  63.0\n",
       "9024  1.0  63.0\n",
       "9025  1.0  63.0\n",
       "9026  1.0  63.0\n",
       "9027  1.0  63.0\n",
       "9028  1.0  63.0\n",
       "9029  1.0  63.0\n",
       "9030  1.0  63.0\n",
       "9031  1.0  63.0\n",
       "9032  1.0  63.0\n",
       "9033  1.0  63.0\n",
       "9034  1.0  63.0\n",
       "9035  1.0  63.0\n",
       "9036  1.0  63.0\n",
       "9037  1.0  63.0\n",
       "\n",
       "[9038 rows x 2 columns]"
      ]
     },
     "execution_count": 300,
     "metadata": {},
     "output_type": "execute_result"
    }
   ],
   "source": [
    "other[[0,1]]"
   ]
  },
  {
   "cell_type": "code",
   "execution_count": 10,
   "metadata": {},
   "outputs": [
    {
     "name": "stdout",
     "output_type": "stream",
     "text": [
      "Epoch 199... (Train/Test) MSE: 0.009/0.009\tAccuracy: 10910.117/10847.986"
     ]
    },
    {
     "name": "stderr",
     "output_type": "stream",
     "text": [
      "D:\\programs\\anaconda\\lib\\site-packages\\torch\\tensor.py:287: UserWarning: non-inplace resize is deprecated\n",
      "  warnings.warn(\"non-inplace resize is deprecated\")\n"
     ]
    },
    {
     "name": "stdout",
     "output_type": "stream",
     "text": [
      "Epoch 199... (Train/Test) MSE: 0.021/0.021\tAccuracy: 17857.955/17413.537"
     ]
    },
    {
     "name": "stderr",
     "output_type": "stream",
     "text": [
      "D:\\programs\\anaconda\\lib\\site-packages\\torch\\tensor.py:287: UserWarning: non-inplace resize is deprecated\n",
      "  warnings.warn(\"non-inplace resize is deprecated\")\n"
     ]
    },
    {
     "name": "stdout",
     "output_type": "stream",
     "text": [
      "Epoch 199... (Train/Test) MSE: 0.012/0.012\tAccuracy: 12714.178/12676.375"
     ]
    }
   ],
   "source": [
    "with open('../data/d2data64.pickle', 'rb') as f:\n",
    "    d2data64 = pickle.load(f)\n",
    "    \n",
    "currmodel = MyAutoencoder64(20)\n",
    "train(currmodel, d2data64, N, 0.001)\n",
    "X1 = currmodel.encode(Variable(torch.Tensor(d2data64)))\n",
    "f1_ae64 = check_models(X1, y, metric='f1')\n",
    "\n",
    "currmodel = MySparceAutoencoder64(20)\n",
    "train(currmodel, d2data64, N, 0.001)\n",
    "X1 = currmodel.encode(Variable(torch.Tensor(d2data64)))\n",
    "f1_sae64 = check_models(X1, y, metric='f1')\n",
    "\n",
    "currmodel = MyDeepAutoencoder64(20)\n",
    "train(currmodel, d2data64, N, 0.001)\n",
    "X1 = currmodel.encode(Variable(torch.Tensor(d2data64)))\n",
    "f1_dae64 = check_models(X1, y, metric='f1')\n",
    "\n",
    "currmodel = MyDeepSparceAutoencoder64(20)\n",
    "train(currmodel, d2data64, N, 0.001)\n",
    "X1 = currmodel.encode(Variable(torch.Tensor(d2data64)))\n",
    "f1_dsae64 = check_models(X1, y, metric='f1')"
   ]
  },
  {
   "cell_type": "code",
   "execution_count": 24,
   "metadata": {},
   "outputs": [
    {
     "ename": "TypeError",
     "evalue": "`bins` must be an integer, a string, or an array",
     "output_type": "error",
     "traceback": [
      "\u001b[1;31m---------------------------------------------------------------------------\u001b[0m",
      "\u001b[1;31mTypeError\u001b[0m                                 Traceback (most recent call last)",
      "\u001b[1;32mD:\\programs\\anaconda\\lib\\site-packages\\numpy\\lib\\histograms.py\u001b[0m in \u001b[0;36m_get_bin_edges\u001b[1;34m(a, bins, range, weights)\u001b[0m\n\u001b[0;32m    355\u001b[0m         \u001b[1;32mtry\u001b[0m\u001b[1;33m:\u001b[0m\u001b[1;33m\u001b[0m\u001b[1;33m\u001b[0m\u001b[0m\n\u001b[1;32m--> 356\u001b[1;33m             \u001b[0mn_equal_bins\u001b[0m \u001b[1;33m=\u001b[0m \u001b[0moperator\u001b[0m\u001b[1;33m.\u001b[0m\u001b[0mindex\u001b[0m\u001b[1;33m(\u001b[0m\u001b[0mbins\u001b[0m\u001b[1;33m)\u001b[0m\u001b[1;33m\u001b[0m\u001b[1;33m\u001b[0m\u001b[0m\n\u001b[0m\u001b[0;32m    357\u001b[0m         \u001b[1;32mexcept\u001b[0m \u001b[0mTypeError\u001b[0m\u001b[1;33m:\u001b[0m\u001b[1;33m\u001b[0m\u001b[1;33m\u001b[0m\u001b[0m\n",
      "\u001b[1;31mTypeError\u001b[0m: 'dict_values' object cannot be interpreted as an integer",
      "\nDuring handling of the above exception, another exception occurred:\n",
      "\u001b[1;31mTypeError\u001b[0m                                 Traceback (most recent call last)",
      "\u001b[1;32m<ipython-input-24-b9e4db0ebb30>\u001b[0m in \u001b[0;36m<module>\u001b[1;34m\u001b[0m\n\u001b[1;32m----> 1\u001b[1;33m \u001b[0mplt\u001b[0m\u001b[1;33m.\u001b[0m\u001b[0mhist\u001b[0m\u001b[1;33m(\u001b[0m\u001b[0mf1_ae64\u001b[0m\u001b[1;33m.\u001b[0m\u001b[0mkeys\u001b[0m\u001b[1;33m(\u001b[0m\u001b[1;33m)\u001b[0m\u001b[1;33m,\u001b[0m \u001b[0mf1_ae64\u001b[0m\u001b[1;33m.\u001b[0m\u001b[0mvalues\u001b[0m\u001b[1;33m(\u001b[0m\u001b[1;33m)\u001b[0m\u001b[1;33m)\u001b[0m\u001b[1;33m\u001b[0m\u001b[1;33m\u001b[0m\u001b[0m\n\u001b[0m\u001b[0;32m      2\u001b[0m \u001b[0mplt\u001b[0m\u001b[1;33m.\u001b[0m\u001b[0mshow\u001b[0m\u001b[1;33m(\u001b[0m\u001b[1;33m)\u001b[0m\u001b[1;33m\u001b[0m\u001b[1;33m\u001b[0m\u001b[0m\n",
      "\u001b[1;32mD:\\programs\\anaconda\\lib\\site-packages\\matplotlib\\pyplot.py\u001b[0m in \u001b[0;36mhist\u001b[1;34m(x, bins, range, density, weights, cumulative, bottom, histtype, align, orientation, rwidth, log, color, label, stacked, normed, data, **kwargs)\u001b[0m\n\u001b[0;32m   2659\u001b[0m         \u001b[0malign\u001b[0m\u001b[1;33m=\u001b[0m\u001b[0malign\u001b[0m\u001b[1;33m,\u001b[0m \u001b[0morientation\u001b[0m\u001b[1;33m=\u001b[0m\u001b[0morientation\u001b[0m\u001b[1;33m,\u001b[0m \u001b[0mrwidth\u001b[0m\u001b[1;33m=\u001b[0m\u001b[0mrwidth\u001b[0m\u001b[1;33m,\u001b[0m \u001b[0mlog\u001b[0m\u001b[1;33m=\u001b[0m\u001b[0mlog\u001b[0m\u001b[1;33m,\u001b[0m\u001b[1;33m\u001b[0m\u001b[1;33m\u001b[0m\u001b[0m\n\u001b[0;32m   2660\u001b[0m         \u001b[0mcolor\u001b[0m\u001b[1;33m=\u001b[0m\u001b[0mcolor\u001b[0m\u001b[1;33m,\u001b[0m \u001b[0mlabel\u001b[0m\u001b[1;33m=\u001b[0m\u001b[0mlabel\u001b[0m\u001b[1;33m,\u001b[0m \u001b[0mstacked\u001b[0m\u001b[1;33m=\u001b[0m\u001b[0mstacked\u001b[0m\u001b[1;33m,\u001b[0m \u001b[0mnormed\u001b[0m\u001b[1;33m=\u001b[0m\u001b[0mnormed\u001b[0m\u001b[1;33m,\u001b[0m\u001b[1;33m\u001b[0m\u001b[1;33m\u001b[0m\u001b[0m\n\u001b[1;32m-> 2661\u001b[1;33m         **({\"data\": data} if data is not None else {}), **kwargs)\n\u001b[0m\u001b[0;32m   2662\u001b[0m \u001b[1;33m\u001b[0m\u001b[0m\n\u001b[0;32m   2663\u001b[0m \u001b[1;33m\u001b[0m\u001b[0m\n",
      "\u001b[1;32mD:\\programs\\anaconda\\lib\\site-packages\\matplotlib\\__init__.py\u001b[0m in \u001b[0;36minner\u001b[1;34m(ax, data, *args, **kwargs)\u001b[0m\n\u001b[0;32m   1808\u001b[0m                         \u001b[1;34m\"the Matplotlib list!)\"\u001b[0m \u001b[1;33m%\u001b[0m \u001b[1;33m(\u001b[0m\u001b[0mlabel_namer\u001b[0m\u001b[1;33m,\u001b[0m \u001b[0mfunc\u001b[0m\u001b[1;33m.\u001b[0m\u001b[0m__name__\u001b[0m\u001b[1;33m)\u001b[0m\u001b[1;33m,\u001b[0m\u001b[1;33m\u001b[0m\u001b[1;33m\u001b[0m\u001b[0m\n\u001b[0;32m   1809\u001b[0m                         RuntimeWarning, stacklevel=2)\n\u001b[1;32m-> 1810\u001b[1;33m             \u001b[1;32mreturn\u001b[0m \u001b[0mfunc\u001b[0m\u001b[1;33m(\u001b[0m\u001b[0max\u001b[0m\u001b[1;33m,\u001b[0m \u001b[1;33m*\u001b[0m\u001b[0margs\u001b[0m\u001b[1;33m,\u001b[0m \u001b[1;33m**\u001b[0m\u001b[0mkwargs\u001b[0m\u001b[1;33m)\u001b[0m\u001b[1;33m\u001b[0m\u001b[1;33m\u001b[0m\u001b[0m\n\u001b[0m\u001b[0;32m   1811\u001b[0m \u001b[1;33m\u001b[0m\u001b[0m\n\u001b[0;32m   1812\u001b[0m         inner.__doc__ = _add_data_doc(inner.__doc__,\n",
      "\u001b[1;32mD:\\programs\\anaconda\\lib\\site-packages\\matplotlib\\axes\\_axes.py\u001b[0m in \u001b[0;36mhist\u001b[1;34m(self, x, bins, range, density, weights, cumulative, bottom, histtype, align, orientation, rwidth, log, color, label, stacked, normed, **kwargs)\u001b[0m\n\u001b[0;32m   6589\u001b[0m             \u001b[1;31m# this will automatically overwrite bins,\u001b[0m\u001b[1;33m\u001b[0m\u001b[1;33m\u001b[0m\u001b[1;33m\u001b[0m\u001b[0m\n\u001b[0;32m   6590\u001b[0m             \u001b[1;31m# so that each histogram uses the same bins\u001b[0m\u001b[1;33m\u001b[0m\u001b[1;33m\u001b[0m\u001b[1;33m\u001b[0m\u001b[0m\n\u001b[1;32m-> 6591\u001b[1;33m             \u001b[0mm\u001b[0m\u001b[1;33m,\u001b[0m \u001b[0mbins\u001b[0m \u001b[1;33m=\u001b[0m \u001b[0mnp\u001b[0m\u001b[1;33m.\u001b[0m\u001b[0mhistogram\u001b[0m\u001b[1;33m(\u001b[0m\u001b[0mx\u001b[0m\u001b[1;33m[\u001b[0m\u001b[0mi\u001b[0m\u001b[1;33m]\u001b[0m\u001b[1;33m,\u001b[0m \u001b[0mbins\u001b[0m\u001b[1;33m,\u001b[0m \u001b[0mweights\u001b[0m\u001b[1;33m=\u001b[0m\u001b[0mw\u001b[0m\u001b[1;33m[\u001b[0m\u001b[0mi\u001b[0m\u001b[1;33m]\u001b[0m\u001b[1;33m,\u001b[0m \u001b[1;33m**\u001b[0m\u001b[0mhist_kwargs\u001b[0m\u001b[1;33m)\u001b[0m\u001b[1;33m\u001b[0m\u001b[1;33m\u001b[0m\u001b[0m\n\u001b[0m\u001b[0;32m   6592\u001b[0m             \u001b[0mm\u001b[0m \u001b[1;33m=\u001b[0m \u001b[0mm\u001b[0m\u001b[1;33m.\u001b[0m\u001b[0mastype\u001b[0m\u001b[1;33m(\u001b[0m\u001b[0mfloat\u001b[0m\u001b[1;33m)\u001b[0m  \u001b[1;31m# causes problems later if it's an int\u001b[0m\u001b[1;33m\u001b[0m\u001b[1;33m\u001b[0m\u001b[0m\n\u001b[0;32m   6593\u001b[0m             \u001b[1;32mif\u001b[0m \u001b[0mmlast\u001b[0m \u001b[1;32mis\u001b[0m \u001b[1;32mNone\u001b[0m\u001b[1;33m:\u001b[0m\u001b[1;33m\u001b[0m\u001b[1;33m\u001b[0m\u001b[0m\n",
      "\u001b[1;32mD:\\programs\\anaconda\\lib\\site-packages\\numpy\\lib\\histograms.py\u001b[0m in \u001b[0;36mhistogram\u001b[1;34m(a, bins, range, normed, weights, density)\u001b[0m\n\u001b[0;32m    708\u001b[0m     \u001b[0ma\u001b[0m\u001b[1;33m,\u001b[0m \u001b[0mweights\u001b[0m \u001b[1;33m=\u001b[0m \u001b[0m_ravel_and_check_weights\u001b[0m\u001b[1;33m(\u001b[0m\u001b[0ma\u001b[0m\u001b[1;33m,\u001b[0m \u001b[0mweights\u001b[0m\u001b[1;33m)\u001b[0m\u001b[1;33m\u001b[0m\u001b[1;33m\u001b[0m\u001b[0m\n\u001b[0;32m    709\u001b[0m \u001b[1;33m\u001b[0m\u001b[0m\n\u001b[1;32m--> 710\u001b[1;33m     \u001b[0mbin_edges\u001b[0m\u001b[1;33m,\u001b[0m \u001b[0muniform_bins\u001b[0m \u001b[1;33m=\u001b[0m \u001b[0m_get_bin_edges\u001b[0m\u001b[1;33m(\u001b[0m\u001b[0ma\u001b[0m\u001b[1;33m,\u001b[0m \u001b[0mbins\u001b[0m\u001b[1;33m,\u001b[0m \u001b[0mrange\u001b[0m\u001b[1;33m,\u001b[0m \u001b[0mweights\u001b[0m\u001b[1;33m)\u001b[0m\u001b[1;33m\u001b[0m\u001b[1;33m\u001b[0m\u001b[0m\n\u001b[0m\u001b[0;32m    711\u001b[0m \u001b[1;33m\u001b[0m\u001b[0m\n\u001b[0;32m    712\u001b[0m     \u001b[1;31m# Histogram is an integer or a float array depending on the weights.\u001b[0m\u001b[1;33m\u001b[0m\u001b[1;33m\u001b[0m\u001b[1;33m\u001b[0m\u001b[0m\n",
      "\u001b[1;32mD:\\programs\\anaconda\\lib\\site-packages\\numpy\\lib\\histograms.py\u001b[0m in \u001b[0;36m_get_bin_edges\u001b[1;34m(a, bins, range, weights)\u001b[0m\n\u001b[0;32m    357\u001b[0m         \u001b[1;32mexcept\u001b[0m \u001b[0mTypeError\u001b[0m\u001b[1;33m:\u001b[0m\u001b[1;33m\u001b[0m\u001b[1;33m\u001b[0m\u001b[0m\n\u001b[0;32m    358\u001b[0m             raise TypeError(\n\u001b[1;32m--> 359\u001b[1;33m                 '`bins` must be an integer, a string, or an array')\n\u001b[0m\u001b[0;32m    360\u001b[0m         \u001b[1;32mif\u001b[0m \u001b[0mn_equal_bins\u001b[0m \u001b[1;33m<\u001b[0m \u001b[1;36m1\u001b[0m\u001b[1;33m:\u001b[0m\u001b[1;33m\u001b[0m\u001b[1;33m\u001b[0m\u001b[0m\n\u001b[0;32m    361\u001b[0m             \u001b[1;32mraise\u001b[0m \u001b[0mValueError\u001b[0m\u001b[1;33m(\u001b[0m\u001b[1;34m'`bins` must be positive, when an integer'\u001b[0m\u001b[1;33m)\u001b[0m\u001b[1;33m\u001b[0m\u001b[1;33m\u001b[0m\u001b[0m\n",
      "\u001b[1;31mTypeError\u001b[0m: `bins` must be an integer, a string, or an array"
     ]
    },
    {
     "data": {
      "image/png": "[encoded data removed]",
      "text/plain": [
       "<Figure size 432x288 with 1 Axes>"
      ]
     },
     "metadata": {
      "needs_background": "light"
     },
     "output_type": "display_data"
    }
   ],
   "source": [
    "plt.hist(f1_ae64.keys(), f1_ae64.values())\n",
    "plt.show()"
   ]
  },
  {
   "cell_type": "code",
   "execution_count": 40,
   "metadata": {},
   "outputs": [
    {
     "data": {
      "text/plain": [
       "<BarContainer object of 7 artists>"
      ]
     },
     "execution_count": 40,
     "metadata": {},
     "output_type": "execute_result"
    },
    {
     "data": {
      "image/png": "[encoded data removed]",
      "text/plain": [
       "<Figure size 432x288 with 1 Axes>"
      ]
     },
     "metadata": {
      "needs_background": "light"
     },
     "output_type": "display_data"
    }
   ],
   "source": [
    "\n",
    "fig, axes = plt.subplots()\n",
    "axes.set_title('models')\n",
    "#axes.set_title('ConvAutoencoder')\n",
    "axes.bar(f1_ae64.keys(), f1_ae64.values(), align='center', alpha=0.5)\n",
    "#axes.legend()"
   ]
  },
  {
   "cell_type": "code",
   "execution_count": 53,
   "metadata": {},
   "outputs": [
    {
     "data": {
      "image/png": "[encoded data removed]",
      "text/plain": [
       "<Figure size 432x288 with 1 Axes>"
      ]
     },
     "metadata": {
      "needs_background": "light"
     },
     "output_type": "display_data"
    },
    {
     "data": {
      "text/plain": [
       "{'LogisticRegression': 0.935453435508905,\n",
       " 'DecisionTree': 0.871321458830213,\n",
       " 'GaussianNB': 0.7446741547761518,\n",
       " 'SVC': 0.9356415433419567,\n",
       " 'SGD': 0.9356415433419567,\n",
       " 'GaussianProcess': 0.935806896480923,\n",
       " 'XGBoost': 0}"
      ]
     },
     "execution_count": 53,
     "metadata": {},
     "output_type": "execute_result"
    }
   ],
   "source": [
    "keyes = ('LogisticRegression', 'DecisionTree', 'GaussianNB', 'SVC', 'SGD', 'GaussianProcess')\n",
    "yyyy = range(6)\n",
    "plt.barh(yyyy, list(f1_ae64.values())[:-1], align='center', alpha=0.5)\n",
    "plt.yticks(yyyy, keyes)\n",
    "plt.xlabel('f1 score')\n",
    "plt.title('MyAutoencoder')\n",
    "plt.show()\n",
    "f1_ae64"
   ]
  },
  {
   "cell_type": "code",
   "execution_count": 54,
   "metadata": {},
   "outputs": [
    {
     "data": {
      "image/png": "[encoded data removed]",
      "text/plain": [
       "<Figure size 432x288 with 1 Axes>"
      ]
     },
     "metadata": {
      "needs_background": "light"
     },
     "output_type": "display_data"
    },
    {
     "data": {
      "text/plain": [
       "{'LogisticRegression': 0.9356415433419567,\n",
       " 'DecisionTree': 0.8790662296575265,\n",
       " 'GaussianNB': 0.003515384536887629,\n",
       " 'SVC': 0.9356415433419567,\n",
       " 'SGD': 0.9356415433419567,\n",
       " 'GaussianProcess': 0.9356415433419567,\n",
       " 'XGBoost': 0}"
      ]
     },
     "execution_count": 54,
     "metadata": {},
     "output_type": "execute_result"
    }
   ],
   "source": [
    "keyes = ('LogisticRegression', 'DecisionTree', 'GaussianNB', 'SVC', 'SGD', 'GaussianProcess')\n",
    "yyyy = range(6)\n",
    "plt.barh(yyyy, list(f1_dae64.values())[:-1], align='center', alpha=0.5)\n",
    "plt.yticks(yyyy, keyes)\n",
    "plt.xlabel('f1 score')\n",
    "plt.title('MyDeepAutoencoder')\n",
    "plt.show()\n",
    "f1_dae64"
   ]
  },
  {
   "cell_type": "code",
   "execution_count": 55,
   "metadata": {},
   "outputs": [
    {
     "data": {
      "image/png": "[encoded data removed]",
      "text/plain": [
       "<Figure size 432x288 with 1 Axes>"
      ]
     },
     "metadata": {
      "needs_background": "light"
     },
     "output_type": "display_data"
    },
    {
     "data": {
      "text/plain": [
       "{'LogisticRegression': 0.9356415433419567,\n",
       " 'DecisionTree': 0.8780698586127695,\n",
       " 'GaussianNB': 0.7054006015573615,\n",
       " 'SVC': 0.9356415433419567,\n",
       " 'SGD': 0.9356415433419567,\n",
       " 'GaussianProcess': 0.9356415433419567,\n",
       " 'XGBoost': 0}"
      ]
     },
     "execution_count": 55,
     "metadata": {},
     "output_type": "execute_result"
    }
   ],
   "source": [
    "keyes = ('LogisticRegression', 'DecisionTree', 'GaussianNB', 'SVC', 'SGD', 'GaussianProcess')\n",
    "yyyy = range(6)\n",
    "plt.barh(yyyy, list(f1_sae64.values())[:-1], align='center', alpha=0.5)\n",
    "plt.yticks(yyyy, keyes)\n",
    "plt.xlabel('f1 score')\n",
    "plt.title('MySparceAutoencoder')\n",
    "plt.show()\n",
    "f1_sae64"
   ]
  },
  {
   "cell_type": "code",
   "execution_count": 52,
   "metadata": {},
   "outputs": [
    {
     "data": {
      "image/png": "[encoded data removed]",
      "text/plain": [
       "<Figure size 432x288 with 1 Axes>"
      ]
     },
     "metadata": {
      "needs_background": "light"
     },
     "output_type": "display_data"
    },
    {
     "data": {
      "text/plain": [
       "{'LogisticRegression': 0.9356415433419567,\n",
       " 'DecisionTree': 0.8510729537540833,\n",
       " 'GaussianNB': 0.7352653343351159,\n",
       " 'SVC': 0.9356415433419567,\n",
       " 'SGD': 0.9356415433419567,\n",
       " 'GaussianProcess': 0.9356415433419567,\n",
       " 'XGBoost': 0}"
      ]
     },
     "execution_count": 52,
     "metadata": {},
     "output_type": "execute_result"
    }
   ],
   "source": [
    "keyes = ('LogisticRegression', 'DecisionTree', 'GaussianNB', 'SVC', 'SGD', 'GaussianProcess')\n",
    "yyyy = range(6)\n",
    "plt.barh(yyyy, list(f1_dsae64.values())[:-1], align='center', alpha=0.5)\n",
    "plt.yticks(yyyy, keyes)\n",
    "plt.xlabel('f1 score')\n",
    "plt.title('MyDeepSparceAutoencoder')\n",
    "plt.show()\n",
    "f1_dsae64"
   ]
  },
  {
   "cell_type": "code",
   "execution_count": 57,
   "metadata": {},
   "outputs": [
    {
     "data": {
      "text/plain": [
       "{'LogisticRegression': [0.935453435508905,\n",
       "  0.9356415433419567,\n",
       "  0.9356415433419567,\n",
       "  0.9356415433419567],\n",
       " 'DecisionTree': [0.871321458830213,\n",
       "  0.8790662296575265,\n",
       "  0.8780698586127695,\n",
       "  0.8510729537540833],\n",
       " 'GaussianNB': [0.7446741547761518,\n",
       "  0.003515384536887629,\n",
       "  0.7054006015573615,\n",
       "  0.7352653343351159],\n",
       " 'SVC': [0.9356415433419567,\n",
       "  0.9356415433419567,\n",
       "  0.9356415433419567,\n",
       "  0.9356415433419567],\n",
       " 'SGD': [0.9356415433419567,\n",
       "  0.9356415433419567,\n",
       "  0.9356415433419567,\n",
       "  0.9356415433419567],\n",
       " 'GaussianProcess': [0.935806896480923,\n",
       "  0.9356415433419567,\n",
       "  0.9356415433419567,\n",
       "  0.9356415433419567]}"
      ]
     },
     "execution_count": 57,
     "metadata": {},
     "output_type": "execute_result"
    }
   ],
   "source": [
    "f1_union = {'LogisticRegression': [],\n",
    " 'DecisionTree': [],\n",
    " 'GaussianNB': [],\n",
    " 'SVC': [],\n",
    " 'SGD': [],\n",
    " 'GaussianProcess': []\n",
    " }\n",
    "\n",
    "it = [f1_ae64, f1_dae64, f1_sae64, f1_dsae64]\n",
    "for f1 in it:\n",
    "    for key, val in f1.items():\n",
    "        if key != 'XGBoost':\n",
    "            f1_union[key].append(val)\n",
    "f1_union"
   ]
  },
  {
   "cell_type": "code",
   "execution_count": 92,
   "metadata": {},
   "outputs": [
    {
     "data": {
      "text/plain": [
       "{'LogisticRegression': [0.935453435508905,\n",
       "  0.9356415433419567,\n",
       "  0.9356415433419567,\n",
       "  0.9356415433419567],\n",
       " 'DecisionTree': [0.871321458830213,\n",
       "  0.8790662296575265,\n",
       "  0.8780698586127695,\n",
       "  0.8510729537540833],\n",
       " 'GaussianNB': [0.7446741547761518,\n",
       "  0.003515384536887629,\n",
       "  0.7054006015573615,\n",
       "  0.7352653343351159],\n",
       " 'SVC': [0.9356415433419567,\n",
       "  0.9356415433419567,\n",
       "  0.9356415433419567,\n",
       "  0.9356415433419567],\n",
       " 'SGD': [0.9356415433419567,\n",
       "  0.9356415433419567,\n",
       "  0.9356415433419567,\n",
       "  0.9356415433419567],\n",
       " 'GaussianProcess': [0.935806896480923,\n",
       "  0.9356415433419567,\n",
       "  0.9356415433419567,\n",
       "  0.9356415433419567]}"
      ]
     },
     "execution_count": 92,
     "metadata": {},
     "output_type": "execute_result"
    },
    {
     "data": {
      "image/png": "[encoded data removed]",
      "text/plain": [
       "<Figure size 432x288 with 1 Axes>"
      ]
     },
     "metadata": {
      "needs_background": "light"
     },
     "output_type": "display_data"
    }
   ],
   "source": [
    "keyes = ('Logistic\\n Regression', 'Decision\\n Tree', 'GaussianNB', 'SVC', 'SGD', 'Gaussian\\n Process')\n",
    "yyyy = np.arange(6)\n",
    "#plt.barh(yyyy, list(f1_union.values()), align='center', alpha=0.5)\n",
    "\n",
    "bar_width = 0.2\n",
    "plt.bar(yyyy + bar_width, list(f1_ae64.values())[:-1],bar_width, alpha=0.5, label='Autoenc')\n",
    "plt.bar(yyyy + (bar_width * 2), list(f1_dae64.values())[:-1],bar_width, alpha=0.5, label='DeepAE')\n",
    "plt.bar(yyyy + (bar_width * 3), list(f1_sae64.values())[:-1],bar_width, alpha=0.5, label='SparceAE')\n",
    "plt.bar(yyyy + (bar_width * 4), list(f1_dsae64.values())[:-1],bar_width, alpha=0.5, label='DeepSparceAE')\n",
    "\n",
    "plt.xticks(yyyy + 0.5, keyes)\n",
    "plt.xlabel('f1 score')\n",
    "#plt.title('MyDeepSparceAutoencoder')\n",
    "plt.tight_layout()\n",
    "plt.legend(loc='lower right')\n",
    "f1_union"
   ]
  },
  {
   "cell_type": "code",
   "execution_count": 78,
   "metadata": {},
   "outputs": [
    {
     "data": {
      "text/plain": [
       "[0.935453435508905,\n",
       " 0.871321458830213,\n",
       " 0.7446741547761518,\n",
       " 0.9356415433419567,\n",
       " 0.9356415433419567,\n",
       " 0.935806896480923]"
      ]
     },
     "execution_count": 78,
     "metadata": {},
     "output_type": "execute_result"
    }
   ],
   "source": [
    "list(f1_ae64.values())[:-1]"
   ]
  },
  {
   "cell_type": "code",
   "execution_count": 101,
   "metadata": {
    "scrolled": true
   },
   "outputs": [
    {
     "data": {
      "text/plain": [
       "[1,\n",
       " 1,\n",
       " 1,\n",
       " 1,\n",
       " 1,\n",
       " 1,\n",
       " 1,\n",
       " 1,\n",
       " 1,\n",
       " 1,\n",
       " 1,\n",
       " 1,\n",
       " 1,\n",
       " 1,\n",
       " 1,\n",
       " 1,\n",
       " 1,\n",
       " 1,\n",
       " 1,\n",
       " 1,\n",
       " 1,\n",
       " 1,\n",
       " 1,\n",
       " 1,\n",
       " 1,\n",
       " 1,\n",
       " 1,\n",
       " 1,\n",
       " 1,\n",
       " 1,\n",
       " 1,\n",
       " 1,\n",
       " 1,\n",
       " 1,\n",
       " 1,\n",
       " 1,\n",
       " 1,\n",
       " 1,\n",
       " 1,\n",
       " 1,\n",
       " 1,\n",
       " 1,\n",
       " 1,\n",
       " 1,\n",
       " 1,\n",
       " 1,\n",
       " 1,\n",
       " 1,\n",
       " 1,\n",
       " 1,\n",
       " 1,\n",
       " 1,\n",
       " 1,\n",
       " 1,\n",
       " 1,\n",
       " 1,\n",
       " 1,\n",
       " 1,\n",
       " 1,\n",
       " 1,\n",
       " 1,\n",
       " 1,\n",
       " 1,\n",
       " 1,\n",
       " 1,\n",
       " 1,\n",
       " 1,\n",
       " 1,\n",
       " 1,\n",
       " 1,\n",
       " 1,\n",
       " 1,\n",
       " 1,\n",
       " 1,\n",
       " 1,\n",
       " 1,\n",
       " 1,\n",
       " 1,\n",
       " 1,\n",
       " 1,\n",
       " 1,\n",
       " 1,\n",
       " 1,\n",
       " 1,\n",
       " 1,\n",
       " 1,\n",
       " 1,\n",
       " 1,\n",
       " 1,\n",
       " 1,\n",
       " 1,\n",
       " 1,\n",
       " 1,\n",
       " 1,\n",
       " 1,\n",
       " 1,\n",
       " 1,\n",
       " 1,\n",
       " 1,\n",
       " 1,\n",
       " 1,\n",
       " 1,\n",
       " 1,\n",
       " 1,\n",
       " 1,\n",
       " 1,\n",
       " 1,\n",
       " 1,\n",
       " 1,\n",
       " 1,\n",
       " 1,\n",
       " 1,\n",
       " 1,\n",
       " 1,\n",
       " 1,\n",
       " 1,\n",
       " 1,\n",
       " 1,\n",
       " 1,\n",
       " 1,\n",
       " 1,\n",
       " 1,\n",
       " 1,\n",
       " 1,\n",
       " 1,\n",
       " 1,\n",
       " 1,\n",
       " 1,\n",
       " 1,\n",
       " 1,\n",
       " 1,\n",
       " 1,\n",
       " 1,\n",
       " 1,\n",
       " 1,\n",
       " 1,\n",
       " 1,\n",
       " 1,\n",
       " 1,\n",
       " 1,\n",
       " 1,\n",
       " 1,\n",
       " 1,\n",
       " 1,\n",
       " 1,\n",
       " 1,\n",
       " 1,\n",
       " 1,\n",
       " 1,\n",
       " 1,\n",
       " 1,\n",
       " 1,\n",
       " 1,\n",
       " 1,\n",
       " 1,\n",
       " 1,\n",
       " 1,\n",
       " 1,\n",
       " 1,\n",
       " 1,\n",
       " 1,\n",
       " 1,\n",
       " 1,\n",
       " 1,\n",
       " 1,\n",
       " 1,\n",
       " 1,\n",
       " 1,\n",
       " 1,\n",
       " 1,\n",
       " 1,\n",
       " 1,\n",
       " 1,\n",
       " 1,\n",
       " 1,\n",
       " 1,\n",
       " 1,\n",
       " 1,\n",
       " 1,\n",
       " 1,\n",
       " 1,\n",
       " 1,\n",
       " 1,\n",
       " 1,\n",
       " 1,\n",
       " 1,\n",
       " 1,\n",
       " 1,\n",
       " 1,\n",
       " 1,\n",
       " 1,\n",
       " 1,\n",
       " 1,\n",
       " 1,\n",
       " 1,\n",
       " 1,\n",
       " 1,\n",
       " 1,\n",
       " 1,\n",
       " 1,\n",
       " 1,\n",
       " 1,\n",
       " 1,\n",
       " 1,\n",
       " 1,\n",
       " 1,\n",
       " 1,\n",
       " 1,\n",
       " 1,\n",
       " 1,\n",
       " 1,\n",
       " 1,\n",
       " 1,\n",
       " 1,\n",
       " 1,\n",
       " 1,\n",
       " 1,\n",
       " 1,\n",
       " 1,\n",
       " 1,\n",
       " 1,\n",
       " 1,\n",
       " 1,\n",
       " 1,\n",
       " 1,\n",
       " 1,\n",
       " 1,\n",
       " 1,\n",
       " 1,\n",
       " 1,\n",
       " 1,\n",
       " 1,\n",
       " 1,\n",
       " 1,\n",
       " 1,\n",
       " 1,\n",
       " 1,\n",
       " 1,\n",
       " 1,\n",
       " 1,\n",
       " 1,\n",
       " 1,\n",
       " 1,\n",
       " 1,\n",
       " 1,\n",
       " 1,\n",
       " 1,\n",
       " 1,\n",
       " 1,\n",
       " 1,\n",
       " 1,\n",
       " 1,\n",
       " 1,\n",
       " 1,\n",
       " 1,\n",
       " 1,\n",
       " 1,\n",
       " 1,\n",
       " 1,\n",
       " 1,\n",
       " 1,\n",
       " 1,\n",
       " 1,\n",
       " 1,\n",
       " 1,\n",
       " 1,\n",
       " 1,\n",
       " 1,\n",
       " 1,\n",
       " 1,\n",
       " 1,\n",
       " 1,\n",
       " 1,\n",
       " 1,\n",
       " 1,\n",
       " 1,\n",
       " 1,\n",
       " 1,\n",
       " 1,\n",
       " 1,\n",
       " 1,\n",
       " 1,\n",
       " 1,\n",
       " 1,\n",
       " 0,\n",
       " 0,\n",
       " 0,\n",
       " 0,\n",
       " 0,\n",
       " 0,\n",
       " 0,\n",
       " 0,\n",
       " 0,\n",
       " 0,\n",
       " 0,\n",
       " 0,\n",
       " 0,\n",
       " 0,\n",
       " 0,\n",
       " 0,\n",
       " 0,\n",
       " 0,\n",
       " 0,\n",
       " 0,\n",
       " 0,\n",
       " 0,\n",
       " 0,\n",
       " 0,\n",
       " 0,\n",
       " 0,\n",
       " 0,\n",
       " 0,\n",
       " 0,\n",
       " 0,\n",
       " 0,\n",
       " 0,\n",
       " 0,\n",
       " 0,\n",
       " 0,\n",
       " 0,\n",
       " 0,\n",
       " 0,\n",
       " 0,\n",
       " 0,\n",
       " 0,\n",
       " 0,\n",
       " 0,\n",
       " 0,\n",
       " 0,\n",
       " 0,\n",
       " 0,\n",
       " 0,\n",
       " 0,\n",
       " 0,\n",
       " 0,\n",
       " 0,\n",
       " 0,\n",
       " 0,\n",
       " 0,\n",
       " 0,\n",
       " 0,\n",
       " 0,\n",
       " 0,\n",
       " 0,\n",
       " 0,\n",
       " 0,\n",
       " 0,\n",
       " 0,\n",
       " 0,\n",
       " 0,\n",
       " 0,\n",
       " 0,\n",
       " 0,\n",
       " 0,\n",
       " 0,\n",
       " 0,\n",
       " 0,\n",
       " 0,\n",
       " 0,\n",
       " 0,\n",
       " 0,\n",
       " 0,\n",
       " 0,\n",
       " 1,\n",
       " 1,\n",
       " 1,\n",
       " 1,\n",
       " 1,\n",
       " 1,\n",
       " 1,\n",
       " 1,\n",
       " 1,\n",
       " 1,\n",
       " 1,\n",
       " 1,\n",
       " 1,\n",
       " 1,\n",
       " 1,\n",
       " 1,\n",
       " 1,\n",
       " 1,\n",
       " 1,\n",
       " 1,\n",
       " 1,\n",
       " 1,\n",
       " 1,\n",
       " 1,\n",
       " 1,\n",
       " 1,\n",
       " 1,\n",
       " 1,\n",
       " 1,\n",
       " 1,\n",
       " 1,\n",
       " 1,\n",
       " 1,\n",
       " 1,\n",
       " 1,\n",
       " 1,\n",
       " 1,\n",
       " 1,\n",
       " 1,\n",
       " 1,\n",
       " 1,\n",
       " 1,\n",
       " 1,\n",
       " 1,\n",
       " 1,\n",
       " 1,\n",
       " 1,\n",
       " 1,\n",
       " 1,\n",
       " 1,\n",
       " 1,\n",
       " 1,\n",
       " 1,\n",
       " 1,\n",
       " 1,\n",
       " 1,\n",
       " 1,\n",
       " 1,\n",
       " 1,\n",
       " 1,\n",
       " 1,\n",
       " 1,\n",
       " 1,\n",
       " 1,\n",
       " 1,\n",
       " 1,\n",
       " 1,\n",
       " 1,\n",
       " 1,\n",
       " 1,\n",
       " 1,\n",
       " 1,\n",
       " 1,\n",
       " 1,\n",
       " 1,\n",
       " 1,\n",
       " 1,\n",
       " 1,\n",
       " 1,\n",
       " 1,\n",
       " 1,\n",
       " 1,\n",
       " 1,\n",
       " 1,\n",
       " 1,\n",
       " 1,\n",
       " 1,\n",
       " 1,\n",
       " 1,\n",
       " 1,\n",
       " 1,\n",
       " 1,\n",
       " 1,\n",
       " 1,\n",
       " 1,\n",
       " 1,\n",
       " 1,\n",
       " 1,\n",
       " 1,\n",
       " 1,\n",
       " 1,\n",
       " 1,\n",
       " 1,\n",
       " 1,\n",
       " 1,\n",
       " 1,\n",
       " 1,\n",
       " 1,\n",
       " 1,\n",
       " 1,\n",
       " 1,\n",
       " 1,\n",
       " 1,\n",
       " 1,\n",
       " 1,\n",
       " 1,\n",
       " 1,\n",
       " 1,\n",
       " 1,\n",
       " 1,\n",
       " 1,\n",
       " 1,\n",
       " 1,\n",
       " 1,\n",
       " 1,\n",
       " 1,\n",
       " 1,\n",
       " 1,\n",
       " 1,\n",
       " 1,\n",
       " 1,\n",
       " 1,\n",
       " 1,\n",
       " 1,\n",
       " 1,\n",
       " 1,\n",
       " 1,\n",
       " 1,\n",
       " 1,\n",
       " 1,\n",
       " 1,\n",
       " 1,\n",
       " 1,\n",
       " 1,\n",
       " 1,\n",
       " 1,\n",
       " 1,\n",
       " 1,\n",
       " 1,\n",
       " 1,\n",
       " 1,\n",
       " 1,\n",
       " 1,\n",
       " 1,\n",
       " 1,\n",
       " 1,\n",
       " 1,\n",
       " 1,\n",
       " 1,\n",
       " 1,\n",
       " 1,\n",
       " 1,\n",
       " 1,\n",
       " 1,\n",
       " 1,\n",
       " 1,\n",
       " 1,\n",
       " 1,\n",
       " 1,\n",
       " 1,\n",
       " 1,\n",
       " 1,\n",
       " 1,\n",
       " 1,\n",
       " 1,\n",
       " 1,\n",
       " 1,\n",
       " 1,\n",
       " 1,\n",
       " 1,\n",
       " 1,\n",
       " 1,\n",
       " 1,\n",
       " 1,\n",
       " 1,\n",
       " 1,\n",
       " 1,\n",
       " 1,\n",
       " 1,\n",
       " 1,\n",
       " 1,\n",
       " 1,\n",
       " 1,\n",
       " 1,\n",
       " 1,\n",
       " 1,\n",
       " 1,\n",
       " 1,\n",
       " 1,\n",
       " 1,\n",
       " 1,\n",
       " 1,\n",
       " 1,\n",
       " 1,\n",
       " 1,\n",
       " 1,\n",
       " 1,\n",
       " 1,\n",
       " 1,\n",
       " 1,\n",
       " 1,\n",
       " 1,\n",
       " 1,\n",
       " 1,\n",
       " 1,\n",
       " 1,\n",
       " 1,\n",
       " 1,\n",
       " 1,\n",
       " 1,\n",
       " 1,\n",
       " 1,\n",
       " 1,\n",
       " 1,\n",
       " 1,\n",
       " 1,\n",
       " 1,\n",
       " 1,\n",
       " 0,\n",
       " 0,\n",
       " 0,\n",
       " 0,\n",
       " 0,\n",
       " 0,\n",
       " 0,\n",
       " 0,\n",
       " 0,\n",
       " 0,\n",
       " 0,\n",
       " 0,\n",
       " 0,\n",
       " 0,\n",
       " 0,\n",
       " 0,\n",
       " 0,\n",
       " 0,\n",
       " 0,\n",
       " 0,\n",
       " 0,\n",
       " 0,\n",
       " 0,\n",
       " 0,\n",
       " 0,\n",
       " 0,\n",
       " 0,\n",
       " 0,\n",
       " 0,\n",
       " 0,\n",
       " 0,\n",
       " 0,\n",
       " 0,\n",
       " 0,\n",
       " 0,\n",
       " 0,\n",
       " 0,\n",
       " 0,\n",
       " 0,\n",
       " 0,\n",
       " 0,\n",
       " 0,\n",
       " 0,\n",
       " 0,\n",
       " 0,\n",
       " 0,\n",
       " 0,\n",
       " 0,\n",
       " 0,\n",
       " 0,\n",
       " 0,\n",
       " 0,\n",
       " 0,\n",
       " 0,\n",
       " 0,\n",
       " 0,\n",
       " 0,\n",
       " 0,\n",
       " 0,\n",
       " 0,\n",
       " 0,\n",
       " 0,\n",
       " 0,\n",
       " 0,\n",
       " 0,\n",
       " 0,\n",
       " 0,\n",
       " 0,\n",
       " 0,\n",
       " 0,\n",
       " 0,\n",
       " 0,\n",
       " 0,\n",
       " 0,\n",
       " 0,\n",
       " 0,\n",
       " 0,\n",
       " 0,\n",
       " 0,\n",
       " 0,\n",
       " 0,\n",
       " 0,\n",
       " 0,\n",
       " 0,\n",
       " 0,\n",
       " 0,\n",
       " 0,\n",
       " 0,\n",
       " 0,\n",
       " 0,\n",
       " 0,\n",
       " 0,\n",
       " 0,\n",
       " 0,\n",
       " 0,\n",
       " 0,\n",
       " 0,\n",
       " 0,\n",
       " 0,\n",
       " 0,\n",
       " 0,\n",
       " 0,\n",
       " 0,\n",
       " 0,\n",
       " 0,\n",
       " 0,\n",
       " 0,\n",
       " 0,\n",
       " 0,\n",
       " 0,\n",
       " 0,\n",
       " 0,\n",
       " 0,\n",
       " 0,\n",
       " 0,\n",
       " 0,\n",
       " 0,\n",
       " 0,\n",
       " 0,\n",
       " 0,\n",
       " 0,\n",
       " 0,\n",
       " 0,\n",
       " 0,\n",
       " 0,\n",
       " 0,\n",
       " 0,\n",
       " 0,\n",
       " 0,\n",
       " 0,\n",
       " 0,\n",
       " 0,\n",
       " 0,\n",
       " 0,\n",
       " 0,\n",
       " 0,\n",
       " 0,\n",
       " 0,\n",
       " 0,\n",
       " 0,\n",
       " 0,\n",
       " 0,\n",
       " 0,\n",
       " 0,\n",
       " 0,\n",
       " 0,\n",
       " 0,\n",
       " 0,\n",
       " 0,\n",
       " 0,\n",
       " 0,\n",
       " 0,\n",
       " 0,\n",
       " 0,\n",
       " 0,\n",
       " 1,\n",
       " 1,\n",
       " 1,\n",
       " 1,\n",
       " 1,\n",
       " 1,\n",
       " 1,\n",
       " 1,\n",
       " 1,\n",
       " 1,\n",
       " 1,\n",
       " 1,\n",
       " 1,\n",
       " 1,\n",
       " 1,\n",
       " 1,\n",
       " 1,\n",
       " 1,\n",
       " 1,\n",
       " 1,\n",
       " 1,\n",
       " 1,\n",
       " 1,\n",
       " 1,\n",
       " 1,\n",
       " 1,\n",
       " 1,\n",
       " 1,\n",
       " 1,\n",
       " 1,\n",
       " 1,\n",
       " 1,\n",
       " 1,\n",
       " 1,\n",
       " 1,\n",
       " 1,\n",
       " 1,\n",
       " 1,\n",
       " 1,\n",
       " 1,\n",
       " 1,\n",
       " 1,\n",
       " 1,\n",
       " 1,\n",
       " 1,\n",
       " 1,\n",
       " 1,\n",
       " 1,\n",
       " 1,\n",
       " 1,\n",
       " 1,\n",
       " 1,\n",
       " 1,\n",
       " 1,\n",
       " 1,\n",
       " 1,\n",
       " 1,\n",
       " 1,\n",
       " 1,\n",
       " 1,\n",
       " 1,\n",
       " 1,\n",
       " 1,\n",
       " 1,\n",
       " 1,\n",
       " 1,\n",
       " 1,\n",
       " 1,\n",
       " 1,\n",
       " 1,\n",
       " 1,\n",
       " 1,\n",
       " 1,\n",
       " 1,\n",
       " 1,\n",
       " 1,\n",
       " 1,\n",
       " 1,\n",
       " 1,\n",
       " 0,\n",
       " 0,\n",
       " 0,\n",
       " 0,\n",
       " 0,\n",
       " 0,\n",
       " 0,\n",
       " 0,\n",
       " 0,\n",
       " 0,\n",
       " 0,\n",
       " 0,\n",
       " 0,\n",
       " 0,\n",
       " 0,\n",
       " 0,\n",
       " 0,\n",
       " 0,\n",
       " 0,\n",
       " 0,\n",
       " 0,\n",
       " 0,\n",
       " 0,\n",
       " 0,\n",
       " 0,\n",
       " 0,\n",
       " 0,\n",
       " 0,\n",
       " 0,\n",
       " 0,\n",
       " 0,\n",
       " 0,\n",
       " 0,\n",
       " 0,\n",
       " 0,\n",
       " 0,\n",
       " 0,\n",
       " 0,\n",
       " 0,\n",
       " 0,\n",
       " 0,\n",
       " 0,\n",
       " 0,\n",
       " 0,\n",
       " 0,\n",
       " 0,\n",
       " 0,\n",
       " 0,\n",
       " 0,\n",
       " 0,\n",
       " 0,\n",
       " 0,\n",
       " 0,\n",
       " 0,\n",
       " 0,\n",
       " 0,\n",
       " 0,\n",
       " 0,\n",
       " 0,\n",
       " 0,\n",
       " 0,\n",
       " 0,\n",
       " 0,\n",
       " 0,\n",
       " 0,\n",
       " 0,\n",
       " 0,\n",
       " 0,\n",
       " 0,\n",
       " 0,\n",
       " 0,\n",
       " 0,\n",
       " 0,\n",
       " 0,\n",
       " 0,\n",
       " 0,\n",
       " 0,\n",
       " 0,\n",
       " 0,\n",
       " 0,\n",
       " 0,\n",
       " 0,\n",
       " 0,\n",
       " 0,\n",
       " 0,\n",
       " 0,\n",
       " 0,\n",
       " 0,\n",
       " 0,\n",
       " 0,\n",
       " 0,\n",
       " 0,\n",
       " 0,\n",
       " 0,\n",
       " 0,\n",
       " 0,\n",
       " 0,\n",
       " 0,\n",
       " 0,\n",
       " 0,\n",
       " 0,\n",
       " 0,\n",
       " 0,\n",
       " 0,\n",
       " 0,\n",
       " 0,\n",
       " 0,\n",
       " 0,\n",
       " 0,\n",
       " 0,\n",
       " 0,\n",
       " 0,\n",
       " 0,\n",
       " 0,\n",
       " 0,\n",
       " 0,\n",
       " 0,\n",
       " 0,\n",
       " 0,\n",
       " 0,\n",
       " 0,\n",
       " 0,\n",
       " 0,\n",
       " 0,\n",
       " 0,\n",
       " 0,\n",
       " 0,\n",
       " 0,\n",
       " 0,\n",
       " 0,\n",
       " 0,\n",
       " 0,\n",
       " 0,\n",
       " 0,\n",
       " 0,\n",
       " 0,\n",
       " 0,\n",
       " 0,\n",
       " 0,\n",
       " 0,\n",
       " 0,\n",
       " 0,\n",
       " 0,\n",
       " 0,\n",
       " 0,\n",
       " 0,\n",
       " 0,\n",
       " 0,\n",
       " 0,\n",
       " 0,\n",
       " 0,\n",
       " 0,\n",
       " 0,\n",
       " 0,\n",
       " 0,\n",
       " 0,\n",
       " 0,\n",
       " 0,\n",
       " 0,\n",
       " 0,\n",
       " 1,\n",
       " 1,\n",
       " 1,\n",
       " 1,\n",
       " 1,\n",
       " 1,\n",
       " 1,\n",
       " 1,\n",
       " 1,\n",
       " 1,\n",
       " 1,\n",
       " 1,\n",
       " 1,\n",
       " 1,\n",
       " 1,\n",
       " ...]"
      ]
     },
     "execution_count": 101,
     "metadata": {},
     "output_type": "execute_result"
    }
   ],
   "source": [
    "y"
   ]
  },
  {
   "cell_type": "code",
   "execution_count": 125,
   "metadata": {},
   "outputs": [],
   "source": [
    "train, test, train_y, test_y, train_other, test_other = train_test_split(d2data64, y, other)"
   ]
  },
  {
   "cell_type": "code",
   "execution_count": 127,
   "metadata": {},
   "outputs": [
    {
     "name": "stdout",
     "output_type": "stream",
     "text": [
      "Epoch 199... (Train/Test) MSE: 0.009/0.009\tAccuracy: 10696.392/10566.120"
     ]
    },
    {
     "name": "stderr",
     "output_type": "stream",
     "text": [
      "D:\\programs\\anaconda\\lib\\site-packages\\torch\\tensor.py:287: UserWarning: non-inplace resize is deprecated\n",
      "  warnings.warn(\"non-inplace resize is deprecated\")\n"
     ]
    },
    {
     "name": "stdout",
     "output_type": "stream",
     "text": [
      "Epoch 199... (Train/Test) MSE: 0.021/0.021\tAccuracy: 17846.174/17514.498"
     ]
    },
    {
     "data": {
      "text/plain": [
       "(0.02113079942543717, 0.02123637853757195, 17846.174, 17514.498)"
      ]
     },
     "execution_count": 127,
     "metadata": {},
     "output_type": "execute_result"
    }
   ],
   "source": [
    "ae64 = MyAutoencoder64(20)\n",
    "just_train(ae64, train, test, N, 0.001)\n",
    "\n",
    "sae64 = MySparceAutoencoder64(20)\n",
    "just_train(sae64, train, test, N, 0.001)\n",
    "\n",
    "dae64 = MyDeepAutoencoder64(20)\n",
    "just_train(dae64, train, test, N, 0.001)\n",
    "\n",
    "dsae64 = MyDeepSparceAutoencoder64(20)\n",
    "just_train(dsae64, train, test, N, 0.001)"
   ]
  },
  {
   "cell_type": "code",
   "execution_count": 126,
   "metadata": {},
   "outputs": [],
   "source": [
    "сtrain, сtest, сtrain_y, сtest_y, ctrain_other, ctest_other = train_test_split(d3data128, y, other)"
   ]
  },
  {
   "cell_type": "code",
   "execution_count": 128,
   "metadata": {},
   "outputs": [
    {
     "name": "stdout",
     "output_type": "stream",
     "text": [
      "Epoch 199... (Train/Test) MSE: 0.021/0.022\tAccuracy: 92794.547/91860.633"
     ]
    },
    {
     "data": {
      "text/plain": [
       "(0.021455221987493774, 0.021557932355157707, 92794.55, 91860.63)"
      ]
     },
     "execution_count": 128,
     "metadata": {},
     "output_type": "execute_result"
    }
   ],
   "source": [
    "сae128 = MyCAutoencoder(20)\n",
    "just_train(сae128, сtrain, сtest, N, 0.001)"
   ]
  },
  {
   "cell_type": "code",
   "execution_count": 129,
   "metadata": {},
   "outputs": [],
   "source": [
    "from sklearn.metrics import f1_score\n",
    "\n",
    "def check_models(X_train, X_test, y_train, y_test):\n",
    "    res = {'LogisticRegression': 0,\n",
    "           'DecisionTree': 0,\n",
    "           'GaussianNB': 0,\n",
    "           'SVC': 0,\n",
    "           'SGD': 0,\n",
    "           'GaussianProcess': 0\n",
    "          }\n",
    "    #print metric\n",
    "    lg = LogisticRegression(solver='liblinear', multi_class='auto')\n",
    "    lg.fit(X_train, y_train)\n",
    "    y_pred = lg.predict(X_test)\n",
    "    res['LogisticRegression'] = f1_score(y_test, y_pred)\n",
    "    \n",
    "    dt = DecisionTreeClassifier(criterion='gini')\n",
    "    dt.fit(X_train, y_train)\n",
    "    y_pred = dt.predict(X_test)\n",
    "    res['DecisionTree'] = f1_score(y_test, y_pred)\n",
    "    \n",
    "    bayes = GaussianNB()\n",
    "    bayes.fit(X_train, y_train)\n",
    "    y_pred = bayes.predict(X_test)\n",
    "    res['GaussianNB'] = f1_score(y_test, y_pred)\n",
    "    \n",
    "    svc = SVC(kernel='rbf', shrinking=True, probability=False, degree=3, gamma='auto')\n",
    "    svc.fit(X_train, y_train)\n",
    "    y_pred = svc.predict(X_test)\n",
    "    res['SVC'] = f1_score(y_test, y_pred)\n",
    "    \n",
    "    sgd = SGDClassifier(tol=1e-3, max_iter=1000, loss='hinge')\n",
    "    sgd.fit(X_train, y_train)\n",
    "    y_pred = sgd.predict(X_test)\n",
    "    res['SGD'] = f1_score(y_test, y_pred)\n",
    "    \n",
    "    gp = GaussianProcessClassifier()\n",
    "    gp.fit(X_train, y_train)\n",
    "    y_pred = gp.predict(X_test)\n",
    "    res['GaussianProcess'] = f1_score(y_test, y_pred)\n",
    "    \n",
    "    #gb = XGBClassifier(max_depth=10, n_estimators=20, booster='dart')\n",
    "    #cv = cross_validate(gb, X, y, cv=10, scoring=metric)\n",
    "    #res['XGBoost'] = np.mean(cv['test_score'])\n",
    "    \n",
    "    return res"
   ]
  },
  {
   "cell_type": "code",
   "execution_count": 144,
   "metadata": {},
   "outputs": [
    {
     "data": {
      "text/plain": [
       "{'LogisticRegression': 0.9301662707838481,\n",
       " 'DecisionTree': 0.996687898089172,\n",
       " 'GaussianNB': 0.7706698853349427,\n",
       " 'SVC': 0.999490575649516,\n",
       " 'SGD': 0.9294173377546188,\n",
       " 'GaussianProcess': 1.0}"
      ]
     },
     "execution_count": 144,
     "metadata": {},
     "output_type": "execute_result"
    }
   ],
   "source": [
    "X_train = ae64.encode(torch.Tensor(train))\n",
    "X_train = pd.DataFrame(X_train)\n",
    "X_train = pd.concat([X_train, pd.DataFrame(train_other.values)], axis=1)\n",
    "\n",
    "X_test  = ae64.encode(torch.Tensor(test))\n",
    "X_test = pd.DataFrame(X_test)\n",
    "X_test = pd.concat([X_test, pd.DataFrame(test_other.values)], axis=1)\n",
    "check_models(X_train, X_test, train_y, test_y)"
   ]
  },
  {
   "cell_type": "code",
   "execution_count": 145,
   "metadata": {},
   "outputs": [
    {
     "name": "stderr",
     "output_type": "stream",
     "text": [
      "D:\\programs\\anaconda\\lib\\site-packages\\torch\\tensor.py:287: UserWarning: non-inplace resize is deprecated\n",
      "  warnings.warn(\"non-inplace resize is deprecated\")\n"
     ]
    },
    {
     "data": {
      "text/plain": [
       "{'LogisticRegression': 0.9299242424242424,\n",
       " 'DecisionTree': 0.996439471007121,\n",
       " 'GaussianNB': 0.6875612144955926,\n",
       " 'SVC': 0.9913309535951046,\n",
       " 'SGD': 0.9299242424242424,\n",
       " 'GaussianProcess': 1.0}"
      ]
     },
     "execution_count": 145,
     "metadata": {},
     "output_type": "execute_result"
    }
   ],
   "source": [
    "X_train = sae64.encode(torch.Tensor(train))\n",
    "X_train = pd.DataFrame(X_train)\n",
    "X_train = pd.concat([X_train, pd.DataFrame(train_other.values)], axis=1)\n",
    "\n",
    "X_test  = sae64.encode(torch.Tensor(test))\n",
    "X_test = pd.DataFrame(X_test)\n",
    "X_test = pd.concat([X_test, pd.DataFrame(test_other.values)], axis=1)\n",
    "check_models(X_train, X_test, train_y, test_y)"
   ]
  },
  {
   "cell_type": "code",
   "execution_count": 146,
   "metadata": {},
   "outputs": [
    {
     "data": {
      "text/plain": [
       "{'LogisticRegression': 0.9299242424242424,\n",
       " 'DecisionTree': 1.0,\n",
       " 'GaussianNB': 0.8913416727986265,\n",
       " 'SVC': 1.0,\n",
       " 'SGD': 0.897125567322239,\n",
       " 'GaussianProcess': 1.0}"
      ]
     },
     "execution_count": 146,
     "metadata": {},
     "output_type": "execute_result"
    }
   ],
   "source": [
    "X_train = dae64.encode(torch.Tensor(train))\n",
    "X_train = pd.DataFrame(X_train)\n",
    "X_train = pd.concat([X_train, pd.DataFrame(train_other.values)], axis=1)\n",
    "\n",
    "X_test  = dae64.encode(torch.Tensor(test))\n",
    "X_test = pd.DataFrame(X_test)\n",
    "X_test = pd.concat([X_test, pd.DataFrame(test_other.values)], axis=1)\n",
    "check_models(X_train, X_test, train_y, test_y)"
   ]
  },
  {
   "cell_type": "code",
   "execution_count": 147,
   "metadata": {},
   "outputs": [
    {
     "name": "stderr",
     "output_type": "stream",
     "text": [
      "D:\\programs\\anaconda\\lib\\site-packages\\torch\\tensor.py:287: UserWarning: non-inplace resize is deprecated\n",
      "  warnings.warn(\"non-inplace resize is deprecated\")\n"
     ]
    },
    {
     "data": {
      "text/plain": [
       "{'LogisticRegression': 0.9299242424242424,\n",
       " 'DecisionTree': 1.0,\n",
       " 'GaussianNB': 0.8913416727986265,\n",
       " 'SVC': 0.9913309535951046,\n",
       " 'SGD': 0.8937562940584088,\n",
       " 'GaussianProcess': 1.0}"
      ]
     },
     "execution_count": 147,
     "metadata": {},
     "output_type": "execute_result"
    }
   ],
   "source": [
    "X_train = dsae64.encode(torch.Tensor(train))\n",
    "X_train = pd.DataFrame(X_train)\n",
    "X_train = pd.concat([X_train, pd.DataFrame(train_other.values)], axis=1)\n",
    "\n",
    "X_test  = dsae64.encode(torch.Tensor(test))\n",
    "X_test = pd.DataFrame(X_test)\n",
    "X_test = pd.concat([X_test, pd.DataFrame(test_other.values)], axis=1)\n",
    "check_models(X_train, X_test, train_y, test_y)"
   ]
  },
  {
   "cell_type": "code",
   "execution_count": 155,
   "metadata": {},
   "outputs": [
    {
     "data": {
      "text/plain": [
       "{'LogisticRegression': 0.9374117647058824,\n",
       " 'DecisionTree': 0.9984977466199298,\n",
       " 'GaussianNB': 0.36208299430431246,\n",
       " 'SVC': 0.9539049438738955,\n",
       " 'SGD': 0.9379115710253998,\n",
       " 'GaussianProcess': 0.9727704221833624}"
      ]
     },
     "execution_count": 155,
     "metadata": {},
     "output_type": "execute_result"
    }
   ],
   "source": [
    "X_train = сae128.encode(torch.Tensor(сtrain))\n",
    "X_train = pd.DataFrame(X_train)\n",
    "X_train = pd.concat([X_train, pd.DataFrame(ctrain_other.values)], axis=1)\n",
    "\n",
    "X_test  = сae128.encode(torch.Tensor(сtest))\n",
    "X_test = pd.DataFrame(X_test)\n",
    "X_test = pd.concat([X_test, pd.DataFrame(ctest_other.values)], axis=1)\n",
    "check_models(X_train, X_test, сtrain_y, сtest_y)"
   ]
  },
  {
   "cell_type": "code",
   "execution_count": 156,
   "metadata": {},
   "outputs": [],
   "source": [
    "of_ae = {'LogisticRegression': 0.9301662707838481,\n",
    " 'DecisionTree': 0.996687898089172,\n",
    " 'GaussianNB': 0.7706698853349427,\n",
    " 'SVC': 0.999490575649516,\n",
    " 'SGD': 0.9294173377546188,\n",
    " 'GaussianProcess': 1.0}\n",
    "of_sae = {'LogisticRegression': 0.9299242424242424,\n",
    " 'DecisionTree': 0.996439471007121,\n",
    " 'GaussianNB': 0.6875612144955926,\n",
    " 'SVC': 0.9913309535951046,\n",
    " 'SGD': 0.9299242424242424,\n",
    " 'GaussianProcess': 1.0}\n",
    "of_dae = {'LogisticRegression': 0.9299242424242424,\n",
    " 'DecisionTree': 1.0,\n",
    " 'GaussianNB': 0.8913416727986265,\n",
    " 'SVC': 1.0,\n",
    " 'SGD': 0.897125567322239,\n",
    " 'GaussianProcess': 1.0}\n",
    "of_dsae = {'LogisticRegression': 0.9299242424242424,\n",
    " 'DecisionTree': 1.0,\n",
    " 'GaussianNB': 0.8913416727986265,\n",
    " 'SVC': 0.9913309535951046,\n",
    " 'SGD': 0.8937562940584088,\n",
    " 'GaussianProcess': 1.0}\n",
    "of_cae = {'LogisticRegression': 0.9374117647058824,\n",
    " 'DecisionTree': 0.9984977466199298,\n",
    " 'GaussianNB': 0.36208299430431246,\n",
    " 'SVC': 0.9539049438738955,\n",
    " 'SGD': 0.9379115710253998,\n",
    " 'GaussianProcess': 0.9727704221833624}\n"
   ]
  },
  {
   "cell_type": "code",
   "execution_count": 159,
   "metadata": {
    "scrolled": true
   },
   "outputs": [
    {
     "data": {
      "text/plain": [
       "<matplotlib.legend.Legend at 0x236fab03860>"
      ]
     },
     "execution_count": 159,
     "metadata": {},
     "output_type": "execute_result"
    },
    {
     "data": {
      "image/png": "[encoded data removed]",
      "text/plain": [
       "<Figure size 432x288 with 1 Axes>"
      ]
     },
     "metadata": {
      "needs_background": "light"
     },
     "output_type": "display_data"
    }
   ],
   "source": [
    "keyes = ('Logistic\\n Regression', 'Decision\\n Tree', 'GaussianNB', 'SVC', 'SGD', 'Gaussian\\n Process')\n",
    "yyyy = np.arange(6)\n",
    "#plt.barh(yyyy, list(f1_union.values()), align='center', alpha=0.5)\n",
    "\n",
    "bar_width = 0.15\n",
    "plt.bar(yyyy + bar_width, list(of_ae.values()), bar_width, alpha=0.5, label='Autoenc')\n",
    "plt.bar(yyyy + (bar_width * 2), list(of_dae.values()), bar_width, alpha=0.5, label='DeepAE')\n",
    "plt.bar(yyyy + (bar_width * 3), list(of_sae.values()), bar_width, alpha=0.5, label='SparceAE')\n",
    "plt.bar(yyyy + (bar_width * 4), list(of_dsae.values()), bar_width, alpha=0.5, label='DeepSparceAE')\n",
    "plt.bar(yyyy + (bar_width * 5), list(of_cae.values()), bar_width, alpha=0.5, label='ConvolutionAE')\n",
    "\n",
    "plt.xticks(yyyy + 0.5, keyes)\n",
    "plt.xlabel('f1 score')\n",
    "#plt.title('MyDeepSparceAutoencoder')\n",
    "plt.tight_layout()\n",
    "plt.legend(loc='lower right')"
   ]
  }
 ],
 "metadata": {
  "kernelspec": {
   "display_name": "Python 3",
   "language": "python",
   "name": "python3"
  },
  "language_info": {
   "codemirror_mode": {
    "name": "ipython",
    "version": 3
   },
   "file_extension": ".py",
   "mimetype": "text/x-python",
   "name": "python",
   "nbconvert_exporter": "python",
   "pygments_lexer": "ipython3",
   "version": "3.7.1"
  }
 },
 "nbformat": 4,
 "nbformat_minor": 2
}
