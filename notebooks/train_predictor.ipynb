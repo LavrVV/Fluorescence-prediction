{
 "cells": [
  {
   "cell_type": "code",
   "execution_count": 12,
   "id": "4396856b",
   "metadata": {},
   "outputs": [],
   "source": [
    "import pydicom\n",
    "import pickle\n",
    "from sklearn.svm import SVC\n",
    "import numpy as np\n",
    "import zipfile\n",
    "from scipy.special import expit\n",
    "import pandas as pd\n",
    "from sklearn.utils import shuffle"
   ]
  },
  {
   "cell_type": "code",
   "execution_count": 2,
   "id": "3f1e192a",
   "metadata": {},
   "outputs": [],
   "source": [
    "class Encoder:\n",
    "    def __init__(self, model):\n",
    "        self.n_comp = model.n_comp\n",
    "        self.l1 = model.encoder[0].weight.data.numpy()\n",
    "        self.l1b = model.encoder[0].bias.data.numpy()\n",
    "\n",
    "        self.l2 = model.encoder[2].weight.data.numpy()\n",
    "        self.l2b = model.encoder[2].bias.data.numpy()\n",
    "\n",
    "        self.l3 = model.encoder[4].weight.data.numpy()\n",
    "        self.l3b = model.encoder[4].bias.data.numpy()\n",
    "\n",
    "    def encode(self, X):\n",
    "        X = X.dot(self.l1.T) + self.l1b\n",
    "        X = expit(X)\n",
    "        X = X.dot(self.l2.T) + self.l2b\n",
    "        X = expit(X)\n",
    "        X = X.dot(self.l3.T) + self.l3b\n",
    "\n",
    "        #sparce\n",
    "        z = X\n",
    "        z = np.sort(X, axis=1)[:,::-1][:, self.n_comp - 1]#.resize((len(x), 1))\n",
    "        z = np.array([z])\n",
    "        z.resize((len(X), 1))\n",
    "        X[X < z] = 0\n",
    "        #delete 0\n",
    "        X[X != 0].resize((len(X), self.n_comp))\n",
    "        k = len(X)\n",
    "        z = np.array([X[X != 0]])\n",
    "        z.resize((k, self.n_comp))\n",
    "\n",
    "        return z"
   ]
  },
  {
   "cell_type": "code",
   "execution_count": 3,
   "id": "98c048a1",
   "metadata": {},
   "outputs": [],
   "source": [
    "with open('../data/other.pickle', 'rb') as f:\n",
    "    other = pickle.load(f)"
   ]
  },
  {
   "cell_type": "code",
   "execution_count": 4,
   "id": "1a1b31d8",
   "metadata": {},
   "outputs": [],
   "source": [
    "with open('../data/d2data64.pickle', 'rb') as f:\n",
    "    d2data64 = pickle.load(f)"
   ]
  },
  {
   "cell_type": "code",
   "execution_count": 5,
   "id": "d3bc4282",
   "metadata": {},
   "outputs": [],
   "source": [
    "with open('../data/y.pickle', 'rb') as f:\n",
    "    y = pickle.load(f)"
   ]
  },
  {
   "cell_type": "code",
   "execution_count": 6,
   "id": "f21fc1fc",
   "metadata": {},
   "outputs": [],
   "source": [
    "with open('../app/src/model/encoder.pickle', 'rb') as f:\n",
    "    ae = pickle.load(f)"
   ]
  },
  {
   "cell_type": "code",
   "execution_count": 13,
   "id": "bcf1e86b",
   "metadata": {},
   "outputs": [
    {
     "data": {
      "text/html": [
       "<style>#sk-container-id-1 {color: black;background-color: white;}#sk-container-id-1 pre{padding: 0;}#sk-container-id-1 div.sk-toggleable {background-color: white;}#sk-container-id-1 label.sk-toggleable__label {cursor: pointer;display: block;width: 100%;margin-bottom: 0;padding: 0.3em;box-sizing: border-box;text-align: center;}#sk-container-id-1 label.sk-toggleable__label-arrow:before {content: \"▸\";float: left;margin-right: 0.25em;color: #696969;}#sk-container-id-1 label.sk-toggleable__label-arrow:hover:before {color: black;}#sk-container-id-1 div.sk-estimator:hover label.sk-toggleable__label-arrow:before {color: black;}#sk-container-id-1 div.sk-toggleable__content {max-height: 0;max-width: 0;overflow: hidden;text-align: left;background-color: #f0f8ff;}#sk-container-id-1 div.sk-toggleable__content pre {margin: 0.2em;color: black;border-radius: 0.25em;background-color: #f0f8ff;}#sk-container-id-1 input.sk-toggleable__control:checked~div.sk-toggleable__content {max-height: 200px;max-width: 100%;overflow: auto;}#sk-container-id-1 input.sk-toggleable__control:checked~label.sk-toggleable__label-arrow:before {content: \"▾\";}#sk-container-id-1 div.sk-estimator input.sk-toggleable__control:checked~label.sk-toggleable__label {background-color: #d4ebff;}#sk-container-id-1 div.sk-label input.sk-toggleable__control:checked~label.sk-toggleable__label {background-color: #d4ebff;}#sk-container-id-1 input.sk-hidden--visually {border: 0;clip: rect(1px 1px 1px 1px);clip: rect(1px, 1px, 1px, 1px);height: 1px;margin: -1px;overflow: hidden;padding: 0;position: absolute;width: 1px;}#sk-container-id-1 div.sk-estimator {font-family: monospace;background-color: #f0f8ff;border: 1px dotted black;border-radius: 0.25em;box-sizing: border-box;margin-bottom: 0.5em;}#sk-container-id-1 div.sk-estimator:hover {background-color: #d4ebff;}#sk-container-id-1 div.sk-parallel-item::after {content: \"\";width: 100%;border-bottom: 1px solid gray;flex-grow: 1;}#sk-container-id-1 div.sk-label:hover label.sk-toggleable__label {background-color: #d4ebff;}#sk-container-id-1 div.sk-serial::before {content: \"\";position: absolute;border-left: 1px solid gray;box-sizing: border-box;top: 0;bottom: 0;left: 50%;z-index: 0;}#sk-container-id-1 div.sk-serial {display: flex;flex-direction: column;align-items: center;background-color: white;padding-right: 0.2em;padding-left: 0.2em;position: relative;}#sk-container-id-1 div.sk-item {position: relative;z-index: 1;}#sk-container-id-1 div.sk-parallel {display: flex;align-items: stretch;justify-content: center;background-color: white;position: relative;}#sk-container-id-1 div.sk-item::before, #sk-container-id-1 div.sk-parallel-item::before {content: \"\";position: absolute;border-left: 1px solid gray;box-sizing: border-box;top: 0;bottom: 0;left: 50%;z-index: -1;}#sk-container-id-1 div.sk-parallel-item {display: flex;flex-direction: column;z-index: 1;position: relative;background-color: white;}#sk-container-id-1 div.sk-parallel-item:first-child::after {align-self: flex-end;width: 50%;}#sk-container-id-1 div.sk-parallel-item:last-child::after {align-self: flex-start;width: 50%;}#sk-container-id-1 div.sk-parallel-item:only-child::after {width: 0;}#sk-container-id-1 div.sk-dashed-wrapped {border: 1px dashed gray;margin: 0 0.4em 0.5em 0.4em;box-sizing: border-box;padding-bottom: 0.4em;background-color: white;}#sk-container-id-1 div.sk-label label {font-family: monospace;font-weight: bold;display: inline-block;line-height: 1.2em;}#sk-container-id-1 div.sk-label-container {text-align: center;}#sk-container-id-1 div.sk-container {/* jupyter's `normalize.less` sets `[hidden] { display: none; }` but bootstrap.min.css set `[hidden] { display: none !important; }` so we also need the `!important` here to be able to override the default hidden behavior on the sphinx rendered scikit-learn.org. See: https://github.com/scikit-learn/scikit-learn/issues/21755 */display: inline-block !important;position: relative;}#sk-container-id-1 div.sk-text-repr-fallback {display: none;}</style><div id=\"sk-container-id-1\" class=\"sk-top-container\"><div class=\"sk-text-repr-fallback\"><pre>SVC(gamma=&#x27;auto&#x27;)</pre><b>In a Jupyter environment, please rerun this cell to show the HTML representation or trust the notebook. <br />On GitHub, the HTML representation is unable to render, please try loading this page with nbviewer.org.</b></div><div class=\"sk-container\" hidden><div class=\"sk-item\"><div class=\"sk-estimator sk-toggleable\"><input class=\"sk-toggleable__control sk-hidden--visually\" id=\"sk-estimator-id-1\" type=\"checkbox\" checked><label for=\"sk-estimator-id-1\" class=\"sk-toggleable__label sk-toggleable__label-arrow\">SVC</label><div class=\"sk-toggleable__content\"><pre>SVC(gamma=&#x27;auto&#x27;)</pre></div></div></div></div></div>"
      ],
      "text/plain": [
       "SVC(gamma='auto')"
      ]
     },
     "execution_count": 13,
     "metadata": {},
     "output_type": "execute_result"
    }
   ],
   "source": [
    "data = ae.encode(d2data64)\n",
    "data = pd.DataFrame(data)\n",
    "data = pd.concat([data, other], axis=1)\n",
    "data, y_ = shuffle(data, y)\n",
    "res_svc = SVC(kernel='rbf', shrinking=True, probability=False, degree=3, gamma='auto')\n",
    "res_svc.fit(data, y_)\n",
    "res_svc"
   ]
  },
  {
   "cell_type": "code",
   "execution_count": 14,
   "id": "3facc9a8",
   "metadata": {},
   "outputs": [],
   "source": [
    "with open('../app/src/model/predictor-1.1.1.pickle', 'wb') as f:\n",
    "    pickle.dump(res_svc, f)"
   ]
  },
  {
   "cell_type": "code",
   "execution_count": null,
   "id": "4656c4d5",
   "metadata": {},
   "outputs": [],
   "source": []
  }
 ],
 "metadata": {
  "kernelspec": {
   "display_name": "Python 3 (ipykernel)",
   "language": "python",
   "name": "python3"
  },
  "language_info": {
   "codemirror_mode": {
    "name": "ipython",
    "version": 3
   },
   "file_extension": ".py",
   "mimetype": "text/x-python",
   "name": "python",
   "nbconvert_exporter": "python",
   "pygments_lexer": "ipython3",
   "version": "3.10.5"
  }
 },
 "nbformat": 4,
 "nbformat_minor": 5
}
