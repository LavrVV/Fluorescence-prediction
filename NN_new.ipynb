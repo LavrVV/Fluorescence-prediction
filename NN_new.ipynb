{
 "cells": [
  {
   "cell_type": "code",
   "execution_count": 1,
   "metadata": {},
   "outputs": [],
   "source": [
    "import numpy as np\n",
    "import pandas as pd\n",
    "from sklearn.model_selection import cross_validate\n",
    "from sklearn.decomposition import PCA\n",
    "from sklearn.model_selection import train_test_split\n",
    "from sklearn.metrics import accuracy_score, f1_score\n",
    "\n",
    "import sys\n",
    "import os\n",
    "import pydicom\n",
    "import pickle\n",
    "\n",
    "from PIL import Image\n",
    "\n",
    "from torch import optim\n",
    "import torch\n",
    "from torch import nn\n",
    "from torch.autograd import Variable\n",
    "from torch.utils.data import DataLoader\n",
    "\n",
    "from sklearn.linear_model import LogisticRegression\n",
    "from sklearn.utils import shuffle\n",
    "from sklearn.tree import DecisionTreeClassifier\n",
    "from sklearn.naive_bayes import GaussianNB\n",
    "from sklearn.svm import SVC\n",
    "from sklearn.linear_model import SGDClassifier\n",
    "from sklearn.gaussian_process import GaussianProcessClassifier"
   ]
  },
  {
   "cell_type": "code",
   "execution_count": 22,
   "metadata": {},
   "outputs": [],
   "source": [
    "def train(network, data, epochs, learning_rate, l2=0):\n",
    "    loss = nn.MSELoss()\n",
    "    #SGD\n",
    "    network.cuda()\n",
    "    optimizer = torch.optim.Adam(network.parameters(), lr=learning_rate, weight_decay=l2)\n",
    "    train, test = train_test_split(data)\n",
    "    train_loader = DataLoader(train, batch_size=50, shuffle=True)\n",
    "    test_loader = DataLoader(test, batch_size=50, shuffle=True)\n",
    "    res = 0\n",
    "    try:\n",
    "        for epoch in range(epochs):\n",
    "            train_losses = []\n",
    "            train_accuracies = []\n",
    "            \n",
    "            for X in train_loader:\n",
    "                X = Variable(X)\n",
    "                X = X.float()\n",
    "                X = X.cuda()\n",
    "                network.zero_grad()\n",
    "                prediction = network(X)\n",
    "                loss_batch = loss(prediction, X)\n",
    "                loss_batch.backward()\n",
    "                optimizer.step()\n",
    "                train_losses.append(loss_batch.item())\n",
    "                \n",
    "                prediction = prediction.cpu()\n",
    "                X = X.cpu()\n",
    "                \n",
    "                train_accuracies.append(np.absolute((prediction.data.numpy() - X.data.numpy())).sum()) \n",
    "            train_losses = np.mean(train_losses)\n",
    "            train_accuracies = np.mean(train_accuracies)\n",
    "            \n",
    "            \n",
    "            test_losses = []\n",
    "            test_accuracies = []\n",
    "            for X in test_loader:\n",
    "                X = Variable(X)\n",
    "                X = X.float()\n",
    "                X = X.cuda()\n",
    "                prediction = network(X)\n",
    "                loss_batch = loss(prediction, X)\n",
    "                test_losses.append(loss_batch.item())\n",
    "                \n",
    "                prediction = prediction.cpu()\n",
    "                X = X.cpu()\n",
    "                \n",
    "                test_accuracies.append(np.absolute((prediction.data.numpy() - X.data.numpy())).sum())\n",
    "            \n",
    "            test_losses = np.mean(test_losses)\n",
    "            test_accuracies = np.mean(test_accuracies)\n",
    "            \n",
    "            res = (train_losses, test_losses, train_accuracies, test_accuracies)\n",
    "            sys.stdout.write('\\rEpoch {0}... (Train/Test) MSE: {1:.3f}/{2:.3f}\\tAccuracy: {3:.3f}/{4:.3f}'.format(\n",
    "                        epoch, train_losses, test_losses,\n",
    "                        train_accuracies, test_accuracies))\n",
    "        \n",
    "    except KeyboardInterrupt:\n",
    "        pass\n",
    "    network.cpu()\n",
    "    return res"
   ]
  },
  {
   "cell_type": "code",
   "execution_count": 3,
   "metadata": {},
   "outputs": [],
   "source": [
    "def check_models(X, y, metric='accuracy'):\n",
    "    res = {'LogisticRegression': 0,\n",
    "           'DecisionTree': 0,\n",
    "           'GaussianNB': 0,\n",
    "           'SVC': 0,\n",
    "           'SGD': 0,\n",
    "           'GaussianProcess': 0,\n",
    "           'XGBoost': 0\n",
    "          }\n",
    "    #print metric\n",
    "    X, y = shuffle(X, y)\n",
    "    lg = LogisticRegression(solver='liblinear', multi_class='auto')\n",
    "    cv = cross_validate(lg, X, y, cv=5, scoring=metric)\n",
    "    res['LogisticRegression'] = np.mean(cv['test_score'])\n",
    "    \n",
    "    dt = DecisionTreeClassifier(criterion='gini')\n",
    "    cv = cross_validate(dt, X, y, cv=5)\n",
    "    res['DecisionTree'] = np.mean(cv['test_score'])\n",
    "    \n",
    "    bayes = GaussianNB()\n",
    "    cv = cross_validate(bayes, X, y, cv=5, scoring=metric)\n",
    "    res['GaussianNB'] = np.mean(cv['test_score'])\n",
    "    \n",
    "    svc = SVC(kernel='rbf', shrinking=True, probability=False, degree=3, gamma='auto')\n",
    "    cv = cross_validate(svc, X, y, cv=5, scoring=metric)\n",
    "    res['SVC'] = np.mean(cv['test_score'])\n",
    "    \n",
    "    sgd = SGDClassifier(tol=1e-3, max_iter=1000, loss='hinge')\n",
    "    cv = cross_validate(sgd, X, y, cv=5, scoring=metric)\n",
    "    res['SGD'] = np.mean(cv['test_score'])\n",
    "    \n",
    "    gp = GaussianProcessClassifier()\n",
    "    cv = cross_validate(gp, X, y, cv=5, scoring=metric)\n",
    "    res['GaussianProcess'] = np.mean(cv['test_score'])\n",
    "    \n",
    "    #gb = XGBClassifier(max_depth=10, n_estimators=20, booster='dart')\n",
    "    #cv = cross_validate(gb, X, y, cv=10, scoring=metric)\n",
    "    #res['XGBoost'] = np.mean(cv['test_score'])\n",
    "    \n",
    "    return res"
   ]
  },
  {
   "cell_type": "code",
   "execution_count": 4,
   "metadata": {},
   "outputs": [],
   "source": [
    "class MyAutoencoder64(nn.Module):\n",
    "    def __init__(self, n_comp=10):\n",
    "        super(MyAutoencoder64, self).__init__()\n",
    "        self.encoder = nn.Sequential(nn.Linear(4096, 500), nn.Sigmoid(), \n",
    "        nn.Linear(500, 64), nn.Sigmoid(), \n",
    "        nn.Linear(64, n_comp))\n",
    "        self.decoder = nn.Sequential(nn.Linear(n_comp, 64), nn.Tanh(), \n",
    "        nn.Linear(64, 500), nn.Tanh(), \n",
    "        nn.Linear(500, 4096))\n",
    "        \n",
    "        \n",
    "    def forward(self, x):\n",
    "        x = self.encoder(x)\n",
    "        x = self.decoder(x)\n",
    "        return x\n",
    "\n",
    "    def encode(self, x):\n",
    "        x = self.encoder(x)\n",
    "\n",
    "        return x.data.numpy()"
   ]
  },
  {
   "cell_type": "code",
   "execution_count": 5,
   "metadata": {},
   "outputs": [],
   "source": [
    "class MySparceAutoencoder64(nn.Module):\n",
    "    def __init__(self, n_comp=10):\n",
    "        super(MySparceAutoencoder64, self).__init__()\n",
    "        self.n_comp = n_comp\n",
    "\n",
    "        self.encoder = nn.Sequential(nn.Linear(4096, 1000), nn.Sigmoid(), \n",
    "        nn.Linear(1000, 500), nn.Sigmoid(), \n",
    "        nn.Linear(500, 100))\n",
    "        self.decoder = nn.Sequential(nn.Linear(100, 500), nn.Tanh(), \n",
    "        nn.Linear(500, 1000), nn.Tanh(), \n",
    "        nn.Linear(1000, 4096))\n",
    "\n",
    "    def forward(self, x):\n",
    "        x = self.encoder(x)\n",
    "        x[x < x.sort(dim=1, descending=True)[0][:,self.n_comp - 1].resize(len(x),1)] = 0\n",
    "        x = self.decoder(x)\n",
    "        return x\n",
    "\n",
    "    def encode(self, x):\n",
    "        x = self.encoder(x)\n",
    "        x[x < x.sort(dim=1, descending=True)[0][:,self.n_comp - 1].resize(len(x),1)] = 0\n",
    "\n",
    "        return x.data.numpy()"
   ]
  },
  {
   "cell_type": "code",
   "execution_count": 6,
   "metadata": {},
   "outputs": [],
   "source": [
    "class MyDeepAutoencoder64(nn.Module):\n",
    "    def __init__(self, n_comp=10):\n",
    "        super(MyDeepAutoencoder64, self).__init__()\n",
    "        self.n_comp = n_comp\n",
    "        \n",
    "        self.encoder = nn.Sequential(nn.Linear(4096, 2000), nn.Sigmoid(), \n",
    "        nn.Linear(2000, 1100), nn.Sigmoid(), \n",
    "        nn.Linear(1100, 500), nn.Sigmoid(), \n",
    "        nn.Linear(500, 300), nn.Sigmoid(), \n",
    "        nn.Linear(300, 100), nn.Sigmoid(), \n",
    "        nn.Linear(100, n_comp))\n",
    "        self.decoder = nn.Sequential(nn.Linear(n_comp, 100), nn.Tanh(), \n",
    "        nn.Linear(100, 300), nn.Tanh(),\n",
    "        nn.Linear(300, 500), nn.Tanh(),\n",
    "        nn.Linear(500, 1100), nn.Tanh(),\n",
    "        nn.Linear(1100, 2000), nn.Tanh(), \n",
    "        nn.Linear(2000, 4096))\n",
    "\n",
    "    def forward(self, x):\n",
    "        x = self.encoder(x)\n",
    "        x = self.decoder(x)\n",
    "        return x\n",
    "\n",
    "    def encode(self, x):\n",
    "        x = self.encoder(x)\n",
    "\n",
    "        return x.data.numpy()"
   ]
  },
  {
   "cell_type": "code",
   "execution_count": 7,
   "metadata": {},
   "outputs": [],
   "source": [
    "class MyDeepSparceAutoencoder64(nn.Module):\n",
    "    def __init__(self, n_comp=10):\n",
    "        super(MyDeepSparceAutoencoder64, self).__init__()\n",
    "        self.n_comp = n_comp\n",
    "\n",
    "        self.encoder = nn.Sequential(nn.Linear(4096, 2000), nn.Sigmoid(), \n",
    "        nn.Linear(2000, 1100), nn.Sigmoid(), \n",
    "        nn.Linear(1100, 500), nn.Sigmoid(), \n",
    "        nn.Linear(500, 300), nn.Sigmoid(), \n",
    "        nn.Linear(300, 100))\n",
    "        self.decoder = nn.Sequential( \n",
    "        nn.Linear(100, 300), nn.Tanh(),\n",
    "        nn.Linear(300, 500), nn.Tanh(),\n",
    "        nn.Linear(500, 1100), nn.Tanh(),\n",
    "        nn.Linear(1100, 2000), nn.Tanh(), \n",
    "        nn.Linear(2000, 4096))\n",
    "\n",
    "    def forward(self, x):\n",
    "        x = self.encoder(x)\n",
    "        x[x < x.sort(dim=1, descending=True)[0][:,self.n_comp - 1].resize(len(x),1)] = 0\n",
    "        x = self.decoder(x)\n",
    "        return x\n",
    "\n",
    "    def encode(self, x):\n",
    "        x = self.encoder(x)\n",
    "        x[x < x.sort(dim=1, descending=True)[0][:,self.n_comp - 1].resize(len(x),1)] = 0\n",
    "\n",
    "        return x.data.numpy()"
   ]
  },
  {
   "cell_type": "code",
   "execution_count": 8,
   "metadata": {},
   "outputs": [],
   "source": [
    "class MyAutoencoder128(nn.Module):\n",
    "    def __init__(self, n_comp=10):\n",
    "        super(MyAutoencoder128, self).__init__()\n",
    "        self.encoder = nn.Sequential(nn.Linear(16384, 5000), nn.Sigmoid(), \n",
    "        nn.Linear(5000, 1000),nn.Sigmoid(), \n",
    "        nn.Linear(1000, 300), nn.Sigmoid(), \n",
    "        nn.Linear(300, 60), nn.Sigmoid(), \n",
    "        nn.Linear(60, n_comp))\n",
    "        self.decoder = nn.Sequential(nn.Linear(n_comp, 60), nn.Tanh(), \n",
    "        nn.Linear(60, 300), nn.Tanh(),\n",
    "        nn.Linear(300, 1000), nn.Tanh(),\n",
    "        nn.Linear(1000, 5000), nn.Tanh(), \n",
    "        nn.Linear(5000, 16384))\n",
    "        \n",
    "        \n",
    "    def forward(self, x):\n",
    "        x = self.encoder(x)\n",
    "        x = self.decoder(x)\n",
    "        return x\n",
    "\n",
    "    def encode(self, x):\n",
    "        x = self.encoder(x)\n",
    "        x[x < x.sort(dim=1, descending=True)[0][:,self.n_comp - 1].resize(len(x),1)] = 0\n",
    "\n",
    "        return x.data.numpy()"
   ]
  },
  {
   "cell_type": "code",
   "execution_count": 9,
   "metadata": {},
   "outputs": [],
   "source": [
    "class MySparceAutoencoder128(nn.Module):\n",
    "    def __init__(self, n_comp=10):\n",
    "        super(MySparceAutoencoder128, self).__init__()\n",
    "        self.n_comp = n_comp\n",
    "        self.encoder = nn.Sequential(nn.Linear(16384, 5000), nn.Sigmoid(), \n",
    "        nn.Linear(5000, 1000),nn.Sigmoid(), \n",
    "        nn.Linear(1000, 300), nn.Sigmoid(), \n",
    "        nn.Linear(300, 100))\n",
    "        self.decoder = nn.Sequential(nn.Linear(100, 300), nn.Tanh(), \n",
    "        nn.Linear(300, 1000), nn.Tanh(),\n",
    "        nn.Linear(1000, 5000), nn.Tanh(), \n",
    "        nn.Linear(5000, 16384))\n",
    "\n",
    "    def forward(self, x):\n",
    "        x = self.encoder(x)\n",
    "        x[x < x.sort(dim=1, descending=True)[0][:,self.n_comp - 1].resize(len(x),1)] = 0\n",
    "        x = self.decoder(x)\n",
    "\n",
    "        return x\n",
    "\n",
    "    def encode(self, x):\n",
    "        x = self.encoder(x)\n",
    "        x[x < x.sort(dim=1, descending=True)[0][:,self.n_comp - 1].resize(len(x),1)] = 0\n",
    "\n",
    "        return x.data.numpy()"
   ]
  },
  {
   "cell_type": "code",
   "execution_count": 10,
   "metadata": {},
   "outputs": [],
   "source": [
    "class MyDeepAutoencoder128(nn.Module):\n",
    "    def __init__(self, n_comp=10):\n",
    "        super(MyDeepAutoencoder128, self).__init__()\n",
    "        self.n_comp = n_comp\n",
    "        self.encoder = nn.Sequential(nn.Linear(16384, 10000), nn.Sigmoid(), \n",
    "        nn.Linear(10000, 6000),nn.Sigmoid(), \n",
    "        nn.Linear(6000, 2000), nn.Sigmoid(), \n",
    "        nn.Linear(2000, 800), nn.Sigmoid(), \n",
    "        nn.Linear(800, 300), nn.Sigmoid(), \n",
    "        nn.Linear(300, 100), nn.Sigmoid(), \n",
    "        nn.Linear(100, n_comp))\n",
    "        self.decoder = nn.Sequential(nn.Linear(n_comp, 100), nn.Tanh(), \n",
    "        nn.Linear(100, 300), nn.Tanh(),\n",
    "        nn.Linear(300, 800), nn.Tanh(),\n",
    "        nn.Linear(800, 2000), nn.Tanh(),\n",
    "        nn.Linear(2000, 6000), nn.Tanh(),\n",
    "        nn.Linear(6000, 10000), nn.Tanh(), \n",
    "        nn.Linear(10000, 16384))\n",
    "\n",
    "    def forward(self, x):\n",
    "        x = self.encoder(x)\n",
    "        x = self.decoder(x)\n",
    "\n",
    "        return x\n",
    "\n",
    "    def encode(self, x):\n",
    "        x = self.encoder(x)\n",
    "        return x.data.numpy()"
   ]
  },
  {
   "cell_type": "code",
   "execution_count": 11,
   "metadata": {},
   "outputs": [],
   "source": [
    "class MyDeepSparceAutoencoder128(nn.Module):\n",
    "    def __init__(self, n_comp=10):\n",
    "        super(MyDeepSparceAutoencoder128, self).__init__()\n",
    "        self.n_comp = n_comp\n",
    "        self.encoder = nn.Sequential(nn.Linear(16384, 10000), nn.Sigmoid(), \n",
    "        nn.Linear(10000, 6000),nn.Sigmoid(), \n",
    "        nn.Linear(6000, 2000), nn.Sigmoid(), \n",
    "        nn.Linear(2000, 800), nn.Sigmoid(), \n",
    "        nn.Linear(800, 300), nn.Sigmoid(), \n",
    "        nn.Linear(300, 100))\n",
    "        self.decoder = nn.Sequential(nn.Linear(100, 300), nn.Tanh(),\n",
    "        nn.Linear(300, 800), nn.Tanh(),\n",
    "        nn.Linear(800, 2000), nn.Tanh(),\n",
    "        nn.Linear(2000, 6000), nn.Tanh(),\n",
    "        nn.Linear(6000, 10000), nn.Tanh(), \n",
    "        nn.Linear(10000, 16384))\n",
    "\n",
    "    def forward(self, x):\n",
    "        x = self.encoder(x)\n",
    "        x[x < x.sort(dim=1, descending=True)[0][:,self.n_comp - 1].resize(len(x),1)] = 0\n",
    "        x = self.decoder(x)\n",
    "        \n",
    "        return x\n",
    "\n",
    "    def encode(self, x):\n",
    "        x = self.encoder(x)\n",
    "        x[x < x.sort(dim=1, descending=True)[0][:,self.n_comp - 1].resize(len(x),1)] = 0\n",
    "\n",
    "        return x"
   ]
  },
  {
   "cell_type": "code",
   "execution_count": 12,
   "metadata": {},
   "outputs": [],
   "source": [
    "class MyCAutoencoder(nn.Module):\n",
    "    def __init__(self, n_comp=16):\n",
    "        super(MyCAutoencoder, self).__init__()\n",
    "        self.n_comp = n_comp\n",
    "        self.ec1 = nn.Conv2d(1,2,(3,3),padding=1) \n",
    "        self.ep1 = nn.MaxPool2d(4, return_indices=True) \n",
    "        self.ec2 = nn.Conv2d(2,4,(3,3),padding=1)\n",
    "        self.ep2 = nn.MaxPool2d(2, return_indices=True)\n",
    "        self.ec3 = nn.Conv2d(4,n_comp,(3,3),padding=1)\n",
    "        self.ep3 = nn.MaxPool2d(4, return_indices=True)\n",
    "        self.el = nn.Linear(4,4)\n",
    "        self.ep4 = nn.MaxPool2d(4, return_indices=True)\n",
    "        \n",
    "        self.dp4 = nn.MaxUnpool2d(4)\n",
    "        self.dl = nn.Linear(4,4)\n",
    "        self.dp3 = nn.MaxUnpool2d(4)\n",
    "        self.dc3 = nn.Conv2d(n_comp,4,(3,3),padding=1) \n",
    "        self.dp2 = nn.MaxUnpool2d(2)\n",
    "        self.dc2 = nn.Conv2d(4,2,(3,3),padding=1)\n",
    "        self.dp1 = nn.MaxUnpool2d(4)\n",
    "        self.dc1 = nn.Conv2d(2,1,(3,3),padding=1)\n",
    "        \n",
    "    def forward(self, x):\n",
    "        relu = nn.ReLU()\n",
    "        #encode\n",
    "        x = self.ec1(x)\n",
    "        x, i1 = self.ep1(x)\n",
    "        x = relu(x)\n",
    "        x = self.ec2(x)\n",
    "        x, i2 = self.ep2(x)\n",
    "        x = relu(x)\n",
    "        x = self.ec3(x)\n",
    "        x, i3 = self.ep3(x)\n",
    "        x = relu(x)\n",
    "        x = self.el(x)\n",
    "        x, i4 = self.ep4(x)\n",
    "        \n",
    "        x = self.dp4(x, i4)\n",
    "        x = self.dl(x)\n",
    "        x = relu(x)\n",
    "        x = self.dp3(x, i3)\n",
    "        x = self.dc3(x)\n",
    "        x = relu(x)\n",
    "        x = self.dp2(x, i2)\n",
    "        x = self.dc2(x)\n",
    "        x = relu(x)\n",
    "        x = self.dp1(x, i1)\n",
    "        x = self.dc1(x)\n",
    "\n",
    "        \n",
    "        return x\n",
    "    def encode(self, x):\n",
    "        relu = nn.ReLU()\n",
    "        \n",
    "        x = self.ec1(x)\n",
    "        x, i1 = self.ep1(x)\n",
    "        x = relu(x)\n",
    "        x = self.ec2(x)\n",
    "        x, i2 = self.ep2(x)\n",
    "        x = relu(x)\n",
    "        x = self.ec3(x)\n",
    "        x, i3 = self.ep3(x)\n",
    "        x = relu(x)\n",
    "        x = self.el(x)\n",
    "        x, i4 = self.ep4(x)\n",
    "        \n",
    "        return x.data.numpy().reshape(-1, self.n_comp)"
   ]
  },
  {
   "cell_type": "code",
   "execution_count": 49,
   "metadata": {},
   "outputs": [],
   "source": [
    "N = 200\n",
    "#d2models64 = [MyAutoencoder64, MySparceAutoencoder64, MyDeepAutoencoder64, MyDeepSparceAutoencoder64]\n",
    "#d2models128 = [MyAutoencoder128, MySparceAutoencoder128, MyDeepAutoencoder128, MyDeepSparceAutoencoder128]\n",
    "res = open('out.txt', 'w')\n",
    "with open('y.pickle', 'rb') as f:\n",
    "    y = pickle.load(f)\n",
    "with open('other.pickle', 'rb') as f:\n",
    "    other = pickle.load(f)"
   ]
  },
  {
   "cell_type": "code",
   "execution_count": 58,
   "metadata": {},
   "outputs": [
    {
     "data": {
      "text/plain": [
       "0.8790661650807701"
      ]
     },
     "execution_count": 58,
     "metadata": {},
     "output_type": "execute_result"
    }
   ],
   "source": [
    "np.array(y).sum() / len(y)"
   ]
  },
  {
   "cell_type": "code",
   "execution_count": 38,
   "metadata": {},
   "outputs": [],
   "source": [
    "res = open('out.txt', 'w')"
   ]
  },
  {
   "cell_type": "code",
   "execution_count": 39,
   "metadata": {},
   "outputs": [
    {
     "name": "stdout",
     "output_type": "stream",
     "text": [
      "(9038, 4096)\n",
      "Epoch 199... (Train/Test) MSE: 0.009/0.009\tAccuracy: 10885.715/10822.426"
     ]
    },
    {
     "name": "stderr",
     "output_type": "stream",
     "text": [
      "D:\\programs\\anaconda\\lib\\site-packages\\torch\\tensor.py:287: UserWarning: non-inplace resize is deprecated\n",
      "  warnings.warn(\"non-inplace resize is deprecated\")\n"
     ]
    },
    {
     "name": "stdout",
     "output_type": "stream",
     "text": [
      "Epoch 199... (Train/Test) MSE: 0.029/0.030\tAccuracy: 23811.740/25071.557"
     ]
    },
    {
     "name": "stderr",
     "output_type": "stream",
     "text": [
      "D:\\programs\\anaconda\\lib\\site-packages\\torch\\tensor.py:287: UserWarning: non-inplace resize is deprecated\n",
      "  warnings.warn(\"non-inplace resize is deprecated\")\n"
     ]
    },
    {
     "name": "stdout",
     "output_type": "stream",
     "text": [
      "Epoch 199... (Train/Test) MSE: 0.009/0.009\tAccuracy: 10809.850/10683.635"
     ]
    },
    {
     "name": "stderr",
     "output_type": "stream",
     "text": [
      "D:\\programs\\anaconda\\lib\\site-packages\\torch\\tensor.py:287: UserWarning: non-inplace resize is deprecated\n",
      "  warnings.warn(\"non-inplace resize is deprecated\")\n"
     ]
    },
    {
     "name": "stdout",
     "output_type": "stream",
     "text": [
      "Epoch 199... (Train/Test) MSE: 0.030/0.029\tAccuracy: 24534.979/23494.062"
     ]
    },
    {
     "name": "stderr",
     "output_type": "stream",
     "text": [
      "D:\\programs\\anaconda\\lib\\site-packages\\torch\\tensor.py:287: UserWarning: non-inplace resize is deprecated\n",
      "  warnings.warn(\"non-inplace resize is deprecated\")\n"
     ]
    },
    {
     "name": "stdout",
     "output_type": "stream",
     "text": [
      "Epoch 199... (Train/Test) MSE: 0.009/0.009\tAccuracy: 10687.960/10775.550"
     ]
    },
    {
     "name": "stderr",
     "output_type": "stream",
     "text": [
      "D:\\programs\\anaconda\\lib\\site-packages\\torch\\tensor.py:287: UserWarning: non-inplace resize is deprecated\n",
      "  warnings.warn(\"non-inplace resize is deprecated\")\n"
     ]
    },
    {
     "name": "stdout",
     "output_type": "stream",
     "text": [
      "Epoch 199... (Train/Test) MSE: 0.021/0.021\tAccuracy: 17829.271/17372.400"
     ]
    },
    {
     "name": "stderr",
     "output_type": "stream",
     "text": [
      "D:\\programs\\anaconda\\lib\\site-packages\\torch\\tensor.py:287: UserWarning: non-inplace resize is deprecated\n",
      "  warnings.warn(\"non-inplace resize is deprecated\")\n"
     ]
    },
    {
     "name": "stdout",
     "output_type": "stream",
     "text": [
      "Epoch 199... (Train/Test) MSE: 0.009/0.009\tAccuracy: 10653.196/10620.190"
     ]
    },
    {
     "name": "stderr",
     "output_type": "stream",
     "text": [
      "D:\\programs\\anaconda\\lib\\site-packages\\torch\\tensor.py:287: UserWarning: non-inplace resize is deprecated\n",
      "  warnings.warn(\"non-inplace resize is deprecated\")\n"
     ]
    },
    {
     "name": "stdout",
     "output_type": "stream",
     "text": [
      "Epoch 199... (Train/Test) MSE: 0.029/0.029\tAccuracy: 23890.125/23669.736"
     ]
    },
    {
     "name": "stderr",
     "output_type": "stream",
     "text": [
      "D:\\programs\\anaconda\\lib\\site-packages\\torch\\tensor.py:287: UserWarning: non-inplace resize is deprecated\n",
      "  warnings.warn(\"non-inplace resize is deprecated\")\n"
     ]
    },
    {
     "name": "stdout",
     "output_type": "stream",
     "text": [
      "Epoch 199... (Train/Test) MSE: 0.009/0.009\tAccuracy: 10755.103/10708.17375"
     ]
    },
    {
     "name": "stderr",
     "output_type": "stream",
     "text": [
      "D:\\programs\\anaconda\\lib\\site-packages\\torch\\tensor.py:287: UserWarning: non-inplace resize is deprecated\n",
      "  warnings.warn(\"non-inplace resize is deprecated\")\n"
     ]
    },
    {
     "name": "stdout",
     "output_type": "stream",
     "text": [
      "Epoch 199... (Train/Test) MSE: 0.021/0.021\tAccuracy: 17698.867/17810.520"
     ]
    },
    {
     "name": "stderr",
     "output_type": "stream",
     "text": [
      "D:\\programs\\anaconda\\lib\\site-packages\\torch\\tensor.py:287: UserWarning: non-inplace resize is deprecated\n",
      "  warnings.warn(\"non-inplace resize is deprecated\")\n"
     ]
    },
    {
     "name": "stdout",
     "output_type": "stream",
     "text": [
      "Epoch 199... (Train/Test) MSE: 0.009/0.009\tAccuracy: 10853.759/10778.4639"
     ]
    },
    {
     "name": "stderr",
     "output_type": "stream",
     "text": [
      "D:\\programs\\anaconda\\lib\\site-packages\\torch\\tensor.py:287: UserWarning: non-inplace resize is deprecated\n",
      "  warnings.warn(\"non-inplace resize is deprecated\")\n"
     ]
    },
    {
     "name": "stdout",
     "output_type": "stream",
     "text": [
      "Epoch 199... (Train/Test) MSE: 0.029/0.031\tAccuracy: 24039.426/24506.869"
     ]
    },
    {
     "name": "stderr",
     "output_type": "stream",
     "text": [
      "D:\\programs\\anaconda\\lib\\site-packages\\torch\\tensor.py:287: UserWarning: non-inplace resize is deprecated\n",
      "  warnings.warn(\"non-inplace resize is deprecated\")\n"
     ]
    },
    {
     "name": "stdout",
     "output_type": "stream",
     "text": [
      "Epoch 199... (Train/Test) MSE: 0.009/0.009\tAccuracy: 10752.287/10610.707"
     ]
    },
    {
     "name": "stderr",
     "output_type": "stream",
     "text": [
      "D:\\programs\\anaconda\\lib\\site-packages\\torch\\tensor.py:287: UserWarning: non-inplace resize is deprecated\n",
      "  warnings.warn(\"non-inplace resize is deprecated\")\n"
     ]
    },
    {
     "name": "stdout",
     "output_type": "stream",
     "text": [
      "Epoch 199... (Train/Test) MSE: 0.029/0.031\tAccuracy: 24084.791/23983.307"
     ]
    },
    {
     "name": "stderr",
     "output_type": "stream",
     "text": [
      "D:\\programs\\anaconda\\lib\\site-packages\\torch\\tensor.py:287: UserWarning: non-inplace resize is deprecated\n",
      "  warnings.warn(\"non-inplace resize is deprecated\")\n"
     ]
    },
    {
     "name": "stdout",
     "output_type": "stream",
     "text": [
      "Epoch 199... (Train/Test) MSE: 0.021/0.021\tAccuracy: 17811.312/17241.809"
     ]
    },
    {
     "ename": "NameError",
     "evalue": "name 'gc' is not defined",
     "output_type": "error",
     "traceback": [
      "\u001b[1;31m---------------------------------------------------------------------------\u001b[0m",
      "\u001b[1;31mNameError\u001b[0m                                 Traceback (most recent call last)",
      "\u001b[1;32m<ipython-input-39-3c21d31a9dd6>\u001b[0m in \u001b[0;36m<module>\u001b[1;34m\u001b[0m\n\u001b[0;32m     22\u001b[0m \u001b[1;33m\u001b[0m\u001b[0m\n\u001b[0;32m     23\u001b[0m \u001b[1;32mdel\u001b[0m \u001b[0md2data64\u001b[0m\u001b[1;33m\u001b[0m\u001b[1;33m\u001b[0m\u001b[0m\n\u001b[1;32m---> 24\u001b[1;33m \u001b[0mgc\u001b[0m\u001b[1;33m.\u001b[0m\u001b[0mcollect\u001b[0m\u001b[1;33m(\u001b[0m\u001b[1;33m)\u001b[0m\u001b[1;33m\u001b[0m\u001b[1;33m\u001b[0m\u001b[0m\n\u001b[0m\u001b[0;32m     25\u001b[0m \u001b[1;33m\u001b[0m\u001b[0m\n\u001b[0;32m     26\u001b[0m \u001b[1;33m\u001b[0m\u001b[0m\n",
      "\u001b[1;31mNameError\u001b[0m: name 'gc' is not defined"
     ]
    }
   ],
   "source": [
    "\n",
    "with open('d2data64.pickle', 'rb') as f:\n",
    "    d2data64 = pickle.load(f)\n",
    "print(d2data64.shape)\n",
    "\n",
    "for i in range(10, 17):\n",
    "    for model in d2models64:\n",
    "        currmodel = model(i)\n",
    "        train_loss, test_loss, train_ac, test_ac = train(currmodel, d2data64, N, 0.001)\n",
    "        res.write('*' * 20 + '\\n')\n",
    "        res.write(str(type(currmodel)) + str(i) + '\\n')\n",
    "        res.write('(Train/Test) MSE: {0:.3f}/{1:.3f}\\tAccuracy: {2:.3f}/{3:.3f}\\n'.format(\n",
    "                    train_loss, test_loss,\n",
    "                    train_ac, test_ac))\n",
    "    \n",
    "        X1 = currmodel.encode(Variable(torch.Tensor(d2data64)))\n",
    "        X1 = pd.DataFrame(X1)\n",
    "        data = pd.concat([X1, other], axis=1)\n",
    "        f1 = check_models(data, y, metric='f1')\n",
    "\n",
    "        res.write(str(f1) + '\\n')\n",
    "\n",
    "del d2data64\n",
    "gc.collect()\n",
    "\n",
    "\n",
    "\n",
    "\n"
   ]
  },
  {
   "cell_type": "code",
   "execution_count": null,
   "metadata": {},
   "outputs": [],
   "source": [
    "with open('d2data128.pickle', 'rb') as f:\n",
    "    d2data128 = pickle.load(f)\n",
    "\n",
    "for i in range(10, 17):\n",
    "    for model in d2models128:\n",
    "        currmodel = model(i)\n",
    "        train_loss, test_loss, train_ac, test_ac = train(model, d2data128, N, 0.001)\n",
    "        res.write('*' * 20 + '\\n')\n",
    "        res.write(str(type(currmodel)) + str(i) + '\\n')\n",
    "        res.write('(Train/Test) MSE: {0:.3f}/{1:.3f}\\tAccuracy: {2:.3f}/{3:.3f}\\n'.format(\n",
    "                    train_loss, test_loss,\n",
    "                    train_ac, test_ac))\n",
    "    \n",
    "        X1 = currmodel.encode(Variable(torch.Tensor(d2data64)))\n",
    "        X1 = pd.DataFrame(X1)\n",
    "        data = pd.concat([X1, other], axis=1)\n",
    "        f1 = check_models(data, y, metric='f1')\n",
    "\n",
    "        res.write(str(f1) + '\\n')\n",
    "\n",
    "del d2data64\n",
    "gc.collect()"
   ]
  },
  {
   "cell_type": "code",
   "execution_count": 44,
   "metadata": {},
   "outputs": [
    {
     "name": "stdout",
     "output_type": "stream",
     "text": [
      "Epoch 199... (Train/Test) MSE: 0.032/0.032\tAccuracy: 118616.531/116904.719"
     ]
    },
    {
     "ename": "ValueError",
     "evalue": "Must pass 2-d input",
     "output_type": "error",
     "traceback": [
      "\u001b[1;31m---------------------------------------------------------------------------\u001b[0m",
      "\u001b[1;31mValueError\u001b[0m                                Traceback (most recent call last)",
      "\u001b[1;32m<ipython-input-44-12e13d71039e>\u001b[0m in \u001b[0;36m<module>\u001b[1;34m\u001b[0m\n\u001b[0;32m     12\u001b[0m \u001b[1;33m\u001b[0m\u001b[0m\n\u001b[0;32m     13\u001b[0m     \u001b[0mX1\u001b[0m \u001b[1;33m=\u001b[0m \u001b[0mcurrmodel\u001b[0m\u001b[1;33m.\u001b[0m\u001b[0mencode\u001b[0m\u001b[1;33m(\u001b[0m\u001b[0mVariable\u001b[0m\u001b[1;33m(\u001b[0m\u001b[0mtorch\u001b[0m\u001b[1;33m.\u001b[0m\u001b[0mTensor\u001b[0m\u001b[1;33m(\u001b[0m\u001b[0md3data128\u001b[0m\u001b[1;33m)\u001b[0m\u001b[1;33m)\u001b[0m\u001b[1;33m)\u001b[0m\u001b[1;33m\u001b[0m\u001b[1;33m\u001b[0m\u001b[0m\n\u001b[1;32m---> 14\u001b[1;33m     \u001b[0mX1\u001b[0m \u001b[1;33m=\u001b[0m \u001b[0mpd\u001b[0m\u001b[1;33m.\u001b[0m\u001b[0mDataFrame\u001b[0m\u001b[1;33m(\u001b[0m\u001b[0mX1\u001b[0m\u001b[1;33m)\u001b[0m\u001b[1;33m\u001b[0m\u001b[1;33m\u001b[0m\u001b[0m\n\u001b[0m\u001b[0;32m     15\u001b[0m     \u001b[0mdata\u001b[0m \u001b[1;33m=\u001b[0m \u001b[0mpd\u001b[0m\u001b[1;33m.\u001b[0m\u001b[0mconcat\u001b[0m\u001b[1;33m(\u001b[0m\u001b[1;33m[\u001b[0m\u001b[0mX1\u001b[0m\u001b[1;33m,\u001b[0m \u001b[0mother\u001b[0m\u001b[1;33m]\u001b[0m\u001b[1;33m,\u001b[0m \u001b[0maxis\u001b[0m\u001b[1;33m=\u001b[0m\u001b[1;36m1\u001b[0m\u001b[1;33m)\u001b[0m\u001b[1;33m\u001b[0m\u001b[1;33m\u001b[0m\u001b[0m\n\u001b[0;32m     16\u001b[0m     \u001b[0mf1\u001b[0m \u001b[1;33m=\u001b[0m \u001b[0mcheck_models\u001b[0m\u001b[1;33m(\u001b[0m\u001b[0mdata\u001b[0m\u001b[1;33m,\u001b[0m \u001b[0my\u001b[0m\u001b[1;33m,\u001b[0m \u001b[0mmetric\u001b[0m\u001b[1;33m=\u001b[0m\u001b[1;34m'f1'\u001b[0m\u001b[1;33m)\u001b[0m\u001b[1;33m\u001b[0m\u001b[1;33m\u001b[0m\u001b[0m\n",
      "\u001b[1;32mD:\\programs\\anaconda\\lib\\site-packages\\pandas\\core\\frame.py\u001b[0m in \u001b[0;36m__init__\u001b[1;34m(self, data, index, columns, dtype, copy)\u001b[0m\n\u001b[0;32m    377\u001b[0m             \u001b[1;32melse\u001b[0m\u001b[1;33m:\u001b[0m\u001b[1;33m\u001b[0m\u001b[1;33m\u001b[0m\u001b[0m\n\u001b[0;32m    378\u001b[0m                 mgr = self._init_ndarray(data, index, columns, dtype=dtype,\n\u001b[1;32m--> 379\u001b[1;33m                                          copy=copy)\n\u001b[0m\u001b[0;32m    380\u001b[0m         \u001b[1;32melif\u001b[0m \u001b[0misinstance\u001b[0m\u001b[1;33m(\u001b[0m\u001b[0mdata\u001b[0m\u001b[1;33m,\u001b[0m \u001b[1;33m(\u001b[0m\u001b[0mlist\u001b[0m\u001b[1;33m,\u001b[0m \u001b[0mtypes\u001b[0m\u001b[1;33m.\u001b[0m\u001b[0mGeneratorType\u001b[0m\u001b[1;33m)\u001b[0m\u001b[1;33m)\u001b[0m\u001b[1;33m:\u001b[0m\u001b[1;33m\u001b[0m\u001b[1;33m\u001b[0m\u001b[0m\n\u001b[0;32m    381\u001b[0m             \u001b[1;32mif\u001b[0m \u001b[0misinstance\u001b[0m\u001b[1;33m(\u001b[0m\u001b[0mdata\u001b[0m\u001b[1;33m,\u001b[0m \u001b[0mtypes\u001b[0m\u001b[1;33m.\u001b[0m\u001b[0mGeneratorType\u001b[0m\u001b[1;33m)\u001b[0m\u001b[1;33m:\u001b[0m\u001b[1;33m\u001b[0m\u001b[1;33m\u001b[0m\u001b[0m\n",
      "\u001b[1;32mD:\\programs\\anaconda\\lib\\site-packages\\pandas\\core\\frame.py\u001b[0m in \u001b[0;36m_init_ndarray\u001b[1;34m(self, values, index, columns, dtype, copy)\u001b[0m\n\u001b[0;32m    513\u001b[0m         \u001b[1;31m# by definition an array here\u001b[0m\u001b[1;33m\u001b[0m\u001b[1;33m\u001b[0m\u001b[1;33m\u001b[0m\u001b[0m\n\u001b[0;32m    514\u001b[0m         \u001b[1;31m# the dtypes will be coerced to a single dtype\u001b[0m\u001b[1;33m\u001b[0m\u001b[1;33m\u001b[0m\u001b[1;33m\u001b[0m\u001b[0m\n\u001b[1;32m--> 515\u001b[1;33m         \u001b[0mvalues\u001b[0m \u001b[1;33m=\u001b[0m \u001b[0m_prep_ndarray\u001b[0m\u001b[1;33m(\u001b[0m\u001b[0mvalues\u001b[0m\u001b[1;33m,\u001b[0m \u001b[0mcopy\u001b[0m\u001b[1;33m=\u001b[0m\u001b[0mcopy\u001b[0m\u001b[1;33m)\u001b[0m\u001b[1;33m\u001b[0m\u001b[1;33m\u001b[0m\u001b[0m\n\u001b[0m\u001b[0;32m    516\u001b[0m \u001b[1;33m\u001b[0m\u001b[0m\n\u001b[0;32m    517\u001b[0m         \u001b[1;32mif\u001b[0m \u001b[0mdtype\u001b[0m \u001b[1;32mis\u001b[0m \u001b[1;32mnot\u001b[0m \u001b[1;32mNone\u001b[0m\u001b[1;33m:\u001b[0m\u001b[1;33m\u001b[0m\u001b[1;33m\u001b[0m\u001b[0m\n",
      "\u001b[1;32mD:\\programs\\anaconda\\lib\\site-packages\\pandas\\core\\frame.py\u001b[0m in \u001b[0;36m_prep_ndarray\u001b[1;34m(values, copy)\u001b[0m\n\u001b[0;32m   7446\u001b[0m         \u001b[0mvalues\u001b[0m \u001b[1;33m=\u001b[0m \u001b[0mvalues\u001b[0m\u001b[1;33m.\u001b[0m\u001b[0mreshape\u001b[0m\u001b[1;33m(\u001b[0m\u001b[1;33m(\u001b[0m\u001b[0mvalues\u001b[0m\u001b[1;33m.\u001b[0m\u001b[0mshape\u001b[0m\u001b[1;33m[\u001b[0m\u001b[1;36m0\u001b[0m\u001b[1;33m]\u001b[0m\u001b[1;33m,\u001b[0m \u001b[1;36m1\u001b[0m\u001b[1;33m)\u001b[0m\u001b[1;33m)\u001b[0m\u001b[1;33m\u001b[0m\u001b[1;33m\u001b[0m\u001b[0m\n\u001b[0;32m   7447\u001b[0m     \u001b[1;32melif\u001b[0m \u001b[0mvalues\u001b[0m\u001b[1;33m.\u001b[0m\u001b[0mndim\u001b[0m \u001b[1;33m!=\u001b[0m \u001b[1;36m2\u001b[0m\u001b[1;33m:\u001b[0m\u001b[1;33m\u001b[0m\u001b[1;33m\u001b[0m\u001b[0m\n\u001b[1;32m-> 7448\u001b[1;33m         \u001b[1;32mraise\u001b[0m \u001b[0mValueError\u001b[0m\u001b[1;33m(\u001b[0m\u001b[1;34m'Must pass 2-d input'\u001b[0m\u001b[1;33m)\u001b[0m\u001b[1;33m\u001b[0m\u001b[1;33m\u001b[0m\u001b[0m\n\u001b[0m\u001b[0;32m   7449\u001b[0m \u001b[1;33m\u001b[0m\u001b[0m\n\u001b[0;32m   7450\u001b[0m     \u001b[1;32mreturn\u001b[0m \u001b[0mvalues\u001b[0m\u001b[1;33m\u001b[0m\u001b[1;33m\u001b[0m\u001b[0m\n",
      "\u001b[1;31mValueError\u001b[0m: Must pass 2-d input"
     ]
    }
   ],
   "source": [
    "with open('d3data128.pickle', 'rb') as f:\n",
    "    d3data128 = pickle.load(f)\n",
    "\n",
    "for i in range(10, 17):\n",
    "    currmodel = MyCAutoencoder(i)\n",
    "    train_loss, test_loss, train_ac, test_ac = train(currmodel, d3data128, N, 0.001)\n",
    "    res.write('*' * 20 + '\\n')\n",
    "    res.write(str(type(currmodel)) + str(i) + '\\n')\n",
    "    res.write('(Train/Test) MSE: {0:.3f}/{1:.3f}\\tAccuracy: {2:.3f}/{3:.3f}\\n'.format(\n",
    "                train_loss, test_loss,\n",
    "                train_ac, test_ac))\n",
    "\n",
    "    X1 = currmodel.encode(Variable(torch.Tensor(d3data128)))\n",
    "    X1 = pd.DataFrame(X1)\n",
    "    data = pd.concat([X1, other], axis=1)\n",
    "    f1 = check_models(data, y, metric='f1')\n",
    "    res.write(str(f1) + '\\n')\n",
    "    break\n",
    "res.close()"
   ]
  },
  {
   "cell_type": "code",
   "execution_count": 51,
   "metadata": {},
   "outputs": [
    {
     "data": {
      "text/plain": [
       "175"
      ]
     },
     "execution_count": 51,
     "metadata": {},
     "output_type": "execute_result"
    }
   ],
   "source": [
    "X1 = pd.DataFrame(X1.reshape(-1, 10))\n",
    "data = pd.concat([X1, other], axis=1)\n",
    "f1 = check_models(data, y, metric='f1')\n",
    "res.write(str(f1) + '\\n')"
   ]
  },
  {
   "cell_type": "code",
   "execution_count": 52,
   "metadata": {},
   "outputs": [
    {
     "data": {
      "text/plain": [
       "{'LogisticRegression': 0.9356416602524019,\n",
       " 'DecisionTree': 1.0,\n",
       " 'GaussianNB': 0.9175548323112119,\n",
       " 'SVC': 1.0,\n",
       " 'SGD': 0.8965541913145783,\n",
       " 'GaussianProcess': 1.0,\n",
       " 'XGBoost': 0}"
      ]
     },
     "execution_count": 52,
     "metadata": {},
     "output_type": "execute_result"
    }
   ],
   "source": [
    "f1"
   ]
  },
  {
   "cell_type": "code",
   "execution_count": 38,
   "metadata": {},
   "outputs": [
    {
     "name": "stdout",
     "output_type": "stream",
     "text": [
      "{\"'__main__.MyAutoencoder64'\": {\"'LogisticRegression'\": [0.9347364994687926, 0.9361354797295549, 0.9359968205116143, 0.9350156658815901, 0.9359989608592658, 0.9352741398504136, 0.9345006188998815], \" 'DecisionTree'\": [0.9981192223978494, 0.9990052801282404, 0.9987829400241777, 0.997676255054467, 0.9982299646397795, 0.9978978606868927, 0.9955738712784447], \" 'GaussianNB'\": [0.8813056369157524, 0.8743307972072601, 0.8674407335393368, 0.8505178298254339, 0.8627962767673953, 0.7876586212822984, 0.8231459642207973], \" 'SVC'\": [1.0, 1.0, 1.0, 1.0, 1.0, 1.0, 1.0], \" 'SGD'\": [0.9034260418115647, 0.9069351762281682, 0.9241600236128911, 0.9243942798626554, 0.8787837628759668, 0.8780296710557849, 0.8760187902491967], \" 'GaussianProcess'\": [0.9999370673379484, 1.0, 1.0, 1.0, 1.0, 1.0, 1.0]}, \"'__main__.MySparceAutoencoder64'\": {\"'LogisticRegression'\": [0.9358621745778384, 0.9355161613142089, 0.9356416602524019, 0.9356416602524019, 0.935516244162802, 0.9356416602524019, 0.9356416602524019], \" 'DecisionTree'\": [0.9982304543777787, 0.99823057606779, 0.9983404621480714, 0.9985626794792306, 0.9987823280547211, 0.9975657572754519, 0.9970127818910536], \" 'GaussianNB'\": [0.8225334938197749, 0.8441807785166038, 0.7302689799610331, 0.7659833603783214, 0.7569960939172438, 0.661297453463142, 0.771680400072759], \" 'SVC'\": [0.9902452900452635, 0.9902503308815325, 0.9902483228918741, 0.9902480288152147, 0.9902467493000892, 0.9902497868190805, 0.990249183745284], \" 'SGD'\": [0.8740558160561154, 0.8731391521251913, 0.9003724913079468, 0.9094653674180309, 0.817167522226401, 0.8569830613702312, 0.823000986283126], \" 'GaussianProcess'\": [1.0, 1.0, 1.0, 1.0, 1.0, 1.0, 1.0]}, \"'__main__.MyDeepAutoencoder64'\": {\"'LogisticRegression'\": [0.9356416602524019, 0.9356416602524019, 0.9356416602524019, 0.9356416602524019, 0.9356416602524019, 0.9356416602524019, 0.9356416602524019], \" 'DecisionTree'\": [1.0, 1.0, 1.0, 0.9998893805309734, 1.0, 1.0, 1.0], \" 'GaussianNB'\": [0.9038657661172993, 0.9038710928113606, 0.9026121552895369, 0.9038713807290295, 0.9027108683691282, 0.9028105749050512, 0.9038583995973426], \" 'SVC'\": [1.0, 1.0, 1.0, 1.0, 1.0, 1.0, 1.0], \" 'SGD'\": [0.9223802458856147, 0.8795621782836396, 0.9050321824581893, 0.9154496690536428, 0.8800825902046631, 0.8991114019356031, 0.8648699999151482], \" 'GaussianProcess'\": [1.0, 1.0, 1.0, 1.0, 1.0, 1.0, 1.0]}, \"'__main__.MyDeepSparceAutoencoder64'\": {\"'LogisticRegression'\": [0.9356416602524019, 0.9356416602524019, 0.9356416602524019, 0.9356416602524019, 0.9356416602524019, 0.9356416602524019, 0.9356416602524019], \" 'DecisionTree'\": [1.0, 0.9998895027624309, 1.0, 0.9998893805309734, 1.0, 1.0, 1.0], \" 'GaussianNB'\": [0.6422720248982492, 0.8449488147135424, 0.9038800777558134, 0.8261715714242293, 0.903879163649051, 0.7440431727317212, 0.9038490283856742], \" 'SVC'\": [0.9902457370977071, 0.9902460039316034, 0.9902436396526217, 0.9902469875170061, 0.9902473725507404, 0.9902498348199422, 0.9902498339751702], \" 'SGD'\": [0.889292641453822, 0.9044715448881979, 0.8664382925743543, 0.8940741381084262, 0.9125010755503933, 0.8550605279160216, 0.878955778290468], \" 'GaussianProcess'\": [1.0, 1.0, 1.0, 1.0, 1.0, 1.0, 1.0]}, \"'__main__.MyCAutoencoder'\": {\"'LogisticRegression'\": [0.9356416602524019], \" 'DecisionTree'\": [1.0], \" 'GaussianNB'\": [0.9175548323112119], \" 'SVC'\": [1.0], \" 'SGD'\": [0.8965541913145783], \" 'GaussianProcess'\": [1.0]}}\n"
     ]
    }
   ],
   "source": [
    "f = open('out.txt')\n",
    "cur = 0\n",
    "result = {}\n",
    "for l in f:\n",
    "    if cur == 0:\n",
    "        pass\n",
    "    elif cur == 1:\n",
    "        model = (l[7:].split('>')[0], int(l[7:].split('>')[1]))\n",
    "    elif cur == 2:\n",
    "        pass\n",
    "    elif cur == 3:\n",
    "        res = {}\n",
    "        l = l[1:-2]\n",
    "        for i in l.split(','):\n",
    "            res[i.split(':')[0]] = float(i.split(':')[1])\n",
    "        for a, b in res.items():\n",
    "            if 'XGBoost' in a:\n",
    "                continue\n",
    "            try:\n",
    "                result[model[0]][a].append(b)\n",
    "            except:\n",
    "                try:\n",
    "                    result[model[0]][a] = []\n",
    "                    result[model[0]][a].append(b)\n",
    "                except:\n",
    "                    result[model[0]] = {}\n",
    "                    result[model[0]][a] = []\n",
    "                    result[model[0]][a].append(b)\n",
    "    cur = (cur + 1) % 4\n",
    "print(result)"
   ]
  },
  {
   "cell_type": "code",
   "execution_count": 26,
   "metadata": {},
   "outputs": [],
   "source": [
    "import matplotlib.pyplot as plt\n",
    "\n",
    "%matplotlib inline"
   ]
  },
  {
   "cell_type": "code",
   "execution_count": 47,
   "metadata": {
    "scrolled": false
   },
   "outputs": [
    {
     "data": {
      "image/png": "[encoded data removed]",
      "text/plain": [
       "<Figure size 432x288 with 1 Axes>"
      ]
     },
     "metadata": {
      "needs_background": "light"
     },
     "output_type": "display_data"
    },
    {
     "data": {
      "image/png": "[encoded data removed]",
      "text/plain": [
       "<Figure size 432x288 with 1 Axes>"
      ]
     },
     "metadata": {
      "needs_background": "light"
     },
     "output_type": "display_data"
    },
    {
     "data": {
      "image/png": "[encoded data removed]",
      "text/plain": [
       "<Figure size 432x288 with 1 Axes>"
      ]
     },
     "metadata": {
      "needs_background": "light"
     },
     "output_type": "display_data"
    },
    {
     "data": {
      "image/png": "[encoded data removed]",
      "text/plain": [
       "<Figure size 432x288 with 1 Axes>"
      ]
     },
     "metadata": {
      "needs_background": "light"
     },
     "output_type": "display_data"
    },
    {
     "data": {
      "image/png": "[encoded data removed]",
      "text/plain": [
       "<Figure size 432x288 with 1 Axes>"
      ]
     },
     "metadata": {
      "needs_background": "light"
     },
     "output_type": "display_data"
    },
    {
     "data": {
      "image/png": "[encoded data removed]",
      "text/plain": [
       "<Figure size 432x288 with 1 Axes>"
      ]
     },
     "metadata": {
      "needs_background": "light"
     },
     "output_type": "display_data"
    }
   ],
   "source": [
    "fig, axes = plt.subplots()\n",
    "for models in result.items():\n",
    "    fig, axes = plt.subplots()\n",
    "    for model in models[1].items():\n",
    "        axes.set_title(models[0][10:-1])\n",
    "        axes.set_ylim(bottom=0.)\n",
    "        axes.plot(range(10, len(model[1]) + 10), model[1], label=model[0])\n",
    "        axes.set_ylabel(u'score')\n",
    "        axes.set_xlabel(u'ncomp')\n",
    "        axes.legend()"
   ]
  }
 ],
 "metadata": {
  "kernelspec": {
   "display_name": "Python 3",
   "language": "python",
   "name": "python3"
  },
  "language_info": {
   "codemirror_mode": {
    "name": "ipython",
    "version": 3
   },
   "file_extension": ".py",
   "mimetype": "text/x-python",
   "name": "python",
   "nbconvert_exporter": "python",
   "pygments_lexer": "ipython3",
   "version": "3.7.1"
  }
 },
 "nbformat": 4,
 "nbformat_minor": 2
}
